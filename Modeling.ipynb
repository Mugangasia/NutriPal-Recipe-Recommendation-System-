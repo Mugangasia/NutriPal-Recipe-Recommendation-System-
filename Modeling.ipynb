{
  "cells": [
    {
      "cell_type": "code",
      "execution_count": 83,
      "metadata": {
        "id": "3cnEGBOuJ76a"
      },
      "outputs": [],
      "source": [
        "import pandas as pd\n",
        "import numpy as np\n",
        "\n",
        "# For data visualization and plotting\n",
        "import matplotlib.pyplot as plt\n",
        "import seaborn as sns\n",
        "\n",
        "# For machine learning algorithms and model building\n",
        "from sklearn.model_selection import train_test_split\n",
        "from sklearn.preprocessing import StandardScaler\n",
        "from sklearn.metrics import accuracy_score, classification_report\n",
        "\n",
        "# For recommendation systems\n",
        "from sklearn.metrics.pairwise import cosine_similarity\n",
        "\n",
        "import pickle\n",
        "from sklearn.feature_extraction.text import TfidfVectorizer\n",
        "from sklearn.linear_model import LinearRegression\n",
        "from sklearn.metrics import mean_squared_error\n",
        "from sklearn.model_selection import train_test_split\n",
        "\n",
        "from sklearn.preprocessing import MinMaxScaler\n",
        "\n",
        "from sklearn.feature_extraction.text import TfidfVectorizer\n",
        "from sklearn.metrics.pairwise import cosine_similarity"
      ]
    },
    {
      "cell_type": "code",
      "execution_count": 84,
      "metadata": {
        "colab": {
          "base_uri": "https://localhost:8080/",
          "height": 404
        },
        "id": "MKU-FuuUJ76h",
        "outputId": "b4426179-cc4f-458f-8b2b-4715366c3f0d",
        "scrolled": true
      },
      "outputs": [
        {
          "data": {
            "text/html": [
              "<div>\n",
              "<style scoped>\n",
              "    .dataframe tbody tr th:only-of-type {\n",
              "        vertical-align: middle;\n",
              "    }\n",
              "\n",
              "    .dataframe tbody tr th {\n",
              "        vertical-align: top;\n",
              "    }\n",
              "\n",
              "    .dataframe thead th {\n",
              "        text-align: right;\n",
              "    }\n",
              "</style>\n",
              "<table border=\"1\" class=\"dataframe\">\n",
              "  <thead>\n",
              "    <tr style=\"text-align: right;\">\n",
              "      <th></th>\n",
              "      <th>Unnamed: 0</th>\n",
              "      <th>name</th>\n",
              "      <th>serving_size</th>\n",
              "      <th>calories</th>\n",
              "      <th>total_fat</th>\n",
              "      <th>saturated_fat</th>\n",
              "      <th>cholesterol</th>\n",
              "      <th>sodium</th>\n",
              "      <th>choline</th>\n",
              "      <th>folate</th>\n",
              "      <th>...</th>\n",
              "      <th>fat</th>\n",
              "      <th>saturated_fatty_acids</th>\n",
              "      <th>monounsaturated_fatty_acids</th>\n",
              "      <th>polyunsaturated_fatty_acids</th>\n",
              "      <th>fatty_acids_total_trans</th>\n",
              "      <th>alcohol</th>\n",
              "      <th>ash</th>\n",
              "      <th>caffeine</th>\n",
              "      <th>theobromine</th>\n",
              "      <th>water</th>\n",
              "    </tr>\n",
              "  </thead>\n",
              "  <tbody>\n",
              "    <tr>\n",
              "      <th>0</th>\n",
              "      <td>0</td>\n",
              "      <td>Cornstarch</td>\n",
              "      <td>100 g</td>\n",
              "      <td>381</td>\n",
              "      <td>0.1g</td>\n",
              "      <td>NaN</td>\n",
              "      <td>0</td>\n",
              "      <td>9.00 mg</td>\n",
              "      <td>0.4 mg</td>\n",
              "      <td>0.00 mcg</td>\n",
              "      <td>...</td>\n",
              "      <td>0.05 g</td>\n",
              "      <td>0.009 g</td>\n",
              "      <td>0.016 g</td>\n",
              "      <td>0.025 g</td>\n",
              "      <td>0.00 mg</td>\n",
              "      <td>0.0 g</td>\n",
              "      <td>0.09 g</td>\n",
              "      <td>0.00 mg</td>\n",
              "      <td>0.00 mg</td>\n",
              "      <td>8.32 g</td>\n",
              "    </tr>\n",
              "    <tr>\n",
              "      <th>1</th>\n",
              "      <td>1</td>\n",
              "      <td>Nuts, pecans</td>\n",
              "      <td>100 g</td>\n",
              "      <td>691</td>\n",
              "      <td>72g</td>\n",
              "      <td>6.2g</td>\n",
              "      <td>0</td>\n",
              "      <td>0.00 mg</td>\n",
              "      <td>40.5 mg</td>\n",
              "      <td>22.00 mcg</td>\n",
              "      <td>...</td>\n",
              "      <td>71.97 g</td>\n",
              "      <td>6.180 g</td>\n",
              "      <td>40.801 g</td>\n",
              "      <td>21.614 g</td>\n",
              "      <td>0.00 mg</td>\n",
              "      <td>0.0 g</td>\n",
              "      <td>1.49 g</td>\n",
              "      <td>0.00 mg</td>\n",
              "      <td>0.00 mg</td>\n",
              "      <td>3.52 g</td>\n",
              "    </tr>\n",
              "    <tr>\n",
              "      <th>2</th>\n",
              "      <td>2</td>\n",
              "      <td>Eggplant, raw</td>\n",
              "      <td>100 g</td>\n",
              "      <td>25</td>\n",
              "      <td>0.2g</td>\n",
              "      <td>NaN</td>\n",
              "      <td>0</td>\n",
              "      <td>2.00 mg</td>\n",
              "      <td>6.9 mg</td>\n",
              "      <td>22.00 mcg</td>\n",
              "      <td>...</td>\n",
              "      <td>0.18 g</td>\n",
              "      <td>0.034 g</td>\n",
              "      <td>0.016 g</td>\n",
              "      <td>0.076 g</td>\n",
              "      <td>0.00 mg</td>\n",
              "      <td>0.0 g</td>\n",
              "      <td>0.66 g</td>\n",
              "      <td>0.00 mg</td>\n",
              "      <td>0.00 mg</td>\n",
              "      <td>92.30 g</td>\n",
              "    </tr>\n",
              "    <tr>\n",
              "      <th>3</th>\n",
              "      <td>3</td>\n",
              "      <td>Teff, uncooked</td>\n",
              "      <td>100 g</td>\n",
              "      <td>367</td>\n",
              "      <td>2.4g</td>\n",
              "      <td>0.4g</td>\n",
              "      <td>0</td>\n",
              "      <td>12.00 mg</td>\n",
              "      <td>13.1 mg</td>\n",
              "      <td>0</td>\n",
              "      <td>...</td>\n",
              "      <td>2.38 g</td>\n",
              "      <td>0.449 g</td>\n",
              "      <td>0.589 g</td>\n",
              "      <td>1.071 g</td>\n",
              "      <td>0</td>\n",
              "      <td>0</td>\n",
              "      <td>2.37 g</td>\n",
              "      <td>0</td>\n",
              "      <td>0</td>\n",
              "      <td>8.82 g</td>\n",
              "    </tr>\n",
              "    <tr>\n",
              "      <th>4</th>\n",
              "      <td>4</td>\n",
              "      <td>Sherbet, orange</td>\n",
              "      <td>100 g</td>\n",
              "      <td>144</td>\n",
              "      <td>2g</td>\n",
              "      <td>1.2g</td>\n",
              "      <td>1mg</td>\n",
              "      <td>46.00 mg</td>\n",
              "      <td>7.7 mg</td>\n",
              "      <td>4.00 mcg</td>\n",
              "      <td>...</td>\n",
              "      <td>2.00 g</td>\n",
              "      <td>1.160 g</td>\n",
              "      <td>0.530 g</td>\n",
              "      <td>0.080 g</td>\n",
              "      <td>1.00 mg</td>\n",
              "      <td>0.0 g</td>\n",
              "      <td>0.40 g</td>\n",
              "      <td>0.00 mg</td>\n",
              "      <td>0.00 mg</td>\n",
              "      <td>66.10 g</td>\n",
              "    </tr>\n",
              "  </tbody>\n",
              "</table>\n",
              "<p>5 rows × 77 columns</p>\n",
              "</div>"
            ],
            "text/plain": [
              "   Unnamed: 0             name serving_size  calories total_fat saturated_fat  \\\n",
              "0           0       Cornstarch        100 g       381      0.1g           NaN   \n",
              "1           1     Nuts, pecans        100 g       691       72g          6.2g   \n",
              "2           2    Eggplant, raw        100 g        25      0.2g           NaN   \n",
              "3           3   Teff, uncooked        100 g       367      2.4g          0.4g   \n",
              "4           4  Sherbet, orange        100 g       144        2g          1.2g   \n",
              "\n",
              "  cholesterol    sodium  choline     folate  ...      fat  \\\n",
              "0           0   9.00 mg   0.4 mg   0.00 mcg  ...   0.05 g   \n",
              "1           0   0.00 mg  40.5 mg  22.00 mcg  ...  71.97 g   \n",
              "2           0   2.00 mg   6.9 mg  22.00 mcg  ...   0.18 g   \n",
              "3           0  12.00 mg  13.1 mg          0  ...   2.38 g   \n",
              "4         1mg  46.00 mg   7.7 mg   4.00 mcg  ...   2.00 g   \n",
              "\n",
              "  saturated_fatty_acids monounsaturated_fatty_acids  \\\n",
              "0               0.009 g                     0.016 g   \n",
              "1               6.180 g                    40.801 g   \n",
              "2               0.034 g                     0.016 g   \n",
              "3               0.449 g                     0.589 g   \n",
              "4               1.160 g                     0.530 g   \n",
              "\n",
              "  polyunsaturated_fatty_acids fatty_acids_total_trans alcohol     ash  \\\n",
              "0                     0.025 g                 0.00 mg   0.0 g  0.09 g   \n",
              "1                    21.614 g                 0.00 mg   0.0 g  1.49 g   \n",
              "2                     0.076 g                 0.00 mg   0.0 g  0.66 g   \n",
              "3                     1.071 g                       0       0  2.37 g   \n",
              "4                     0.080 g                 1.00 mg   0.0 g  0.40 g   \n",
              "\n",
              "  caffeine theobromine    water  \n",
              "0  0.00 mg     0.00 mg   8.32 g  \n",
              "1  0.00 mg     0.00 mg   3.52 g  \n",
              "2  0.00 mg     0.00 mg  92.30 g  \n",
              "3        0           0   8.82 g  \n",
              "4  0.00 mg     0.00 mg  66.10 g  \n",
              "\n",
              "[5 rows x 77 columns]"
            ]
          },
          "execution_count": 84,
          "metadata": {},
          "output_type": "execute_result"
        }
      ],
      "source": [
        "nutrition_df = pd.read_csv('nutrition.csv')\n",
        "nutrition_df.head()"
      ]
    },
    {
      "cell_type": "code",
      "execution_count": 85,
      "metadata": {
        "colab": {
          "base_uri": "https://localhost:8080/",
          "height": 496
        },
        "id": "GIWRiUK4J76j",
        "outputId": "b6427e16-f3fe-4638-9dae-f5e71ea5a016"
      },
      "outputs": [
        {
          "name": "stderr",
          "output_type": "stream",
          "text": [
            "C:\\Users\\user\\AppData\\Local\\Temp\\ipykernel_15496\\2175784219.py:1: FutureWarning: The error_bad_lines argument has been deprecated and will be removed in a future version. Use on_bad_lines in the future.\n",
            "\n",
            "\n",
            "  recipes_ke = pd.read_csv('Kenyan_recipe.csv', error_bad_lines=False)\n"
          ]
        },
        {
          "data": {
            "text/html": [
              "<div>\n",
              "<style scoped>\n",
              "    .dataframe tbody tr th:only-of-type {\n",
              "        vertical-align: middle;\n",
              "    }\n",
              "\n",
              "    .dataframe tbody tr th {\n",
              "        vertical-align: top;\n",
              "    }\n",
              "\n",
              "    .dataframe thead th {\n",
              "        text-align: right;\n",
              "    }\n",
              "</style>\n",
              "<table border=\"1\" class=\"dataframe\">\n",
              "  <thead>\n",
              "    <tr style=\"text-align: right;\">\n",
              "      <th></th>\n",
              "      <th>name</th>\n",
              "      <th>minutes</th>\n",
              "      <th>ingredients</th>\n",
              "      <th>steps</th>\n",
              "      <th>Serving</th>\n",
              "      <th>calories</th>\n",
              "      <th>total fat (PDV)</th>\n",
              "      <th>sugar (PDV)</th>\n",
              "      <th>sodium (PDV)</th>\n",
              "      <th>protein (PDV)</th>\n",
              "      <th>saturated fat (PDV)</th>\n",
              "      <th>carbohydrates (PDV)</th>\n",
              "    </tr>\n",
              "  </thead>\n",
              "  <tbody>\n",
              "    <tr>\n",
              "      <th>0</th>\n",
              "      <td>Ugali and omena</td>\n",
              "      <td>30</td>\n",
              "      <td>Maize flour\\nOmena\\nOil\\n3 chopped tomatoes\\nC...</td>\n",
              "      <td>Step 1\\nBoil 3 cups of water add maize flour s...</td>\n",
              "      <td>4.0</td>\n",
              "      <td>91</td>\n",
              "      <td>30</td>\n",
              "      <td>203</td>\n",
              "      <td>29</td>\n",
              "      <td>192</td>\n",
              "      <td>172</td>\n",
              "      <td>182</td>\n",
              "    </tr>\n",
              "    <tr>\n",
              "      <th>1</th>\n",
              "      <td>Kienyeji fried</td>\n",
              "      <td>25</td>\n",
              "      <td>1 table spoon salt\\n2 table spoon cooking vege...</td>\n",
              "      <td>Asemble the vegetables.\\nPluck leaves from the...</td>\n",
              "      <td>1.0</td>\n",
              "      <td>230</td>\n",
              "      <td>173</td>\n",
              "      <td>247</td>\n",
              "      <td>196</td>\n",
              "      <td>87</td>\n",
              "      <td>200</td>\n",
              "      <td>239</td>\n",
              "    </tr>\n",
              "    <tr>\n",
              "      <th>2</th>\n",
              "      <td>dengu Chapati</td>\n",
              "      <td>30</td>\n",
              "      <td>Ndengu\\ncubes congets diced in\\ncubes carrots ...</td>\n",
              "      <td>Step 1\\nSteam the mince meat and add oil then ...</td>\n",
              "      <td>4.0</td>\n",
              "      <td>138</td>\n",
              "      <td>211</td>\n",
              "      <td>131</td>\n",
              "      <td>260</td>\n",
              "      <td>84</td>\n",
              "      <td>75</td>\n",
              "      <td>275</td>\n",
              "    </tr>\n",
              "    <tr>\n",
              "      <th>3</th>\n",
              "      <td>Ugali matumbo ft african salad</td>\n",
              "      <td>60</td>\n",
              "      <td>400 g Maize flour \\n20 g Onions \\n11/2 kgMatum...</td>\n",
              "      <td>Step 1 Bring the water to boil, add the maize ...</td>\n",
              "      <td>4.0</td>\n",
              "      <td>365</td>\n",
              "      <td>259</td>\n",
              "      <td>71</td>\n",
              "      <td>255</td>\n",
              "      <td>205</td>\n",
              "      <td>20</td>\n",
              "      <td>57</td>\n",
              "    </tr>\n",
              "    <tr>\n",
              "      <th>4</th>\n",
              "      <td>Chicken stew</td>\n",
              "      <td>60</td>\n",
              "      <td>Boiled chicken\\n2 Red onion\\n1 Spring onion\\n4...</td>\n",
              "      <td>Step 1Boil 1 diced potato and 1 diced carrot\\...</td>\n",
              "      <td>2.0</td>\n",
              "      <td>171</td>\n",
              "      <td>35</td>\n",
              "      <td>221</td>\n",
              "      <td>109</td>\n",
              "      <td>219</td>\n",
              "      <td>210</td>\n",
              "      <td>125</td>\n",
              "    </tr>\n",
              "  </tbody>\n",
              "</table>\n",
              "</div>"
            ],
            "text/plain": [
              "                             name minutes  \\\n",
              "0                 Ugali and omena      30   \n",
              "1                  Kienyeji fried      25   \n",
              "2                   dengu Chapati      30   \n",
              "3  Ugali matumbo ft african salad      60   \n",
              "4                    Chicken stew      60   \n",
              "\n",
              "                                         ingredients  \\\n",
              "0  Maize flour\\nOmena\\nOil\\n3 chopped tomatoes\\nC...   \n",
              "1  1 table spoon salt\\n2 table spoon cooking vege...   \n",
              "2  Ndengu\\ncubes congets diced in\\ncubes carrots ...   \n",
              "3  400 g Maize flour \\n20 g Onions \\n11/2 kgMatum...   \n",
              "4  Boiled chicken\\n2 Red onion\\n1 Spring onion\\n4...   \n",
              "\n",
              "                                               steps  Serving  calories  \\\n",
              "0  Step 1\\nBoil 3 cups of water add maize flour s...      4.0        91   \n",
              "1  Asemble the vegetables.\\nPluck leaves from the...      1.0       230   \n",
              "2  Step 1\\nSteam the mince meat and add oil then ...      4.0       138   \n",
              "3  Step 1 Bring the water to boil, add the maize ...      4.0       365   \n",
              "4   Step 1Boil 1 diced potato and 1 diced carrot\\...      2.0       171   \n",
              "\n",
              "   total fat (PDV)  sugar (PDV)  sodium (PDV)  protein (PDV)  \\\n",
              "0               30          203            29            192   \n",
              "1              173          247           196             87   \n",
              "2              211          131           260             84   \n",
              "3              259           71           255            205   \n",
              "4               35          221           109            219   \n",
              "\n",
              "   saturated fat (PDV)  carbohydrates (PDV)  \n",
              "0                  172                  182  \n",
              "1                  200                  239  \n",
              "2                   75                  275  \n",
              "3                   20                   57  \n",
              "4                  210                  125  "
            ]
          },
          "execution_count": 85,
          "metadata": {},
          "output_type": "execute_result"
        }
      ],
      "source": [
        "recipes_ke = pd.read_csv('Kenyan_recipe.csv', error_bad_lines=False)\n",
        "recipes_ke.head()"
      ]
    },
    {
      "cell_type": "code",
      "execution_count": 86,
      "metadata": {
        "colab": {
          "base_uri": "https://localhost:8080/",
          "height": 583
        },
        "id": "XJ5nHtVaJ76k",
        "outputId": "3ceada45-db80-4bb3-974b-82fd332b2476"
      },
      "outputs": [
        {
          "name": "stderr",
          "output_type": "stream",
          "text": [
            "C:\\Users\\user\\AppData\\Local\\Temp\\ipykernel_15496\\3219527911.py:1: FutureWarning: The error_bad_lines argument has been deprecated and will be removed in a future version. Use on_bad_lines in the future.\n",
            "\n",
            "\n",
            "  recipe_df = pd.read_csv('RAW_recipes.csv', error_bad_lines=False)\n"
          ]
        },
        {
          "data": {
            "text/html": [
              "<div>\n",
              "<style scoped>\n",
              "    .dataframe tbody tr th:only-of-type {\n",
              "        vertical-align: middle;\n",
              "    }\n",
              "\n",
              "    .dataframe tbody tr th {\n",
              "        vertical-align: top;\n",
              "    }\n",
              "\n",
              "    .dataframe thead th {\n",
              "        text-align: right;\n",
              "    }\n",
              "</style>\n",
              "<table border=\"1\" class=\"dataframe\">\n",
              "  <thead>\n",
              "    <tr style=\"text-align: right;\">\n",
              "      <th></th>\n",
              "      <th>name</th>\n",
              "      <th>id</th>\n",
              "      <th>minutes</th>\n",
              "      <th>contributor_id</th>\n",
              "      <th>submitted</th>\n",
              "      <th>tags</th>\n",
              "      <th>nutrition</th>\n",
              "      <th>n_steps</th>\n",
              "      <th>steps</th>\n",
              "      <th>description</th>\n",
              "      <th>ingredients</th>\n",
              "      <th>n_ingredients</th>\n",
              "    </tr>\n",
              "  </thead>\n",
              "  <tbody>\n",
              "    <tr>\n",
              "      <th>0</th>\n",
              "      <td>arriba   baked winter squash mexican style</td>\n",
              "      <td>137739</td>\n",
              "      <td>55</td>\n",
              "      <td>47892</td>\n",
              "      <td>2005-09-16</td>\n",
              "      <td>['60-minutes-or-less', 'time-to-make', 'course...</td>\n",
              "      <td>[51.5, 0.0, 13.0, 0.0, 2.0, 0.0, 4.0]</td>\n",
              "      <td>11</td>\n",
              "      <td>['make a choice and proceed with recipe', 'dep...</td>\n",
              "      <td>autumn is my favorite time of year to cook! th...</td>\n",
              "      <td>['winter squash', 'mexican seasoning', 'mixed ...</td>\n",
              "      <td>7</td>\n",
              "    </tr>\n",
              "    <tr>\n",
              "      <th>1</th>\n",
              "      <td>a bit different  breakfast pizza</td>\n",
              "      <td>31490</td>\n",
              "      <td>30</td>\n",
              "      <td>26278</td>\n",
              "      <td>2002-06-17</td>\n",
              "      <td>['30-minutes-or-less', 'time-to-make', 'course...</td>\n",
              "      <td>[173.4, 18.0, 0.0, 17.0, 22.0, 35.0, 1.0]</td>\n",
              "      <td>9</td>\n",
              "      <td>['preheat oven to 425 degrees f', 'press dough...</td>\n",
              "      <td>this recipe calls for the crust to be prebaked...</td>\n",
              "      <td>['prepared pizza crust', 'sausage patty', 'egg...</td>\n",
              "      <td>6</td>\n",
              "    </tr>\n",
              "    <tr>\n",
              "      <th>2</th>\n",
              "      <td>all in the kitchen  chili</td>\n",
              "      <td>112140</td>\n",
              "      <td>130</td>\n",
              "      <td>196586</td>\n",
              "      <td>2005-02-25</td>\n",
              "      <td>['time-to-make', 'course', 'preparation', 'mai...</td>\n",
              "      <td>[269.8, 22.0, 32.0, 48.0, 39.0, 27.0, 5.0]</td>\n",
              "      <td>6</td>\n",
              "      <td>['brown ground beef in large pot', 'add choppe...</td>\n",
              "      <td>this modified version of 'mom's' chili was a h...</td>\n",
              "      <td>['ground beef', 'yellow onions', 'diced tomato...</td>\n",
              "      <td>13</td>\n",
              "    </tr>\n",
              "    <tr>\n",
              "      <th>3</th>\n",
              "      <td>alouette  potatoes</td>\n",
              "      <td>59389</td>\n",
              "      <td>45</td>\n",
              "      <td>68585</td>\n",
              "      <td>2003-04-14</td>\n",
              "      <td>['60-minutes-or-less', 'time-to-make', 'course...</td>\n",
              "      <td>[368.1, 17.0, 10.0, 2.0, 14.0, 8.0, 20.0]</td>\n",
              "      <td>11</td>\n",
              "      <td>['place potatoes in a large pot of lightly sal...</td>\n",
              "      <td>this is a super easy, great tasting, make ahea...</td>\n",
              "      <td>['spreadable cheese with garlic and herbs', 'n...</td>\n",
              "      <td>11</td>\n",
              "    </tr>\n",
              "    <tr>\n",
              "      <th>4</th>\n",
              "      <td>amish  tomato ketchup  for canning</td>\n",
              "      <td>44061</td>\n",
              "      <td>190</td>\n",
              "      <td>41706</td>\n",
              "      <td>2002-10-25</td>\n",
              "      <td>['weeknight', 'time-to-make', 'course', 'main-...</td>\n",
              "      <td>[352.9, 1.0, 337.0, 23.0, 3.0, 0.0, 28.0]</td>\n",
              "      <td>5</td>\n",
              "      <td>['mix all ingredients&amp; boil for 2 1 / 2 hours ...</td>\n",
              "      <td>my dh's amish mother raised him on this recipe...</td>\n",
              "      <td>['tomato juice', 'apple cider vinegar', 'sugar...</td>\n",
              "      <td>8</td>\n",
              "    </tr>\n",
              "  </tbody>\n",
              "</table>\n",
              "</div>"
            ],
            "text/plain": [
              "                                         name      id  minutes  \\\n",
              "0  arriba   baked winter squash mexican style  137739       55   \n",
              "1            a bit different  breakfast pizza   31490       30   \n",
              "2                   all in the kitchen  chili  112140      130   \n",
              "3                          alouette  potatoes   59389       45   \n",
              "4          amish  tomato ketchup  for canning   44061      190   \n",
              "\n",
              "   contributor_id   submitted  \\\n",
              "0           47892  2005-09-16   \n",
              "1           26278  2002-06-17   \n",
              "2          196586  2005-02-25   \n",
              "3           68585  2003-04-14   \n",
              "4           41706  2002-10-25   \n",
              "\n",
              "                                                tags  \\\n",
              "0  ['60-minutes-or-less', 'time-to-make', 'course...   \n",
              "1  ['30-minutes-or-less', 'time-to-make', 'course...   \n",
              "2  ['time-to-make', 'course', 'preparation', 'mai...   \n",
              "3  ['60-minutes-or-less', 'time-to-make', 'course...   \n",
              "4  ['weeknight', 'time-to-make', 'course', 'main-...   \n",
              "\n",
              "                                    nutrition  n_steps  \\\n",
              "0       [51.5, 0.0, 13.0, 0.0, 2.0, 0.0, 4.0]       11   \n",
              "1   [173.4, 18.0, 0.0, 17.0, 22.0, 35.0, 1.0]        9   \n",
              "2  [269.8, 22.0, 32.0, 48.0, 39.0, 27.0, 5.0]        6   \n",
              "3   [368.1, 17.0, 10.0, 2.0, 14.0, 8.0, 20.0]       11   \n",
              "4   [352.9, 1.0, 337.0, 23.0, 3.0, 0.0, 28.0]        5   \n",
              "\n",
              "                                               steps  \\\n",
              "0  ['make a choice and proceed with recipe', 'dep...   \n",
              "1  ['preheat oven to 425 degrees f', 'press dough...   \n",
              "2  ['brown ground beef in large pot', 'add choppe...   \n",
              "3  ['place potatoes in a large pot of lightly sal...   \n",
              "4  ['mix all ingredients& boil for 2 1 / 2 hours ...   \n",
              "\n",
              "                                         description  \\\n",
              "0  autumn is my favorite time of year to cook! th...   \n",
              "1  this recipe calls for the crust to be prebaked...   \n",
              "2  this modified version of 'mom's' chili was a h...   \n",
              "3  this is a super easy, great tasting, make ahea...   \n",
              "4  my dh's amish mother raised him on this recipe...   \n",
              "\n",
              "                                         ingredients  n_ingredients  \n",
              "0  ['winter squash', 'mexican seasoning', 'mixed ...              7  \n",
              "1  ['prepared pizza crust', 'sausage patty', 'egg...              6  \n",
              "2  ['ground beef', 'yellow onions', 'diced tomato...             13  \n",
              "3  ['spreadable cheese with garlic and herbs', 'n...             11  \n",
              "4  ['tomato juice', 'apple cider vinegar', 'sugar...              8  "
            ]
          },
          "execution_count": 86,
          "metadata": {},
          "output_type": "execute_result"
        }
      ],
      "source": [
        "recipe_df = pd.read_csv('RAW_recipes.csv', error_bad_lines=False)\n",
        "recipe_df.head()"
      ]
    },
    {
      "cell_type": "markdown",
      "metadata": {
        "id": "QxaoocgMJ76l"
      },
      "source": [
        "### Data Cleaning"
      ]
    },
    {
      "cell_type": "code",
      "execution_count": 87,
      "metadata": {
        "id": "7vr0ZjvJJ76o"
      },
      "outputs": [],
      "source": [
        "\n",
        "class Dataset:\n",
        "    def __init__(self, filepath):\n",
        "        self.filepath = filepath\n",
        "        self.data = pd.read_csv(filepath)\n",
        "\n",
        "\n",
        "    def clean_data(self, limit=None):\n",
        "        if self.filepath == 'nutrition.csv':\n",
        "            # Drop unnecessary columns\n",
        "            self.data.drop('Unnamed: 0', axis=1, inplace=True)\n",
        "\n",
        "            # Fill missing values with appropriate values\n",
        "            numeric_cols = ['calories', 'total_fat', 'saturated_fat', 'cholesterol', 'sodium', 'choline', 'folate']\n",
        "            self.data[numeric_cols] = self.data[numeric_cols].fillna(0)\n",
        "\n",
        "            text_cols = ['name', 'serving_size']\n",
        "            self.data[text_cols] = self.data[text_cols].fillna('Unknown')\n",
        "\n",
        "            # Convert 'serving_size' column to numeric\n",
        "            self.data['serving_size'] = self.data['serving_size'].str.replace('g', '').astype(float)\n",
        "\n",
        "            # Remove units from numeric columns\n",
        "            unit_cols = ['total_fat', 'saturated_fat']\n",
        "            self.data[unit_cols] = self.data[unit_cols].replace('g', '', regex=True).astype(float)\n",
        "\n",
        "            # Drop rows with missing values\n",
        "            self.data.dropna(inplace=True)\n",
        "\n",
        "            # Drop duplicates\n",
        "            self.data.drop_duplicates(inplace=True)\n",
        "\n",
        "        elif self.filepath == 'Kenyan_recipe.csv':\n",
        "            # Iterate over each row and clean the 'ingredients' and 'steps' columns\n",
        "            for index, row in self.data.iterrows():\n",
        "                ingredients = row['ingredients']\n",
        "                if isinstance(ingredients, str):\n",
        "                    ingredients = ingredients.replace('\\n', ',')\n",
        "                    self.data.at[index, 'ingredients'] = ingredients\n",
        "\n",
        "                steps = row['steps']\n",
        "                if isinstance(steps, str):\n",
        "                    steps = steps.replace('\\n', ',')\n",
        "                    self.data.at[index, 'steps'] = steps\n",
        "\n",
        "            # Drop rows with missing values\n",
        "            self.data.dropna(inplace=True)\n",
        "\n",
        "            # Drop duplicates\n",
        "            self.data.drop_duplicates(inplace=True)\n",
        "\n",
        "        elif self.filepath == 'RAW_recipes.csv':\n",
        "            # Drop rows with missing values\n",
        "            self.data.dropna(inplace=True)\n",
        "\n",
        "            # Drop duplicates\n",
        "            self.data.drop_duplicates(inplace=True)\n",
        "\n",
        "        else:\n",
        "            print(\"Invalid filepath provided!\")\n",
        "\n",
        "        if limit is not None:\n",
        "            self.data = self.data.head(limit)\n",
        "\n",
        "    def get_info(self):\n",
        "        return self.data.info()"
      ]
    },
    {
      "attachments": {},
      "cell_type": "markdown",
      "metadata": {},
      "source": [
        "The clean_data method is responsible for cleaning the loaded data based on the provided filepath. It performs different cleaning operations depending on the specific dataset file.\n",
        "\n",
        "* For the file 'nutrition.csv', it drops unnecessary columns, fills missing values in numeric and text columns, converts the 'serving_size' column to numeric, removes units from numeric columns, drops rows with missing values, and drops duplicate rows.\n",
        "\n",
        "* For the file 'Kenyan_recipe.csv', it iterates over each row and cleans the 'ingredients' and 'steps' columns by replacing newline characters with commas. It also drops rows with missing values and duplicate rows.\n",
        "\n",
        "* For the file 'RAW_recipes.csv', it simply drops rows with missing values and duplicate rows.\n",
        "\n",
        "\n"
      ]
    },
    {
      "cell_type": "code",
      "execution_count": 88,
      "metadata": {
        "id": "K11-l5t9J76w"
      },
      "outputs": [],
      "source": [
        "nutrition_df = Dataset('nutrition.csv')\n",
        "nutrition_df.clean_data(limit=None)"
      ]
    },
    {
      "cell_type": "code",
      "execution_count": 89,
      "metadata": {
        "id": "dRJjvpnjJ76y"
      },
      "outputs": [],
      "source": [
        "recipes_ke = Dataset('Kenyan_recipe.csv')\n",
        "recipes_ke.clean_data(limit=None)"
      ]
    },
    {
      "cell_type": "code",
      "execution_count": 90,
      "metadata": {
        "id": "uOEL9Bf9J76z"
      },
      "outputs": [],
      "source": [
        "recipes_df= Dataset('RAW_recipes.csv')\n",
        "recipes_df.clean_data(limit=1000)"
      ]
    },
    {
      "attachments": {},
      "cell_type": "markdown",
      "metadata": {},
      "source": [
        "* Saving the Cleaned Kenyan and Recipe Data as new csv files."
      ]
    },
    {
      "cell_type": "code",
      "execution_count": 91,
      "metadata": {
        "colab": {
          "base_uri": "https://localhost:8080/"
        },
        "id": "kaVbEaYHJ760",
        "outputId": "ecd25122-3370-464c-b664-1cbe82630efd"
      },
      "outputs": [
        {
          "name": "stdout",
          "output_type": "stream",
          "text": [
            "<class 'pandas.core.frame.DataFrame'>\n",
            "Int64Index: 1000 entries, 0 to 1011\n",
            "Data columns (total 12 columns):\n",
            " #   Column          Non-Null Count  Dtype \n",
            "---  ------          --------------  ----- \n",
            " 0   name            1000 non-null   object\n",
            " 1   id              1000 non-null   int64 \n",
            " 2   minutes         1000 non-null   int64 \n",
            " 3   contributor_id  1000 non-null   int64 \n",
            " 4   submitted       1000 non-null   object\n",
            " 5   tags            1000 non-null   object\n",
            " 6   nutrition       1000 non-null   object\n",
            " 7   n_steps         1000 non-null   int64 \n",
            " 8   steps           1000 non-null   object\n",
            " 9   description     1000 non-null   object\n",
            " 10  ingredients     1000 non-null   object\n",
            " 11  n_ingredients   1000 non-null   int64 \n",
            "dtypes: int64(5), object(7)\n",
            "memory usage: 101.6+ KB\n"
          ]
        }
      ],
      "source": [
        "recipes_df.get_info()"
      ]
    },
    {
      "cell_type": "code",
      "execution_count": 92,
      "metadata": {
        "colab": {
          "base_uri": "https://localhost:8080/",
          "height": 386
        },
        "id": "AVVDsAvgJ761",
        "outputId": "bcd052ac-7fe2-4a79-a9aa-bb9f7ec4375a"
      },
      "outputs": [
        {
          "data": {
            "text/html": [
              "<div>\n",
              "<style scoped>\n",
              "    .dataframe tbody tr th:only-of-type {\n",
              "        vertical-align: middle;\n",
              "    }\n",
              "\n",
              "    .dataframe tbody tr th {\n",
              "        vertical-align: top;\n",
              "    }\n",
              "\n",
              "    .dataframe thead th {\n",
              "        text-align: right;\n",
              "    }\n",
              "</style>\n",
              "<table border=\"1\" class=\"dataframe\">\n",
              "  <thead>\n",
              "    <tr style=\"text-align: right;\">\n",
              "      <th></th>\n",
              "      <th>name</th>\n",
              "      <th>serving_size</th>\n",
              "      <th>calories</th>\n",
              "      <th>total_fat</th>\n",
              "      <th>saturated_fat</th>\n",
              "      <th>cholesterol</th>\n",
              "      <th>sodium</th>\n",
              "      <th>choline</th>\n",
              "      <th>folate</th>\n",
              "      <th>folic_acid</th>\n",
              "      <th>...</th>\n",
              "      <th>fat</th>\n",
              "      <th>saturated_fatty_acids</th>\n",
              "      <th>monounsaturated_fatty_acids</th>\n",
              "      <th>polyunsaturated_fatty_acids</th>\n",
              "      <th>fatty_acids_total_trans</th>\n",
              "      <th>alcohol</th>\n",
              "      <th>ash</th>\n",
              "      <th>caffeine</th>\n",
              "      <th>theobromine</th>\n",
              "      <th>water</th>\n",
              "    </tr>\n",
              "  </thead>\n",
              "  <tbody>\n",
              "    <tr>\n",
              "      <th>0</th>\n",
              "      <td>Cornstarch</td>\n",
              "      <td>100.0</td>\n",
              "      <td>381</td>\n",
              "      <td>0.1</td>\n",
              "      <td>0.0</td>\n",
              "      <td>0</td>\n",
              "      <td>9.00 mg</td>\n",
              "      <td>0.4 mg</td>\n",
              "      <td>0.00 mcg</td>\n",
              "      <td>0.00 mcg</td>\n",
              "      <td>...</td>\n",
              "      <td>0.05 g</td>\n",
              "      <td>0.009 g</td>\n",
              "      <td>0.016 g</td>\n",
              "      <td>0.025 g</td>\n",
              "      <td>0.00 mg</td>\n",
              "      <td>0.0 g</td>\n",
              "      <td>0.09 g</td>\n",
              "      <td>0.00 mg</td>\n",
              "      <td>0.00 mg</td>\n",
              "      <td>8.32 g</td>\n",
              "    </tr>\n",
              "    <tr>\n",
              "      <th>1</th>\n",
              "      <td>Nuts, pecans</td>\n",
              "      <td>100.0</td>\n",
              "      <td>691</td>\n",
              "      <td>72.0</td>\n",
              "      <td>6.2</td>\n",
              "      <td>0</td>\n",
              "      <td>0.00 mg</td>\n",
              "      <td>40.5 mg</td>\n",
              "      <td>22.00 mcg</td>\n",
              "      <td>0.00 mcg</td>\n",
              "      <td>...</td>\n",
              "      <td>71.97 g</td>\n",
              "      <td>6.180 g</td>\n",
              "      <td>40.801 g</td>\n",
              "      <td>21.614 g</td>\n",
              "      <td>0.00 mg</td>\n",
              "      <td>0.0 g</td>\n",
              "      <td>1.49 g</td>\n",
              "      <td>0.00 mg</td>\n",
              "      <td>0.00 mg</td>\n",
              "      <td>3.52 g</td>\n",
              "    </tr>\n",
              "    <tr>\n",
              "      <th>2</th>\n",
              "      <td>Eggplant, raw</td>\n",
              "      <td>100.0</td>\n",
              "      <td>25</td>\n",
              "      <td>0.2</td>\n",
              "      <td>0.0</td>\n",
              "      <td>0</td>\n",
              "      <td>2.00 mg</td>\n",
              "      <td>6.9 mg</td>\n",
              "      <td>22.00 mcg</td>\n",
              "      <td>0.00 mcg</td>\n",
              "      <td>...</td>\n",
              "      <td>0.18 g</td>\n",
              "      <td>0.034 g</td>\n",
              "      <td>0.016 g</td>\n",
              "      <td>0.076 g</td>\n",
              "      <td>0.00 mg</td>\n",
              "      <td>0.0 g</td>\n",
              "      <td>0.66 g</td>\n",
              "      <td>0.00 mg</td>\n",
              "      <td>0.00 mg</td>\n",
              "      <td>92.30 g</td>\n",
              "    </tr>\n",
              "    <tr>\n",
              "      <th>3</th>\n",
              "      <td>Teff, uncooked</td>\n",
              "      <td>100.0</td>\n",
              "      <td>367</td>\n",
              "      <td>2.4</td>\n",
              "      <td>0.4</td>\n",
              "      <td>0</td>\n",
              "      <td>12.00 mg</td>\n",
              "      <td>13.1 mg</td>\n",
              "      <td>0</td>\n",
              "      <td>0</td>\n",
              "      <td>...</td>\n",
              "      <td>2.38 g</td>\n",
              "      <td>0.449 g</td>\n",
              "      <td>0.589 g</td>\n",
              "      <td>1.071 g</td>\n",
              "      <td>0</td>\n",
              "      <td>0</td>\n",
              "      <td>2.37 g</td>\n",
              "      <td>0</td>\n",
              "      <td>0</td>\n",
              "      <td>8.82 g</td>\n",
              "    </tr>\n",
              "    <tr>\n",
              "      <th>4</th>\n",
              "      <td>Sherbet, orange</td>\n",
              "      <td>100.0</td>\n",
              "      <td>144</td>\n",
              "      <td>2.0</td>\n",
              "      <td>1.2</td>\n",
              "      <td>1mg</td>\n",
              "      <td>46.00 mg</td>\n",
              "      <td>7.7 mg</td>\n",
              "      <td>4.00 mcg</td>\n",
              "      <td>0.00 mcg</td>\n",
              "      <td>...</td>\n",
              "      <td>2.00 g</td>\n",
              "      <td>1.160 g</td>\n",
              "      <td>0.530 g</td>\n",
              "      <td>0.080 g</td>\n",
              "      <td>1.00 mg</td>\n",
              "      <td>0.0 g</td>\n",
              "      <td>0.40 g</td>\n",
              "      <td>0.00 mg</td>\n",
              "      <td>0.00 mg</td>\n",
              "      <td>66.10 g</td>\n",
              "    </tr>\n",
              "  </tbody>\n",
              "</table>\n",
              "<p>5 rows × 76 columns</p>\n",
              "</div>"
            ],
            "text/plain": [
              "              name  serving_size  calories  total_fat  saturated_fat  \\\n",
              "0       Cornstarch         100.0       381        0.1            0.0   \n",
              "1     Nuts, pecans         100.0       691       72.0            6.2   \n",
              "2    Eggplant, raw         100.0        25        0.2            0.0   \n",
              "3   Teff, uncooked         100.0       367        2.4            0.4   \n",
              "4  Sherbet, orange         100.0       144        2.0            1.2   \n",
              "\n",
              "  cholesterol    sodium  choline     folate folic_acid  ...      fat  \\\n",
              "0           0   9.00 mg   0.4 mg   0.00 mcg   0.00 mcg  ...   0.05 g   \n",
              "1           0   0.00 mg  40.5 mg  22.00 mcg   0.00 mcg  ...  71.97 g   \n",
              "2           0   2.00 mg   6.9 mg  22.00 mcg   0.00 mcg  ...   0.18 g   \n",
              "3           0  12.00 mg  13.1 mg          0          0  ...   2.38 g   \n",
              "4         1mg  46.00 mg   7.7 mg   4.00 mcg   0.00 mcg  ...   2.00 g   \n",
              "\n",
              "  saturated_fatty_acids monounsaturated_fatty_acids  \\\n",
              "0               0.009 g                     0.016 g   \n",
              "1               6.180 g                    40.801 g   \n",
              "2               0.034 g                     0.016 g   \n",
              "3               0.449 g                     0.589 g   \n",
              "4               1.160 g                     0.530 g   \n",
              "\n",
              "  polyunsaturated_fatty_acids fatty_acids_total_trans alcohol     ash  \\\n",
              "0                     0.025 g                 0.00 mg   0.0 g  0.09 g   \n",
              "1                    21.614 g                 0.00 mg   0.0 g  1.49 g   \n",
              "2                     0.076 g                 0.00 mg   0.0 g  0.66 g   \n",
              "3                     1.071 g                       0       0  2.37 g   \n",
              "4                     0.080 g                 1.00 mg   0.0 g  0.40 g   \n",
              "\n",
              "  caffeine theobromine    water  \n",
              "0  0.00 mg     0.00 mg   8.32 g  \n",
              "1  0.00 mg     0.00 mg   3.52 g  \n",
              "2  0.00 mg     0.00 mg  92.30 g  \n",
              "3        0           0   8.82 g  \n",
              "4  0.00 mg     0.00 mg  66.10 g  \n",
              "\n",
              "[5 rows x 76 columns]"
            ]
          },
          "execution_count": 92,
          "metadata": {},
          "output_type": "execute_result"
        }
      ],
      "source": [
        "nutrition= nutrition_df.data\n",
        "nutrition.head()"
      ]
    },
    {
      "cell_type": "code",
      "execution_count": 93,
      "metadata": {
        "colab": {
          "base_uri": "https://localhost:8080/",
          "height": 389
        },
        "id": "7gGvwOVTJ762",
        "outputId": "a376a305-1640-4be6-8406-790de579491a"
      },
      "outputs": [
        {
          "data": {
            "text/html": [
              "<div>\n",
              "<style scoped>\n",
              "    .dataframe tbody tr th:only-of-type {\n",
              "        vertical-align: middle;\n",
              "    }\n",
              "\n",
              "    .dataframe tbody tr th {\n",
              "        vertical-align: top;\n",
              "    }\n",
              "\n",
              "    .dataframe thead th {\n",
              "        text-align: right;\n",
              "    }\n",
              "</style>\n",
              "<table border=\"1\" class=\"dataframe\">\n",
              "  <thead>\n",
              "    <tr style=\"text-align: right;\">\n",
              "      <th></th>\n",
              "      <th>name</th>\n",
              "      <th>minutes</th>\n",
              "      <th>ingredients</th>\n",
              "      <th>steps</th>\n",
              "      <th>Serving</th>\n",
              "      <th>calories</th>\n",
              "      <th>total fat (PDV)</th>\n",
              "      <th>sugar (PDV)</th>\n",
              "      <th>sodium (PDV)</th>\n",
              "      <th>protein (PDV)</th>\n",
              "      <th>saturated fat (PDV)</th>\n",
              "      <th>carbohydrates (PDV)</th>\n",
              "    </tr>\n",
              "  </thead>\n",
              "  <tbody>\n",
              "    <tr>\n",
              "      <th>0</th>\n",
              "      <td>Ugali and omena</td>\n",
              "      <td>30</td>\n",
              "      <td>Maize flour,Omena,Oil,3 chopped tomatoes,Chopp...</td>\n",
              "      <td>Step 1,Boil 3 cups of water add maize flour st...</td>\n",
              "      <td>4.0</td>\n",
              "      <td>91</td>\n",
              "      <td>30</td>\n",
              "      <td>203</td>\n",
              "      <td>29</td>\n",
              "      <td>192</td>\n",
              "      <td>172</td>\n",
              "      <td>182</td>\n",
              "    </tr>\n",
              "    <tr>\n",
              "      <th>1</th>\n",
              "      <td>Kienyeji fried</td>\n",
              "      <td>25</td>\n",
              "      <td>1 table spoon salt,2 table spoon cooking veget...</td>\n",
              "      <td>Asemble the vegetables.,Pluck leaves from the ...</td>\n",
              "      <td>1.0</td>\n",
              "      <td>230</td>\n",
              "      <td>173</td>\n",
              "      <td>247</td>\n",
              "      <td>196</td>\n",
              "      <td>87</td>\n",
              "      <td>200</td>\n",
              "      <td>239</td>\n",
              "    </tr>\n",
              "    <tr>\n",
              "      <th>2</th>\n",
              "      <td>dengu Chapati</td>\n",
              "      <td>30</td>\n",
              "      <td>Ndengu,cubes congets diced in,cubes carrots in...</td>\n",
              "      <td>Step 1,Steam the mince meat and add oil then o...</td>\n",
              "      <td>4.0</td>\n",
              "      <td>138</td>\n",
              "      <td>211</td>\n",
              "      <td>131</td>\n",
              "      <td>260</td>\n",
              "      <td>84</td>\n",
              "      <td>75</td>\n",
              "      <td>275</td>\n",
              "    </tr>\n",
              "    <tr>\n",
              "      <th>3</th>\n",
              "      <td>Ugali matumbo ft african salad</td>\n",
              "      <td>60</td>\n",
              "      <td>400 g Maize flour ,20 g Onions ,11/2 kgMatumbo...</td>\n",
              "      <td>Step 1 Bring the water to boil, add the maize ...</td>\n",
              "      <td>4.0</td>\n",
              "      <td>365</td>\n",
              "      <td>259</td>\n",
              "      <td>71</td>\n",
              "      <td>255</td>\n",
              "      <td>205</td>\n",
              "      <td>20</td>\n",
              "      <td>57</td>\n",
              "    </tr>\n",
              "    <tr>\n",
              "      <th>4</th>\n",
              "      <td>Chicken stew</td>\n",
              "      <td>60</td>\n",
              "      <td>Boiled chicken,2 Red onion,1 Spring onion,4 To...</td>\n",
              "      <td>Step 1Boil 1 diced potato and 1 diced carrot,...</td>\n",
              "      <td>2.0</td>\n",
              "      <td>171</td>\n",
              "      <td>35</td>\n",
              "      <td>221</td>\n",
              "      <td>109</td>\n",
              "      <td>219</td>\n",
              "      <td>210</td>\n",
              "      <td>125</td>\n",
              "    </tr>\n",
              "  </tbody>\n",
              "</table>\n",
              "</div>"
            ],
            "text/plain": [
              "                             name minutes  \\\n",
              "0                 Ugali and omena      30   \n",
              "1                  Kienyeji fried      25   \n",
              "2                   dengu Chapati      30   \n",
              "3  Ugali matumbo ft african salad      60   \n",
              "4                    Chicken stew      60   \n",
              "\n",
              "                                         ingredients  \\\n",
              "0  Maize flour,Omena,Oil,3 chopped tomatoes,Chopp...   \n",
              "1  1 table spoon salt,2 table spoon cooking veget...   \n",
              "2  Ndengu,cubes congets diced in,cubes carrots in...   \n",
              "3  400 g Maize flour ,20 g Onions ,11/2 kgMatumbo...   \n",
              "4  Boiled chicken,2 Red onion,1 Spring onion,4 To...   \n",
              "\n",
              "                                               steps  Serving  calories  \\\n",
              "0  Step 1,Boil 3 cups of water add maize flour st...      4.0        91   \n",
              "1  Asemble the vegetables.,Pluck leaves from the ...      1.0       230   \n",
              "2  Step 1,Steam the mince meat and add oil then o...      4.0       138   \n",
              "3  Step 1 Bring the water to boil, add the maize ...      4.0       365   \n",
              "4   Step 1Boil 1 diced potato and 1 diced carrot,...      2.0       171   \n",
              "\n",
              "   total fat (PDV)  sugar (PDV)  sodium (PDV)  protein (PDV)  \\\n",
              "0               30          203            29            192   \n",
              "1              173          247           196             87   \n",
              "2              211          131           260             84   \n",
              "3              259           71           255            205   \n",
              "4               35          221           109            219   \n",
              "\n",
              "   saturated fat (PDV)  carbohydrates (PDV)  \n",
              "0                  172                  182  \n",
              "1                  200                  239  \n",
              "2                   75                  275  \n",
              "3                   20                   57  \n",
              "4                  210                  125  "
            ]
          },
          "execution_count": 93,
          "metadata": {},
          "output_type": "execute_result"
        }
      ],
      "source": [
        "Kenyan = recipes_ke.data\n",
        "Kenyan.head()"
      ]
    },
    {
      "cell_type": "code",
      "execution_count": 94,
      "metadata": {
        "colab": {
          "base_uri": "https://localhost:8080/",
          "height": 493
        },
        "id": "wyZdyI88J763",
        "outputId": "1d0f9623-1fa1-4bc9-a35b-f7e680a634b2"
      },
      "outputs": [
        {
          "data": {
            "text/html": [
              "<div>\n",
              "<style scoped>\n",
              "    .dataframe tbody tr th:only-of-type {\n",
              "        vertical-align: middle;\n",
              "    }\n",
              "\n",
              "    .dataframe tbody tr th {\n",
              "        vertical-align: top;\n",
              "    }\n",
              "\n",
              "    .dataframe thead th {\n",
              "        text-align: right;\n",
              "    }\n",
              "</style>\n",
              "<table border=\"1\" class=\"dataframe\">\n",
              "  <thead>\n",
              "    <tr style=\"text-align: right;\">\n",
              "      <th></th>\n",
              "      <th>name</th>\n",
              "      <th>id</th>\n",
              "      <th>minutes</th>\n",
              "      <th>contributor_id</th>\n",
              "      <th>submitted</th>\n",
              "      <th>tags</th>\n",
              "      <th>nutrition</th>\n",
              "      <th>n_steps</th>\n",
              "      <th>steps</th>\n",
              "      <th>description</th>\n",
              "      <th>ingredients</th>\n",
              "      <th>n_ingredients</th>\n",
              "    </tr>\n",
              "  </thead>\n",
              "  <tbody>\n",
              "    <tr>\n",
              "      <th>0</th>\n",
              "      <td>arriba   baked winter squash mexican style</td>\n",
              "      <td>137739</td>\n",
              "      <td>55</td>\n",
              "      <td>47892</td>\n",
              "      <td>2005-09-16</td>\n",
              "      <td>['60-minutes-or-less', 'time-to-make', 'course...</td>\n",
              "      <td>[51.5, 0.0, 13.0, 0.0, 2.0, 0.0, 4.0]</td>\n",
              "      <td>11</td>\n",
              "      <td>['make a choice and proceed with recipe', 'dep...</td>\n",
              "      <td>autumn is my favorite time of year to cook! th...</td>\n",
              "      <td>['winter squash', 'mexican seasoning', 'mixed ...</td>\n",
              "      <td>7</td>\n",
              "    </tr>\n",
              "    <tr>\n",
              "      <th>1</th>\n",
              "      <td>a bit different  breakfast pizza</td>\n",
              "      <td>31490</td>\n",
              "      <td>30</td>\n",
              "      <td>26278</td>\n",
              "      <td>2002-06-17</td>\n",
              "      <td>['30-minutes-or-less', 'time-to-make', 'course...</td>\n",
              "      <td>[173.4, 18.0, 0.0, 17.0, 22.0, 35.0, 1.0]</td>\n",
              "      <td>9</td>\n",
              "      <td>['preheat oven to 425 degrees f', 'press dough...</td>\n",
              "      <td>this recipe calls for the crust to be prebaked...</td>\n",
              "      <td>['prepared pizza crust', 'sausage patty', 'egg...</td>\n",
              "      <td>6</td>\n",
              "    </tr>\n",
              "    <tr>\n",
              "      <th>2</th>\n",
              "      <td>all in the kitchen  chili</td>\n",
              "      <td>112140</td>\n",
              "      <td>130</td>\n",
              "      <td>196586</td>\n",
              "      <td>2005-02-25</td>\n",
              "      <td>['time-to-make', 'course', 'preparation', 'mai...</td>\n",
              "      <td>[269.8, 22.0, 32.0, 48.0, 39.0, 27.0, 5.0]</td>\n",
              "      <td>6</td>\n",
              "      <td>['brown ground beef in large pot', 'add choppe...</td>\n",
              "      <td>this modified version of 'mom's' chili was a h...</td>\n",
              "      <td>['ground beef', 'yellow onions', 'diced tomato...</td>\n",
              "      <td>13</td>\n",
              "    </tr>\n",
              "    <tr>\n",
              "      <th>3</th>\n",
              "      <td>alouette  potatoes</td>\n",
              "      <td>59389</td>\n",
              "      <td>45</td>\n",
              "      <td>68585</td>\n",
              "      <td>2003-04-14</td>\n",
              "      <td>['60-minutes-or-less', 'time-to-make', 'course...</td>\n",
              "      <td>[368.1, 17.0, 10.0, 2.0, 14.0, 8.0, 20.0]</td>\n",
              "      <td>11</td>\n",
              "      <td>['place potatoes in a large pot of lightly sal...</td>\n",
              "      <td>this is a super easy, great tasting, make ahea...</td>\n",
              "      <td>['spreadable cheese with garlic and herbs', 'n...</td>\n",
              "      <td>11</td>\n",
              "    </tr>\n",
              "    <tr>\n",
              "      <th>4</th>\n",
              "      <td>amish  tomato ketchup  for canning</td>\n",
              "      <td>44061</td>\n",
              "      <td>190</td>\n",
              "      <td>41706</td>\n",
              "      <td>2002-10-25</td>\n",
              "      <td>['weeknight', 'time-to-make', 'course', 'main-...</td>\n",
              "      <td>[352.9, 1.0, 337.0, 23.0, 3.0, 0.0, 28.0]</td>\n",
              "      <td>5</td>\n",
              "      <td>['mix all ingredients&amp; boil for 2 1 / 2 hours ...</td>\n",
              "      <td>my dh's amish mother raised him on this recipe...</td>\n",
              "      <td>['tomato juice', 'apple cider vinegar', 'sugar...</td>\n",
              "      <td>8</td>\n",
              "    </tr>\n",
              "  </tbody>\n",
              "</table>\n",
              "</div>"
            ],
            "text/plain": [
              "                                         name      id  minutes  \\\n",
              "0  arriba   baked winter squash mexican style  137739       55   \n",
              "1            a bit different  breakfast pizza   31490       30   \n",
              "2                   all in the kitchen  chili  112140      130   \n",
              "3                          alouette  potatoes   59389       45   \n",
              "4          amish  tomato ketchup  for canning   44061      190   \n",
              "\n",
              "   contributor_id   submitted  \\\n",
              "0           47892  2005-09-16   \n",
              "1           26278  2002-06-17   \n",
              "2          196586  2005-02-25   \n",
              "3           68585  2003-04-14   \n",
              "4           41706  2002-10-25   \n",
              "\n",
              "                                                tags  \\\n",
              "0  ['60-minutes-or-less', 'time-to-make', 'course...   \n",
              "1  ['30-minutes-or-less', 'time-to-make', 'course...   \n",
              "2  ['time-to-make', 'course', 'preparation', 'mai...   \n",
              "3  ['60-minutes-or-less', 'time-to-make', 'course...   \n",
              "4  ['weeknight', 'time-to-make', 'course', 'main-...   \n",
              "\n",
              "                                    nutrition  n_steps  \\\n",
              "0       [51.5, 0.0, 13.0, 0.0, 2.0, 0.0, 4.0]       11   \n",
              "1   [173.4, 18.0, 0.0, 17.0, 22.0, 35.0, 1.0]        9   \n",
              "2  [269.8, 22.0, 32.0, 48.0, 39.0, 27.0, 5.0]        6   \n",
              "3   [368.1, 17.0, 10.0, 2.0, 14.0, 8.0, 20.0]       11   \n",
              "4   [352.9, 1.0, 337.0, 23.0, 3.0, 0.0, 28.0]        5   \n",
              "\n",
              "                                               steps  \\\n",
              "0  ['make a choice and proceed with recipe', 'dep...   \n",
              "1  ['preheat oven to 425 degrees f', 'press dough...   \n",
              "2  ['brown ground beef in large pot', 'add choppe...   \n",
              "3  ['place potatoes in a large pot of lightly sal...   \n",
              "4  ['mix all ingredients& boil for 2 1 / 2 hours ...   \n",
              "\n",
              "                                         description  \\\n",
              "0  autumn is my favorite time of year to cook! th...   \n",
              "1  this recipe calls for the crust to be prebaked...   \n",
              "2  this modified version of 'mom's' chili was a h...   \n",
              "3  this is a super easy, great tasting, make ahea...   \n",
              "4  my dh's amish mother raised him on this recipe...   \n",
              "\n",
              "                                         ingredients  n_ingredients  \n",
              "0  ['winter squash', 'mexican seasoning', 'mixed ...              7  \n",
              "1  ['prepared pizza crust', 'sausage patty', 'egg...              6  \n",
              "2  ['ground beef', 'yellow onions', 'diced tomato...             13  \n",
              "3  ['spreadable cheese with garlic and herbs', 'n...             11  \n",
              "4  ['tomato juice', 'apple cider vinegar', 'sugar...              8  "
            ]
          },
          "execution_count": 94,
          "metadata": {},
          "output_type": "execute_result"
        }
      ],
      "source": [
        "foreign = recipes_df.data\n",
        "foreign.head()"
      ]
    },
    {
      "cell_type": "code",
      "execution_count": 95,
      "metadata": {
        "id": "FD-FpuZc0aZy"
      },
      "outputs": [],
      "source": [
        "# Kenyan.to_csv('Kenyan.csv', index=False)"
      ]
    },
    {
      "cell_type": "markdown",
      "metadata": {
        "id": "NAWTb0FQJ764"
      },
      "source": [
        "## Feature engineering"
      ]
    },
    {
      "cell_type": "markdown",
      "metadata": {
        "id": "0c_1K-CLJ764"
      },
      "source": [
        "### Foreign dataset"
      ]
    },
    {
      "cell_type": "code",
      "execution_count": 96,
      "metadata": {
        "collapsed": true,
        "id": "3OBjKDTOJ765"
      },
      "outputs": [],
      "source": [
        "# Extract cuisine type from tags\n",
        "foreign['cuisine'] = foreign['tags'].str.extract(r'(\\w+)-style', expand=False)\n",
        "\n",
        "# Extract dietary preferences from tags\n",
        "foreign['dietary_preference'] = foreign['tags'].str.extract(r'(\\w+)-friendly', expand=False)"
      ]
    },
    {
      "attachments": {},
      "cell_type": "markdown",
      "metadata": {},
      "source": [
        "* Extracting Cuisines from the tags column "
      ]
    },
    {
      "cell_type": "code",
      "execution_count": 97,
      "metadata": {
        "id": "UWpJkanCJ766"
      },
      "outputs": [],
      "source": [
        "# Calculate the total number of ingredients in each recipe\n",
        "foreign['num_ingredients'] = foreign['ingredients'].apply(lambda x: len(x))"
      ]
    },
    {
      "cell_type": "code",
      "execution_count": 98,
      "metadata": {
        "id": "6rvKpRzhJ768"
      },
      "outputs": [],
      "source": [
        "# Split the 'nutrition' column into separate columns\n",
        "nutrition_values = foreign['nutrition'].str.strip('[]').str.split(',', expand=True)\n",
        "\n",
        "# Assign the extracted values to the respective columns\n",
        "foreign['calories'] = nutrition_values[0].astype(float)\n",
        "foreign['total_fat'] = nutrition_values[1].astype(float)\n",
        "foreign['sugar'] = nutrition_values[2].astype(float)\n",
        "foreign['sodium'] = nutrition_values[3].astype(float)\n",
        "foreign['protein'] = nutrition_values[4].astype(float)\n",
        "foreign['saturated_fat'] = nutrition_values[5].astype(float)\n",
        "foreign['carbohydrates'] = nutrition_values[6].astype(float)\n",
        "\n",
        "# Drop the original 'nutrition' column\n",
        "foreign.drop(columns=['nutrition'], inplace=True)"
      ]
    },
    {
      "cell_type": "code",
      "execution_count": 99,
      "metadata": {
        "collapsed": true,
        "id": "0Pdx8VCfJ76-"
      },
      "outputs": [],
      "source": [
        "\n",
        "# Normalize the numerical features\n",
        "scaler = MinMaxScaler()\n",
        "numerical_features = ['calories', 'total_fat', 'sugar', 'sodium', 'protein', 'saturated_fat','carbohydrates']\n",
        "foreign[numerical_features] = scaler.fit_transform(foreign[numerical_features])\n"
      ]
    },
    {
      "cell_type": "code",
      "execution_count": 100,
      "metadata": {
        "id": "3OohRfsh0u89"
      },
      "outputs": [],
      "source": [
        "# foreign.to_csv('Foreign.csv', index=False)"
      ]
    },
    {
      "cell_type": "markdown",
      "metadata": {
        "id": "09gIP3FrJ76_"
      },
      "source": [
        "### Kenyan dataset"
      ]
    },
    {
      "cell_type": "code",
      "execution_count": 101,
      "metadata": {
        "id": "9S-1BZGKJ76_"
      },
      "outputs": [],
      "source": [
        "# Calculate the total number of ingredients in each recipe\n",
        "Kenyan['num_ingredients'] = Kenyan['ingredients'].apply(lambda x: len(x))\n"
      ]
    },
    {
      "cell_type": "code",
      "execution_count": 102,
      "metadata": {
        "id": "NCOF3-syJ77A"
      },
      "outputs": [],
      "source": [
        "# Numerical feature normalization\n",
        "scaler = MinMaxScaler()\n",
        "numerical_features = ['calories', 'Serving']\n",
        "Kenyan[numerical_features] = scaler.fit_transform(Kenyan[numerical_features])"
      ]
    },
    {
      "cell_type": "markdown",
      "metadata": {
        "id": "Avc6zBkIJ77B"
      },
      "source": [
        "## Modelling"
      ]
    },
    {
      "cell_type": "markdown",
      "metadata": {
        "id": "wnU3wUjuWCSx"
      },
      "source": [
        "## Content-Based Filtering Model"
      ]
    },
    {
      "cell_type": "markdown",
      "metadata": {
        "id": "2FrBaSo-LySg"
      },
      "source": [
        "## Kenyan Dataset"
      ]
    },
    {
      "cell_type": "code",
      "execution_count": 104,
      "metadata": {
        "id": "PYn7_9eSImUy"
      },
      "outputs": [],
      "source": [
        "# Concatenate the 'ingredients' and 'steps' columns into a single text column\n",
        "Kenyan['text'] = Kenyan['ingredients'] + ' ' + Kenyan['steps']\n",
        "\n",
        "# Create TF-IDF vectorizer\n",
        "vectorizer = TfidfVectorizer()\n",
        "\n",
        "# Fit and transform the recipe text into TF-IDF feature vectors\n",
        "kenyan_features = vectorizer.fit_transform(Kenyan['text'])\n",
        "\n",
        "# Calculate the cosine similarity matrix for Kenyan recipes\n",
        "kenyan_similarity_matrix = cosine_similarity(kenyan_features, kenyan_features)\n",
        "\n",
        "# Function to recommend top-N Kenyan recipes based on a user's preferences\n",
        "def recommend_kenyan_recipes(user_preferences, top_n=5):\n",
        "    # Transform user preferences into a TF-IDF feature vector\n",
        "    user_preferences_features = vectorizer.transform([user_preferences])\n",
        "\n",
        "    # Calculate the cosine similarity between user preferences and Kenyan recipes\n",
        "    similarity_scores = cosine_similarity(user_preferences_features, kenyan_features)\n",
        "\n",
        "    # Get the indices of the top-N similar recipes\n",
        "    top_indices = similarity_scores.argsort()[0][-top_n:][::-1]\n",
        "\n",
        "    # Get the recipe details and create a DataFrame\n",
        "    recommendations = Kenyan.loc[top_indices, ['name', 'ingredients', 'steps']]\n",
        "    recommendations.reset_index(drop=True, inplace=True)\n",
        "    return recommendations\n"
      ]
    },
    {
      "cell_type": "code",
      "execution_count": 105,
      "metadata": {
        "colab": {
          "base_uri": "https://localhost:8080/"
        },
        "id": "dUkBJqKyI82k",
        "outputId": "02eedb04-90ae-40f0-dd0f-d410ae38adf1"
      },
      "outputs": [
        {
          "name": "stdout",
          "output_type": "stream",
          "text": [
            "                                                name  \\\n",
            "0                       Ugali the kenyan staple food   \n",
            "1                African breakfast 2 Theme challenge   \n",
            "2  African style tandoori chicken 🐓& kachumbari m...   \n",
            "3                         Stir fry gizzard and chips   \n",
            "4                                 North African fish   \n",
            "\n",
            "                                         ingredients  \\\n",
            "0                     3 cups water,3 cups maize meal   \n",
            "1  4 tbs baking flour,1/2 piece grated carrot,Tin...   \n",
            "2  1 whole chicken ,11/2 tbsp tandoori masala,1 t...   \n",
            "3  Gizzard,Irish potatoes,Bell peppers(chopped),C...   \n",
            "4  5 fillets of Tilapia or any medium-sized white...   \n",
            "\n",
            "                                               steps  \n",
            "0  Step 1,In a sufuria bring water to boil. Add t...  \n",
            "1  Step 1,Mix the flour, salt and sugar in a bowl...  \n",
            "2  Step 1,Wash and clean chicken , pat dry on kit...  \n",
            "3  Step 1,Peel, cut and wash your potatoes to cub...  \n",
            "4  Step 1,In a wide pot on medium-high heat put t...  \n"
          ]
        }
      ],
      "source": [
        "# Example usage\n",
        "user_preferences = \"I want a low-calorie meal with chicken\"\n",
        "recommendations = recommend_kenyan_recipes(user_preferences)\n",
        "print(recommendations)"
      ]
    },
    {
      "cell_type": "markdown",
      "metadata": {
        "id": "ganQXOSDL5Nx"
      },
      "source": [
        "### Kenyan and Foreign datasets"
      ]
    },
    {
      "cell_type": "code",
      "execution_count": 106,
      "metadata": {
        "colab": {
          "base_uri": "https://localhost:8080/"
        },
        "id": "oPXiuSezO0tA",
        "outputId": "7834b241-af7b-4e7b-f3d4-3f686ad1d04f"
      },
      "outputs": [
        {
          "name": "stdout",
          "output_type": "stream",
          "text": [
            "Kenyan Recipes:\n",
            "                                                name  \\\n",
            "0                       Ugali the kenyan staple food   \n",
            "1  African style tandoori chicken 🐓& kachumbari m...   \n",
            "2                African breakfast 2 Theme challenge   \n",
            "3                         Stir fry gizzard and chips   \n",
            "4                                 North African fish   \n",
            "\n",
            "                                         ingredients  \\\n",
            "0                     3 cups water,3 cups maize meal   \n",
            "1  1 whole chicken ,11/2 tbsp tandoori masala,1 t...   \n",
            "2  4 tbs baking flour,1/2 piece grated carrot,Tin...   \n",
            "3  Gizzard,Irish potatoes,Bell peppers(chopped),C...   \n",
            "4  5 fillets of Tilapia or any medium-sized white...   \n",
            "\n",
            "                                               steps  \n",
            "0  Step 1,In a sufuria bring water to boil. Add t...  \n",
            "1  Step 1,Wash and clean chicken , pat dry on kit...  \n",
            "2  Step 1,Mix the flour, salt and sugar in a bowl...  \n",
            "3  Step 1,Peel, cut and wash your potatoes to cub...  \n",
            "4  Step 1,In a wide pot on medium-high heat put t...  \n",
            "\n",
            "Foreign Recipes:\n",
            "                                                name  \\\n",
            "0                               just peachy  cobbler   \n",
            "1  iowa state fair  sweet dough caramel cinnamon ...   \n",
            "2                                       14 bean soup   \n",
            "3                            15 bean soup  crock pot   \n",
            "4                          15 minute chicken fajitas   \n",
            "\n",
            "                                         ingredients  \\\n",
            "0  ['butter', 'flour', 'sugar', 'baking powder', ...   \n",
            "1  ['warm water', \"fleischmann's active dry yeast...   \n",
            "2  ['water', 'beans', 'salt', 'chicken broth', 'c...   \n",
            "3  ['15 bean soup mix', 'water', 'ham bone', 'gar...   \n",
            "4  ['chicken breast tenders', 'olive oil', 'fajit...   \n",
            "\n",
            "                                               steps  \n",
            "0  ['preheat oven to 350f', 'melt the butter in a...  \n",
            "1  ['for rolls:', 'dissolve yeast in warm water ,...  \n",
            "2  ['wash and sort beans', 'place first 7 ingredi...  \n",
            "3  ['place beans in strainer and rinse', 'after r...  \n",
            "4  ['heat 1 tbsp oil in your wok until smoking', ...  \n"
          ]
        }
      ],
      "source": [
        "\n",
        "# Concatenate the 'ingredients' and 'steps' columns into a single text column\n",
        "Kenyan['text'] = Kenyan['ingredients'] + ' ' + Kenyan['steps']\n",
        "foreign['text'] = foreign['ingredients'] + ' ' + foreign['steps']\n",
        "\n",
        "# Create TF-IDF vectorizer\n",
        "vectorizer = TfidfVectorizer()\n",
        "\n",
        "# Fit and transform the recipe text into TF-IDF feature vectors for Kenyan recipes\n",
        "kenyan_features = vectorizer.fit_transform(Kenyan['text'])\n",
        "\n",
        "# Calculate the cosine similarity matrix for Kenyan recipes\n",
        "kenyan_similarity_matrix = cosine_similarity(kenyan_features, kenyan_features)\n",
        "\n",
        "# Fit and transform the recipe text into TF-IDF feature vectors for Foreign recipes\n",
        "foreign_features = vectorizer.transform(foreign['text'])\n",
        "\n",
        "# Calculate the cosine similarity matrix for Foreign recipes\n",
        "foreign_similarity_matrix = cosine_similarity(foreign_features, kenyan_features)\n",
        "\n",
        "# Function to recommend top-N Kenyan recipes based on user preferences\n",
        "def recommend_kenyan_recipes(user_preferences, calories, top_n=5):\n",
        "    # Transform user preferences into a TF-IDF feature vector\n",
        "    user_preferences_features = vectorizer.transform([user_preferences])\n",
        "\n",
        "    # Calculate the cosine similarity between user preferences and Kenyan recipes\n",
        "    similarity_scores = cosine_similarity(user_preferences_features, kenyan_features)\n",
        "\n",
        "    # Get the indices of the top-N similar Kenyan recipes\n",
        "    top_indices = similarity_scores.argsort()[0][-top_n:][::-1]\n",
        "\n",
        "    # Get the recipe details and create a DataFrame for Kenyan recipes\n",
        "    kenyan_recommendations = Kenyan.loc[(Kenyan['calories'] <= calories) & (Kenyan.index.isin(top_indices)), ['name', 'ingredients', 'steps']]\n",
        "    kenyan_recommendations.reset_index(drop=True, inplace=True)\n",
        "\n",
        "    # Calculate the cosine similarity between user preferences and Foreign recipes\n",
        "    similarity_scores_foreign = cosine_similarity(user_preferences_features, foreign_features)\n",
        "\n",
        "    # Get the indices of the top-N similar Foreign recipes\n",
        "    top_indices_foreign = similarity_scores_foreign.argsort()[0][-top_n:][::-1]\n",
        "\n",
        "    # Get the recipe details and create a DataFrame for Foreign recipes\n",
        "    foreign_recommendations = foreign.loc[(foreign.index.isin(top_indices_foreign)), ['name', 'ingredients', 'steps']]\n",
        "    foreign_recommendations.reset_index(drop=True, inplace=True)\n",
        "\n",
        "    return kenyan_recommendations, foreign_recommendations\n",
        "\n",
        "# Example usage\n",
        "user_preferences = \"I want a low-calorie meal with Chicken\"\n",
        "calories = 100\n",
        "kenyan_recipes, foreign_recipes = recommend_kenyan_recipes(user_preferences, calories)\n",
        "\n",
        "# Display the recommendations as DataFrames\n",
        "print(\"Kenyan Recipes:\")\n",
        "print(kenyan_recipes)\n",
        "print(\"\\nForeign Recipes:\")\n",
        "print(foreign_recipes)"
      ]
    },
    {
      "cell_type": "markdown",
      "metadata": {
        "id": "SBRqOxwvUTG7"
      },
      "source": [
        "## Model Evaluation"
      ]
    },
    {
      "cell_type": "code",
      "execution_count": 107,
      "metadata": {
        "colab": {
          "base_uri": "https://localhost:8080/"
        },
        "id": "Va10TAcXT9ur",
        "outputId": "95c5f541-6233-4c37-835b-2c6630658357"
      },
      "outputs": [
        {
          "name": "stdout",
          "output_type": "stream",
          "text": [
            "Precision: 0.2\n",
            "Recall: 0.5\n",
            "Hit Rate: 0.2\n"
          ]
        }
      ],
      "source": [
        "# Function to calculate precision, recall, and hit rate\n",
        "def evaluate_recommendations(recommendations, liked_recipes, top_n):\n",
        "    # Get the recommended recipe names\n",
        "    recommended_names = recommendations['name'].tolist()\n",
        "\n",
        "    # Calculate precision\n",
        "    precision = len(set(recommended_names).intersection(set(liked_recipes))) / top_n\n",
        "\n",
        "    # Calculate recall\n",
        "    recall = len(set(recommended_names).intersection(set(liked_recipes))) / len(liked_recipes)\n",
        "\n",
        "    # Calculate hit rate\n",
        "    hit_rate = len(set(recommended_names).intersection(set(liked_recipes))) / len(recommended_names)\n",
        "\n",
        "    return precision, recall, hit_rate\n",
        "\n",
        "# Example usage\n",
        "user_preferences = \"I want a low-calorie meal with chicken\"\n",
        "calories = 500\n",
        "top_n = 5\n",
        "\n",
        "# Get the actual liked recipes by the user (ground truth)\n",
        "liked_recipes = ['Ugali the kenyan staple food', 'Fish peppersoup']\n",
        "\n",
        "# Generate recommendations using your model\n",
        "recommendations = recommend_kenyan_recipes(user_preferences, calories, top_n)\n",
        "\n",
        "# Evaluate the recommendations\n",
        "precision, recall, hit_rate = evaluate_recommendations(recommendations[0], liked_recipes, top_n)\n",
        "\n",
        "# Print the evaluation metrics\n",
        "print(\"Precision:\", precision)\n",
        "print(\"Recall:\", recall)\n",
        "print(\"Hit Rate:\", hit_rate)"
      ]
    },
    {
      "attachments": {},
      "cell_type": "markdown",
      "metadata": {
        "id": "oBNSdrDaUfRG"
      },
      "source": [
        "A precision of 0.2 means that 20% of the recommended recipes were actually liked by the user. A recall of 0.5 indicates that all the liked recipes were successfully recommended. And the hit rate of 0.2 implies that only 20% of the recommended recipes were liked by the user."
      ]
    },
    {
      "cell_type": "markdown",
      "metadata": {
        "id": "j0CjflRFZGJJ"
      },
      "source": [
        "## Colaborative filtering"
      ]
    },
    {
      "cell_type": "markdown",
      "metadata": {
        "id": "BzB5veFXMFDd"
      },
      "source": [
        "## Kenyan Dataset"
      ]
    },
    {
      "cell_type": "code",
      "execution_count": 109,
      "metadata": {
        "colab": {
          "base_uri": "https://localhost:8080/"
        },
        "id": "dwVKzGMBYnS3",
        "outputId": "a27aea5e-ac52-4975-fe73-18ad12e757a5"
      },
      "outputs": [
        {
          "name": "stderr",
          "output_type": "stream",
          "text": [
            "C:\\Users\\user\\AppData\\Local\\Temp\\ipykernel_15496\\1003533077.py:12: SettingWithCopyWarning: \n",
            "A value is trying to be set on a copy of a slice from a DataFrame.\n",
            "Try using .loc[row_indexer,col_indexer] = value instead\n",
            "\n",
            "See the caveats in the documentation: https://pandas.pydata.org/pandas-docs/stable/user_guide/indexing.html#returning-a-view-versus-a-copy\n",
            "  kenyan_collab_df['calories_norm'] = calories_norm\n"
          ]
        }
      ],
      "source": [
        "# Select the relevant columns for collaborative filtering\n",
        "kenyan_collab_df = Kenyan[['name', 'minutes', 'ingredients', 'steps', 'calories']]\n",
        "\n",
        "# Normalize the 'calories' column\n",
        "scaler = MinMaxScaler()\n",
        "calories_norm = scaler.fit_transform(kenyan_collab_df[['calories']])\n",
        "\n",
        "# Create a DataFrame for normalized calories\n",
        "kenyan_collab_df['calories_norm'] = calories_norm\n",
        "\n",
        "# Calculate user-item similarity matrix using cosine similarity\n",
        "kenyan_similarity_matrix = cosine_similarity(kenyan_collab_df[['calories_norm']])\n",
        "\n",
        "# Function to recommend top-N Kenyan recipes based on user-item similarity and desired calories\n",
        "def recommend_kenyan_recipes_collab(calories, top_n=5):\n",
        "    # Filter recipes with calories less than or equal to the desired value\n",
        "    filtered_recipes = kenyan_collab_df[kenyan_collab_df['calories'] <= calories]\n",
        "\n",
        "    # Get the mean calories of the filtered recipes\n",
        "    mean_calories = filtered_recipes['calories'].mean()\n",
        "\n",
        "    # Calculate the normalized mean calories\n",
        "    mean_calories_norm = scaler.transform([[mean_calories]])[0][0]\n",
        "\n",
        "    # Calculate the similarity scores between the mean calories and the recipes\n",
        "    similarity_scores = cosine_similarity([[mean_calories_norm]], kenyan_collab_df[['calories_norm']])[0]\n",
        "\n",
        "    # Get the indices of the top-N similar recipes\n",
        "    top_indices = similarity_scores.argsort()[-top_n:][::-1]\n",
        "\n",
        "    # Get the recipe details and create a DataFrame\n",
        "    recommendations = kenyan_collab_df.loc[top_indices, ['name', 'minutes', 'ingredients', 'steps', 'calories']]\n",
        "    recommendations.reset_index(drop=True, inplace=True)\n",
        "    return recommendations"
      ]
    },
    {
      "cell_type": "code",
      "execution_count": 110,
      "metadata": {
        "colab": {
          "base_uri": "https://localhost:8080/",
          "height": 415
        },
        "id": "KtXayd_8Y6dj",
        "outputId": "69a3a7d0-4a30-45be-cc7f-bf92a76e411e"
      },
      "outputs": [
        {
          "name": "stdout",
          "output_type": "stream",
          "text": [
            "Kenyan Recipe Recommendations:\n",
            "                                  name minutes  \\\n",
            "0                     My African salad      10   \n",
            "1               Arrowroot (nduma) stew      70   \n",
            "2                        Mandazi bites      60   \n",
            "3  Theme challenge african breakfast 1       5   \n",
            "4  African breakfast 2 Theme challenge      60   \n",
            "\n",
            "                                         ingredients  \\\n",
            "0  2 cups dried abacha,1/2 cube seasoning,2 tea s...   \n",
            "1  2 large arrowroot/ nduma,1 onion, diced,3 toma...   \n",
            "2  400 g flour,50 g sugar,17 g baking powder,3 g ...   \n",
            "3  2 tbs brown flour,2 tbs marmalade,2 tbs sugar,...   \n",
            "4  4 tbs baking flour,1/2 piece grated carrot,Tin...   \n",
            "\n",
            "                                               steps  calories  \n",
            "0  Step 1,Get a bowl and soak the dried abacha in...  0.984615  \n",
            "1  Step 1,Peel, dice and wash the nduma,Step 2,On...  0.636264  \n",
            "2  Step 1,Put all the ingridients in the bowl as ...  0.690110  \n",
            "3  Step 1,Boil water,Step 2,Mix the flour separat...  0.452747  \n",
            "4  Step 1,Mix the flour, salt and sugar in a bowl...  0.475824  \n"
          ]
        },
        {
          "name": "stderr",
          "output_type": "stream",
          "text": [
            "c:\\Users\\user\\anaconda3\\envs\\learn-env\\lib\\site-packages\\sklearn\\base.py:420: UserWarning: X does not have valid feature names, but MinMaxScaler was fitted with feature names\n",
            "  warnings.warn(\n"
          ]
        }
      ],
      "source": [
        "# Example usage\n",
        "desired_calories = 500\n",
        "top_n = 5\n",
        "\n",
        "# Generate collaborative filtering recommendations based on desired calories\n",
        "Kenyan_collab_recommendations = recommend_kenyan_recipes_collab(desired_calories, top_n)\n",
        "\n",
        "# Print the Kenyan recommendations\n",
        "print(\"Kenyan Recipe Recommendations:\")\n",
        "print(Kenyan_collab_recommendations)\n"
      ]
    },
    {
      "cell_type": "markdown",
      "metadata": {
        "id": "RNxa4GEWMLJ_"
      },
      "source": [
        "### Foreign dataset"
      ]
    },
    {
      "cell_type": "code",
      "execution_count": 111,
      "metadata": {
        "colab": {
          "base_uri": "https://localhost:8080/"
        },
        "id": "USlfw_N9ZUog",
        "outputId": "a1cccf46-3659-43ca-93e9-41c70629df60"
      },
      "outputs": [
        {
          "name": "stderr",
          "output_type": "stream",
          "text": [
            "C:\\Users\\user\\AppData\\Local\\Temp\\ipykernel_15496\\414946650.py:6: SettingWithCopyWarning: \n",
            "A value is trying to be set on a copy of a slice from a DataFrame.\n",
            "Try using .loc[row_indexer,col_indexer] = value instead\n",
            "\n",
            "See the caveats in the documentation: https://pandas.pydata.org/pandas-docs/stable/user_guide/indexing.html#returning-a-view-versus-a-copy\n",
            "  foreign_collab_df['calories_norm'] = foreign_scaler.fit_transform(foreign_collab_df[['calories']])\n"
          ]
        }
      ],
      "source": [
        "\n",
        "# Select the relevant columns for collaborative filtering\n",
        "foreign_collab_df = foreign[['name','minutes', 'ingredients', 'steps', 'calories']]\n",
        "\n",
        "# Normalize the 'calories' column in the Foreign dataset\n",
        "foreign_scaler = MinMaxScaler()\n",
        "foreign_collab_df['calories_norm'] = foreign_scaler.fit_transform(foreign_collab_df[['calories']])\n",
        "\n",
        "# Calculate user-item similarity matrix using cosine similarity for Foreign recipes\n",
        "foreign_similarity_matrix = cosine_similarity(foreign_collab_df[['calories_norm']])\n",
        "\n",
        "# Function to recommend top-N Foreign recipes based on user-item similarity and desired calories\n",
        "def recommend_foreign_recipes_collab(calories, top_n=5):\n",
        "    # Filter recipes with calories less than or equal to the desired value\n",
        "    filtered_recipes = foreign_collab_df[foreign_collab_df['calories'] <= calories]\n",
        "\n",
        "    # Get the mean calories of the filtered recipes\n",
        "    mean_calories = filtered_recipes['calories'].mean()\n",
        "\n",
        "    # Calculate the normalized mean calories\n",
        "    mean_calories_norm = foreign_scaler.transform([[mean_calories]])[0][0]\n",
        "\n",
        "    # Calculate the similarity scores between the mean calories and the recipes\n",
        "    similarity_scores = cosine_similarity([[mean_calories_norm]], foreign_collab_df[['calories_norm']])[0]\n",
        "\n",
        "    # Get the indices of the top-N similar recipes\n",
        "    top_indices = similarity_scores.argsort()[-top_n:][::-1]\n",
        "\n",
        "    # Get the recipe details and create a DataFrame\n",
        "    recommendations = foreign_collab_df.loc[top_indices, ['name','minutes','ingredients', 'steps', 'calories']]\n",
        "    recommendations.reset_index(drop=True, inplace=True)\n",
        "    return recommendations"
      ]
    },
    {
      "cell_type": "code",
      "execution_count": 116,
      "metadata": {
        "colab": {
          "base_uri": "https://localhost:8080/"
        },
        "id": "85RGPGkeZfqv",
        "outputId": "d1586200-7333-4eaa-f4db-6c6c737d94f1"
      },
      "outputs": [
        {
          "name": "stdout",
          "output_type": "stream",
          "text": [
            "Foreign Recipe Recommendations:\n",
            "                                  name  minutes  \\\n",
            "0                      1890 cream cake      105   \n",
            "1                 berry good  smoothie        5   \n",
            "2                    chmeur s  pudding       62   \n",
            "3                      caramel  apples        7   \n",
            "4  call the fire department  hot wings       75   \n",
            "\n",
            "                                         ingredients  \\\n",
            "0  ['eggs', 'sugar', 'flour', 'cream of tartar', ...   \n",
            "1  ['apple juice', 'strawberry', 'raspberries', '...   \n",
            "2  ['flour', 'baking powder', 'margarine', 'sugar...   \n",
            "3  ['apples', 'wooden popsicle sticks', 'butter',...   \n",
            "4  ['chicken drummettes', 'flour', 'cayenne peppe...   \n",
            "\n",
            "                                               steps  calories  \n",
            "0  ['on beaten whites of 10 eggs , sift one and a...  0.267358  \n",
            "1    ['mix all ingredients in blender until smooth']  0.009870  \n",
            "2  ['preheat oven to 325f', 'mix flour and baking...  0.025295  \n",
            "3  ['pierce apples with popsicle sticks , set asi...  0.018834  \n",
            "4  ['in a bowl , combine flour , cayenne pepper ,...  0.062064  \n"
          ]
        },
        {
          "name": "stderr",
          "output_type": "stream",
          "text": [
            "c:\\Users\\user\\anaconda3\\envs\\learn-env\\lib\\site-packages\\sklearn\\base.py:420: UserWarning: X does not have valid feature names, but MinMaxScaler was fitted with feature names\n",
            "  warnings.warn(\n"
          ]
        }
      ],
      "source": [
        "# Example usage for Foreign recipes\n",
        "desired_calories_foreign = 600\n",
        "top_n_foreign = 5\n",
        "\n",
        "# Generate collaborative filtering recommendations based on desired calories for Foreign recipes\n",
        "foreign_collab_recommendations = recommend_foreign_recipes_collab(desired_calories_foreign, top_n_foreign)\n",
        "\n",
        "# Print the Foreign recommendations\n",
        "print(\"Foreign Recipe Recommendations:\")\n",
        "print(foreign_collab_recommendations)"
      ]
    },
    {
      "cell_type": "markdown",
      "metadata": {
        "id": "CGe8JihEoLSv"
      },
      "source": [
        "### Model Evaluation"
      ]
    },
    {
      "cell_type": "code",
      "execution_count": 118,
      "metadata": {
        "colab": {
          "base_uri": "https://localhost:8080/"
        },
        "id": "f7CqXXh5oJxt",
        "outputId": "8f5d9054-adcf-412b-f214-1c7cb7e47759"
      },
      "outputs": [
        {
          "name": "stdout",
          "output_type": "stream",
          "text": [
            "Precision: 0.0\n",
            "Recall: 0.0\n",
            "Hit Rate: 0.0\n"
          ]
        }
      ],
      "source": [
        "# Function to evaluate the recommendations\n",
        "def evaluate_recommendations(recommendations, liked_recipes, top_n):\n",
        "    # Convert recommendations DataFrame to a list\n",
        "    recommendations_list = recommendations['name'].tolist()\n",
        "\n",
        "    # Calculate precision\n",
        "    precision = len(set(recommendations_list).intersection(set(liked_recipes))) / top_n\n",
        "\n",
        "    # Calculate recall\n",
        "    recall = len(set(recommendations_list).intersection(set(liked_recipes))) / len(liked_recipes)\n",
        "\n",
        "    # Calculate hit rate\n",
        "    hit_rate = len(set(recommendations_list).intersection(set(liked_recipes))) / len(recommendations_list)\n",
        "\n",
        "    return precision, recall, hit_rate\n",
        "\n",
        "# Example usage\n",
        "liked_recipes = ['baked chicken', 'grilled salmon', 'chocolate cake', 'vegetable stir-fry']\n",
        "top_n = 5\n",
        "\n",
        "# Evaluate the recommendations\n",
        "precision, recall, hit_rate = evaluate_recommendations(foreign_collab_recommendations, liked_recipes, top_n)\n",
        "\n",
        "# Print the evaluation metrics\n",
        "print(\"Precision:\", precision)\n",
        "print(\"Recall:\", recall)\n",
        "print(\"Hit Rate:\", hit_rate)"
      ]
    },
    {
      "cell_type": "markdown",
      "metadata": {
        "id": "WDyA3U_NLlNy"
      },
      "source": [
        "## Deployment"
      ]
    },
    {
      "cell_type": "code",
      "execution_count": 114,
      "metadata": {
        "colab": {
          "base_uri": "https://localhost:8080/"
        },
        "id": "dz3Jedm9vc01",
        "outputId": "03ec004f-7196-4b95-afbe-10617bd00698"
      },
      "outputs": [
        {
          "name": "stdout",
          "output_type": "stream",
          "text": [
            "Mean Squared Error (MSE): 0.12138262662399348\n"
          ]
        }
      ],
      "source": [
        "# Concatenate the relevant features into a single text column\n",
        "Kenyan['text'] = Kenyan['ingredients'] + ' ' + Kenyan['steps']\n",
        "\n",
        "# Split the data into training and test sets\n",
        "train_data, test_data, train_target, test_target = train_test_split(Kenyan['text'], Kenyan['calories'], test_size=0.2, random_state=42)\n",
        "\n",
        "# Create TF-IDF vectorizer\n",
        "vectorizer = TfidfVectorizer()\n",
        "\n",
        "# Fit and transform the text data into TF-IDF features for training data\n",
        "train_features = vectorizer.fit_transform(train_data)\n",
        "\n",
        "# Train your content-based user model\n",
        "model = LinearRegression()\n",
        "model.fit(train_features, train_target)\n",
        "\n",
        "# Evaluate the model on the test set\n",
        "test_features = vectorizer.transform(test_data)\n",
        "predictions = model.predict(test_features)\n",
        "mse = mean_squared_error(test_target, predictions)\n",
        "print(f\"Mean Squared Error (MSE): {mse}\")\n",
        "\n",
        "# Save the trained model to a file\n",
        "model_filename = 'content_user_model.pkl'\n",
        "with open(model_filename, 'wb') as file:\n",
        "    pickle.dump(model, file)\n",
        "\n",
        "# Save the vectorizer to a file\n",
        "vectorizer_filename = 'tfidf_vectorizer.pkl'\n",
        "with open(vectorizer_filename, 'wb') as file:\n",
        "    pickle.dump(vectorizer, file)"
      ]
    },
    {
      "attachments": {},
      "cell_type": "markdown",
      "metadata": {},
      "source": [
        "* The ```MSE``` indicates the average quality of the predictions made by the model. A lower ```MSE``` value indicates better predictions, as it means the model's predicted values are closer to the actual target values.\n",
        "\n",
        "* In this case, an MSE of ```0.12138262662399348``` suggests that, on average, the squared difference between the predicted calorie values and the actual calorie values is relatively low. "
      ]
    }
  ],
  "metadata": {
    "colab": {
      "provenance": []
    },
    "kernelspec": {
      "display_name": "Python (learn-env)",
      "language": "python",
      "name": "learn-env"
    },
    "language_info": {
      "codemirror_mode": {
        "name": "ipython",
        "version": 3
      },
      "file_extension": ".py",
      "mimetype": "text/x-python",
      "name": "python",
      "nbconvert_exporter": "python",
      "pygments_lexer": "ipython3",
      "version": "3.9.16"
    },
    "vscode": {
      "interpreter": {
        "hash": "15e1ea0e9ae73a04f4db62dd1e96b3b16ca57ecdaaf21916cbbe9da1fa870ff9"
      }
    }
  },
  "nbformat": 4,
  "nbformat_minor": 0
}
