{
  "cells": [
    {
      "cell_type": "markdown",
      "metadata": {
        "colab_type": "text",
        "id": "view-in-github"
      },
      "source": [
        "<a href=\"https://colab.research.google.com/github/Mugangasia/NutriPal-Recipe-Recommendation-System-/blob/main/NutriPal_Recipe_Recommendation_System.ipynb\" target=\"_parent\"><img src=\"https://colab.research.google.com/assets/colab-badge.svg\" alt=\"Open In Colab\"/></a>"
      ]
    },
    {
      "cell_type": "markdown",
      "metadata": {
        "id": "4ygUMzDJrL2F"
      },
      "source": [
        "# NutriPal Recipe Recommendation System"
      ]
    },
    {
      "cell_type": "markdown",
      "metadata": {
        "id": "nzBO6YpnlWJa"
      },
      "source": [
        "## Businesss Understanding"
      ]
    },
    {
      "cell_type": "markdown",
      "metadata": {
        "id": "h1aGpZ3hli3x"
      },
      "source": [
        "In the rapidly growing health and wellness industry, individuals are increasingly seeking effective solutions to make informed dietary choices and improve their overall well-being. However, navigating the vast array of diet plans, meal delivery services, and health apps can be overwhelming. Stakeholders in this industry face a critical challenge of providing personalized and accurate nutrition recommendations that meet the unique needs and preferences of individuals.\n",
        "\n",
        "A significant problem is the lack of tailored nutrition guidance available in the market. Existing solutions often offer generic diet plans that do not consider individual factors such as age, gender, body composition, dietary restrictions, and cultural preferences. Consequently, individuals may experience frustration and disappointment when these solutions fail to deliver the desired results, leading to a decline in motivation and a higher likelihood of abandoning their healthy eating goals.\n",
        "\n",
        "Furthermore, the fast-paced nature of modern lifestyles presents another obstacle. Many individuals struggle to find the time and energy required to research, plan, and prepare nutritious meals regularly. This often results in resorting to unhealthy eating habits, negatively impacting their overall health and well-being.\n",
        "\n",
        "By providing accurate and personalized nutrition recommendations, stakeholders in the health and wellness industry can differentiate their offerings, enhance customer satisfaction, and foster long-term adherence to healthy eating habits. Additionally, the utilization of advanced technologies and user-friendly interfaces can create a competitive advantage and position stakeholders as leaders in the market.\n"
      ]
    },
    {
      "cell_type": "markdown",
      "metadata": {
        "id": "1kh_QiwUoZB-"
      },
      "source": [
        "## Problem Statement"
      ]
    },
    {
      "cell_type": "markdown",
      "metadata": {
        "id": "SO7nEBucohHd"
      },
      "source": [
        "The global prevalence of obesity and other diet-related chronic diseases is increasing. This is due in part to the increasing availability of unhealthy foods and the difficulty people have in making healthy food choices.\n",
        "\n",
        "A food recommendations system could help people make healthier food choices by providing personalized recommendations based on their individual needs and preferences. This could help people improve their diet and reduce their risk of developing chronic diseases.\n",
        "\n",
        "## Solution Statement\n",
        "\n",
        "* ```Lack of personalized nutrition recommendations:``` Existing solutions often rely on generic dietary guidelines that are based on population-level data. This approach can be effective for some individuals, but it may not be optimal for everyone. For example, generic guidelines may not take into account an individual's genetic makeup, which can play a role in determining how their body responds to different foods. Additionally, generic guidelines may not be tailored to an individual's lifestyle or health goals. For example, someone who is trying to lose weight may need different recommendations than someone who is trying to manage a chronic disease. <br>\n",
        "\n",
        "* ```Time and effort constraints for meal planning:``` Busy lifestyles can make it difficult for individuals to find the time and energy to plan and prepare healthy meals. This can be especially challenging for people who work long hours or have young children. Additionally, meal planning can be time-consuming and complex, especially if an individual has food allergies or intolerances."
      ]
    },
    {
      "cell_type": "markdown",
      "metadata": {
        "id": "5-6J6807o9TM"
      },
      "source": [
        "## Objectives\n",
        "# Main objective.\n",
        "\n",
        "> Develop a Food/Recipe Recommendation System that suggests nutritious food to individuals and  promoting a healthy lifestyle."
      ]
    },
    {
      "cell_type": "markdown",
      "metadata": {
        "id": "Osu5hJ35pVub"
      },
      "source": [
        "## Specific Objectives.\n",
        "\n",
        "\n",
        "*   Identify the key features and factors that impact an individual's overall health, and determine which ones should be incorporated into the food recommendation system.\n",
        "*   Clean and preprocess the nutrition data available in the dataset, and combine it with external data sources to create a comprehensive nutrition database that can be used by the recommendation system.\n",
        "\n",
        "*   Develop and implement recommendation algorithms that can generate personalized food recommendations based on the user's individual characteristics such as age, gender, degree of physical activity, locally available foods, and dietary customs.\n",
        "*   Create a chatbot that can interact with users and collect relevant information such as dietary preferences, and restrictions, as well as any other relevant information that can be used to personalize food recommendations.\n",
        "\n",
        "*   Integrate the recommendation algorithms and chatbot into a user-friendly and intuitive interface that allows users to easily access and interact with the system.\n",
        "*   Deploy the food recommendation system and chatbot, and conduct user testing to gather feedback and identify areas for improvement."
      ]
    },
    {
      "cell_type": "markdown",
      "metadata": {
        "id": "u4L3krf6qbUO"
      },
      "source": [
        "## Metrics Of Success.\n",
        "> Our recommender system will be considered successful if it meets the following criteria:\n",
        "\n",
        "* Have a recall score of ```80%``` and above.\n",
        "* Have a mean absolute precission at least ```90%```.\n",
        "* Have a coverage of around 90%.This means that the model is able to recommend a wide variety of nutritious foods and recipes to users"
      ]
    },
    {
      "cell_type": "markdown",
      "metadata": {
        "id": "254IArC2rL2Q"
      },
      "source": [
        "## Data Understanding"
      ]
    },
    {
      "cell_type": "markdown",
      "metadata": {
        "id": "NlD_70msrL2R"
      },
      "source": [
        "This project will include 3 datasets\n",
        "\n",
        "* **Recipes**\n",
        "\n",
        "* **Nutrition**\n",
        "\n",
        "* **Kenyan Local Food Recipes**\n",
        "\n",
        "Recipes data set was obtained from [ here ](https://www.kaggle.com/datasets/shuyangli94/food-com-recipes-and-user-interactions). It countains a a list of 231636 rows of recipes and 12 columns.\n",
        "*   name - Recipe name\n",
        "*   id - Recipe ID\n",
        "*   minutes - Minutes to prepare recipe\n",
        "*   contributor_id - User ID who submitted this recipe\n",
        "*   submitted - Date recipe was submitted\n",
        "*   tags - Food.com tags for recipe\n",
        "*   nutrition - Nutrition information (calories (#), total fat (PDV), sugar (PDV) ,sodium (PDV) , protein (PDV) , saturated fat (PDV) , and carbohydrates (PDV))\n",
        "*   n_steps - Number of steps in recipe\n",
        "*   steps - Text for recipe steps, in order\n",
        "*   description - User-provided description\n",
        "*   ingredients - List of ingredient names\n",
        "*   n_ingredients - Number of ingredients\n",
        "\n"
      ]
    },
    {
      "cell_type": "markdown",
      "metadata": {
        "id": "MaP-U15DrL2R"
      },
      "source": [
        "The nutrition dataset was obtained from [here](https://www.kaggle.com/datasets/trolukovich/nutritional-values-for-common-foods-and-products).\n",
        "\n",
        "This dataset contains information on approximately 8.8 thousand types of food. The dataset includes various features related to the nutrition value of each food item per 100gram serving. There are 75 features in total, you can find features like **calories**, **vitamin_d**, **zink**, **protein**, lactose. As you can see features names are very self-explanatory, so a description is not provided."
      ]
    },
    {
      "cell_type": "code",
      "execution_count": 57,
      "metadata": {
        "id": "Ugm9PnXNWnK9"
      },
      "outputs": [],
      "source": [
        "#import the relevant libraries\n",
        "import pandas as pd\n",
        "import numpy as np\n",
        "import seaborn as sns\n",
        "import matplotlib.pyplot as plt\n",
        "%matplotlib inline\n",
        "import seaborn as sns\n",
        "import matplotlib.pyplot as plt\n",
        "import warnings\n",
        "warnings.filterwarnings('ignore')\n",
        "from surprise import Dataset, Reader\n",
        "from surprise.model_selection import cross_validate\n",
        "from surprise.model_selection import GridSearchCV\n",
        "from surprise.prediction_algorithms import KNNWithMeans, KNNBasic\n",
        "from surprise import KNNWithMeans\n",
        "from surprise import accuracy\n",
        "from surprise import Reader\n",
        "from surprise import Dataset\n",
        "from surprise.prediction_algorithms import KNNWithMeans, KNNBasic\n",
        "from surprise import SVD\n",
        "from surprise.model_selection import train_test_split\n",
        "from surprise.model_selection import cross_validate\n",
        "from surprise.model_selection import GridSearchCV\n",
        " "
      ]
    },
    {
      "cell_type": "markdown",
      "metadata": {
        "id": "KgLZhZrprL2U"
      },
      "source": [
        "# Nutrition Dataset"
      ]
    },
    {
      "cell_type": "code",
      "execution_count": 2,
      "metadata": {
        "colab": {
          "base_uri": "https://localhost:8080/",
          "height": 404
        },
        "id": "k2mhM2ZckC2A",
        "outputId": "2c3effe8-01ec-42a2-99e3-0091a8c5daa8"
      },
      "outputs": [
        {
          "data": {
            "text/html": [
              "<div>\n",
              "<style scoped>\n",
              "    .dataframe tbody tr th:only-of-type {\n",
              "        vertical-align: middle;\n",
              "    }\n",
              "\n",
              "    .dataframe tbody tr th {\n",
              "        vertical-align: top;\n",
              "    }\n",
              "\n",
              "    .dataframe thead th {\n",
              "        text-align: right;\n",
              "    }\n",
              "</style>\n",
              "<table border=\"1\" class=\"dataframe\">\n",
              "  <thead>\n",
              "    <tr style=\"text-align: right;\">\n",
              "      <th></th>\n",
              "      <th>Unnamed: 0</th>\n",
              "      <th>name</th>\n",
              "      <th>serving_size</th>\n",
              "      <th>calories</th>\n",
              "      <th>total_fat</th>\n",
              "      <th>saturated_fat</th>\n",
              "      <th>cholesterol</th>\n",
              "      <th>sodium</th>\n",
              "      <th>choline</th>\n",
              "      <th>folate</th>\n",
              "      <th>...</th>\n",
              "      <th>fat</th>\n",
              "      <th>saturated_fatty_acids</th>\n",
              "      <th>monounsaturated_fatty_acids</th>\n",
              "      <th>polyunsaturated_fatty_acids</th>\n",
              "      <th>fatty_acids_total_trans</th>\n",
              "      <th>alcohol</th>\n",
              "      <th>ash</th>\n",
              "      <th>caffeine</th>\n",
              "      <th>theobromine</th>\n",
              "      <th>water</th>\n",
              "    </tr>\n",
              "  </thead>\n",
              "  <tbody>\n",
              "    <tr>\n",
              "      <th>0</th>\n",
              "      <td>0</td>\n",
              "      <td>Cornstarch</td>\n",
              "      <td>100 g</td>\n",
              "      <td>381</td>\n",
              "      <td>0.1g</td>\n",
              "      <td>NaN</td>\n",
              "      <td>0</td>\n",
              "      <td>9.00 mg</td>\n",
              "      <td>0.4 mg</td>\n",
              "      <td>0.00 mcg</td>\n",
              "      <td>...</td>\n",
              "      <td>0.05 g</td>\n",
              "      <td>0.009 g</td>\n",
              "      <td>0.016 g</td>\n",
              "      <td>0.025 g</td>\n",
              "      <td>0.00 mg</td>\n",
              "      <td>0.0 g</td>\n",
              "      <td>0.09 g</td>\n",
              "      <td>0.00 mg</td>\n",
              "      <td>0.00 mg</td>\n",
              "      <td>8.32 g</td>\n",
              "    </tr>\n",
              "    <tr>\n",
              "      <th>1</th>\n",
              "      <td>1</td>\n",
              "      <td>Nuts, pecans</td>\n",
              "      <td>100 g</td>\n",
              "      <td>691</td>\n",
              "      <td>72g</td>\n",
              "      <td>6.2g</td>\n",
              "      <td>0</td>\n",
              "      <td>0.00 mg</td>\n",
              "      <td>40.5 mg</td>\n",
              "      <td>22.00 mcg</td>\n",
              "      <td>...</td>\n",
              "      <td>71.97 g</td>\n",
              "      <td>6.180 g</td>\n",
              "      <td>40.801 g</td>\n",
              "      <td>21.614 g</td>\n",
              "      <td>0.00 mg</td>\n",
              "      <td>0.0 g</td>\n",
              "      <td>1.49 g</td>\n",
              "      <td>0.00 mg</td>\n",
              "      <td>0.00 mg</td>\n",
              "      <td>3.52 g</td>\n",
              "    </tr>\n",
              "    <tr>\n",
              "      <th>2</th>\n",
              "      <td>2</td>\n",
              "      <td>Eggplant, raw</td>\n",
              "      <td>100 g</td>\n",
              "      <td>25</td>\n",
              "      <td>0.2g</td>\n",
              "      <td>NaN</td>\n",
              "      <td>0</td>\n",
              "      <td>2.00 mg</td>\n",
              "      <td>6.9 mg</td>\n",
              "      <td>22.00 mcg</td>\n",
              "      <td>...</td>\n",
              "      <td>0.18 g</td>\n",
              "      <td>0.034 g</td>\n",
              "      <td>0.016 g</td>\n",
              "      <td>0.076 g</td>\n",
              "      <td>0.00 mg</td>\n",
              "      <td>0.0 g</td>\n",
              "      <td>0.66 g</td>\n",
              "      <td>0.00 mg</td>\n",
              "      <td>0.00 mg</td>\n",
              "      <td>92.30 g</td>\n",
              "    </tr>\n",
              "    <tr>\n",
              "      <th>3</th>\n",
              "      <td>3</td>\n",
              "      <td>Teff, uncooked</td>\n",
              "      <td>100 g</td>\n",
              "      <td>367</td>\n",
              "      <td>2.4g</td>\n",
              "      <td>0.4g</td>\n",
              "      <td>0</td>\n",
              "      <td>12.00 mg</td>\n",
              "      <td>13.1 mg</td>\n",
              "      <td>0</td>\n",
              "      <td>...</td>\n",
              "      <td>2.38 g</td>\n",
              "      <td>0.449 g</td>\n",
              "      <td>0.589 g</td>\n",
              "      <td>1.071 g</td>\n",
              "      <td>0</td>\n",
              "      <td>0</td>\n",
              "      <td>2.37 g</td>\n",
              "      <td>0</td>\n",
              "      <td>0</td>\n",
              "      <td>8.82 g</td>\n",
              "    </tr>\n",
              "    <tr>\n",
              "      <th>4</th>\n",
              "      <td>4</td>\n",
              "      <td>Sherbet, orange</td>\n",
              "      <td>100 g</td>\n",
              "      <td>144</td>\n",
              "      <td>2g</td>\n",
              "      <td>1.2g</td>\n",
              "      <td>1mg</td>\n",
              "      <td>46.00 mg</td>\n",
              "      <td>7.7 mg</td>\n",
              "      <td>4.00 mcg</td>\n",
              "      <td>...</td>\n",
              "      <td>2.00 g</td>\n",
              "      <td>1.160 g</td>\n",
              "      <td>0.530 g</td>\n",
              "      <td>0.080 g</td>\n",
              "      <td>1.00 mg</td>\n",
              "      <td>0.0 g</td>\n",
              "      <td>0.40 g</td>\n",
              "      <td>0.00 mg</td>\n",
              "      <td>0.00 mg</td>\n",
              "      <td>66.10 g</td>\n",
              "    </tr>\n",
              "  </tbody>\n",
              "</table>\n",
              "<p>5 rows × 77 columns</p>\n",
              "</div>"
            ],
            "text/plain": [
              "   Unnamed: 0             name serving_size  calories total_fat saturated_fat  \\\n",
              "0           0       Cornstarch        100 g       381      0.1g           NaN   \n",
              "1           1     Nuts, pecans        100 g       691       72g          6.2g   \n",
              "2           2    Eggplant, raw        100 g        25      0.2g           NaN   \n",
              "3           3   Teff, uncooked        100 g       367      2.4g          0.4g   \n",
              "4           4  Sherbet, orange        100 g       144        2g          1.2g   \n",
              "\n",
              "  cholesterol    sodium  choline     folate  ...      fat  \\\n",
              "0           0   9.00 mg   0.4 mg   0.00 mcg  ...   0.05 g   \n",
              "1           0   0.00 mg  40.5 mg  22.00 mcg  ...  71.97 g   \n",
              "2           0   2.00 mg   6.9 mg  22.00 mcg  ...   0.18 g   \n",
              "3           0  12.00 mg  13.1 mg          0  ...   2.38 g   \n",
              "4         1mg  46.00 mg   7.7 mg   4.00 mcg  ...   2.00 g   \n",
              "\n",
              "  saturated_fatty_acids monounsaturated_fatty_acids  \\\n",
              "0               0.009 g                     0.016 g   \n",
              "1               6.180 g                    40.801 g   \n",
              "2               0.034 g                     0.016 g   \n",
              "3               0.449 g                     0.589 g   \n",
              "4               1.160 g                     0.530 g   \n",
              "\n",
              "  polyunsaturated_fatty_acids fatty_acids_total_trans alcohol     ash  \\\n",
              "0                     0.025 g                 0.00 mg   0.0 g  0.09 g   \n",
              "1                    21.614 g                 0.00 mg   0.0 g  1.49 g   \n",
              "2                     0.076 g                 0.00 mg   0.0 g  0.66 g   \n",
              "3                     1.071 g                       0       0  2.37 g   \n",
              "4                     0.080 g                 1.00 mg   0.0 g  0.40 g   \n",
              "\n",
              "  caffeine theobromine    water  \n",
              "0  0.00 mg     0.00 mg   8.32 g  \n",
              "1  0.00 mg     0.00 mg   3.52 g  \n",
              "2  0.00 mg     0.00 mg  92.30 g  \n",
              "3        0           0   8.82 g  \n",
              "4  0.00 mg     0.00 mg  66.10 g  \n",
              "\n",
              "[5 rows x 77 columns]"
            ]
          },
          "execution_count": 2,
          "metadata": {},
          "output_type": "execute_result"
        }
      ],
      "source": [
        "#loading the data\n",
        "Nutrition = pd.read_csv('nutrition.csv')\n",
        "Nutrition.head()"
      ]
    },
    {
      "cell_type": "code",
      "execution_count": 3,
      "metadata": {
        "colab": {
          "base_uri": "https://localhost:8080/"
        },
        "id": "mr2skTQV7raK",
        "outputId": "f67851f3-2b5e-4716-fc0c-8d5abc87f01e"
      },
      "outputs": [
        {
          "name": "stdout",
          "output_type": "stream",
          "text": [
            "<class 'pandas.core.frame.DataFrame'>\n",
            "RangeIndex: 8789 entries, 0 to 8788\n",
            "Data columns (total 77 columns):\n",
            " #   Column                       Non-Null Count  Dtype \n",
            "---  ------                       --------------  ----- \n",
            " 0   Unnamed: 0                   8789 non-null   int64 \n",
            " 1   name                         8789 non-null   object\n",
            " 2   serving_size                 8789 non-null   object\n",
            " 3   calories                     8789 non-null   int64 \n",
            " 4   total_fat                    8789 non-null   object\n",
            " 5   saturated_fat                7199 non-null   object\n",
            " 6   cholesterol                  8789 non-null   object\n",
            " 7   sodium                       8789 non-null   object\n",
            " 8   choline                      8789 non-null   object\n",
            " 9   folate                       8789 non-null   object\n",
            " 10  folic_acid                   8789 non-null   object\n",
            " 11  niacin                       8789 non-null   object\n",
            " 12  pantothenic_acid             8789 non-null   object\n",
            " 13  riboflavin                   8789 non-null   object\n",
            " 14  thiamin                      8789 non-null   object\n",
            " 15  vitamin_a                    8789 non-null   object\n",
            " 16  vitamin_a_rae                8789 non-null   object\n",
            " 17  carotene_alpha               8789 non-null   object\n",
            " 18  carotene_beta                8789 non-null   object\n",
            " 19  cryptoxanthin_beta           8789 non-null   object\n",
            " 20  lutein_zeaxanthin            8789 non-null   object\n",
            " 21  lucopene                     8789 non-null   int64 \n",
            " 22  vitamin_b12                  8789 non-null   object\n",
            " 23  vitamin_b6                   8789 non-null   object\n",
            " 24  vitamin_c                    8789 non-null   object\n",
            " 25  vitamin_d                    8789 non-null   object\n",
            " 26  vitamin_e                    8789 non-null   object\n",
            " 27  tocopherol_alpha             8789 non-null   object\n",
            " 28  vitamin_k                    8789 non-null   object\n",
            " 29  calcium                      8789 non-null   object\n",
            " 30  copper                       8789 non-null   object\n",
            " 31  irom                         8789 non-null   object\n",
            " 32  magnesium                    8789 non-null   object\n",
            " 33  manganese                    8789 non-null   object\n",
            " 34  phosphorous                  8789 non-null   object\n",
            " 35  potassium                    8789 non-null   object\n",
            " 36  selenium                     8789 non-null   object\n",
            " 37  zink                         8789 non-null   object\n",
            " 38  protein                      8789 non-null   object\n",
            " 39  alanine                      8789 non-null   object\n",
            " 40  arginine                     8789 non-null   object\n",
            " 41  aspartic_acid                8789 non-null   object\n",
            " 42  cystine                      8789 non-null   object\n",
            " 43  glutamic_acid                8789 non-null   object\n",
            " 44  glycine                      8789 non-null   object\n",
            " 45  histidine                    8789 non-null   object\n",
            " 46  hydroxyproline               8789 non-null   object\n",
            " 47  isoleucine                   8789 non-null   object\n",
            " 48  leucine                      8789 non-null   object\n",
            " 49  lysine                       8789 non-null   object\n",
            " 50  methionine                   8789 non-null   object\n",
            " 51  phenylalanine                8789 non-null   object\n",
            " 52  proline                      8789 non-null   object\n",
            " 53  serine                       8789 non-null   object\n",
            " 54  threonine                    8789 non-null   object\n",
            " 55  tryptophan                   8789 non-null   object\n",
            " 56  tyrosine                     8789 non-null   object\n",
            " 57  valine                       8789 non-null   object\n",
            " 58  carbohydrate                 8789 non-null   object\n",
            " 59  fiber                        8789 non-null   object\n",
            " 60  sugars                       8789 non-null   object\n",
            " 61  fructose                     8789 non-null   object\n",
            " 62  galactose                    8789 non-null   object\n",
            " 63  glucose                      8789 non-null   object\n",
            " 64  lactose                      8789 non-null   object\n",
            " 65  maltose                      8789 non-null   object\n",
            " 66  sucrose                      8789 non-null   object\n",
            " 67  fat                          8789 non-null   object\n",
            " 68  saturated_fatty_acids        8789 non-null   object\n",
            " 69  monounsaturated_fatty_acids  8789 non-null   object\n",
            " 70  polyunsaturated_fatty_acids  8789 non-null   object\n",
            " 71  fatty_acids_total_trans      8789 non-null   object\n",
            " 72  alcohol                      8789 non-null   object\n",
            " 73  ash                          8789 non-null   object\n",
            " 74  caffeine                     8789 non-null   object\n",
            " 75  theobromine                  8789 non-null   object\n",
            " 76  water                        8789 non-null   object\n",
            "dtypes: int64(3), object(74)\n",
            "memory usage: 5.2+ MB\n"
          ]
        }
      ],
      "source": [
        "#getting information on the Nutrition data set\n",
        "Nutrition. info()"
      ]
    },
    {
      "cell_type": "markdown",
      "metadata": {
        "id": "XLv89RBOrL2W"
      },
      "source": [
        "$Inference$\n",
        "* The Nutrition dataset ahs Object data types and numerical data types.\n",
        "* The dataset has 8789 rows and 77 columns."
      ]
    },
    {
      "cell_type": "code",
      "execution_count": 4,
      "metadata": {
        "id": "d5c2ZmrDMSqo"
      },
      "outputs": [],
      "source": [
        "# craeting data set with relevant features\n",
        "Nutrition_df = Nutrition.loc[:, ['name','serving_size','calories','total_fat','saturated_fat','cholesterol','sodium','potassium']]\n"
      ]
    },
    {
      "cell_type": "code",
      "execution_count": 5,
      "metadata": {
        "id": "_EnjTD7eNb0E"
      },
      "outputs": [],
      "source": [
        "#creating a function that strips and converts feautures to float type\n",
        "def clean_df(df, col_name):\n",
        "  # Create a copy of the input DataFrame to avoid modifying the original data\n",
        "    cleaned_df = df.copy()\n",
        "\n",
        "    # Strip whitespace characters and replace non-numeric characters with nothing\n",
        "    cleaned_df[col_name] = cleaned_df[col_name].str.strip().replace('[^\\d\\.]', '', regex=True)\n",
        "\n",
        "    # Convert the column to float data type\n",
        "    cleaned_df[col_name] = pd.to_numeric(cleaned_df[col_name], errors='coerce').astype(float)\n",
        "\n",
        "    return cleaned_df\n"
      ]
    },
    {
      "cell_type": "code",
      "execution_count": 6,
      "metadata": {
        "id": "9bComyV3NxES"
      },
      "outputs": [],
      "source": [
        "#cleaning all the columnns in the nutrition data frame.\n",
        "cols_to_clean = [ 'serving_size','calories', 'total_fat',\n",
        "       'saturated_fat', 'cholesterol', 'sodium','potassium' ]\n",
        "for col in cols_to_clean:\n",
        "  Nutrition_df[col] = Nutrition_df[col].astype(str)\n",
        "  Nutrition_df = clean_df(Nutrition_df, col)"
      ]
    },
    {
      "cell_type": "code",
      "execution_count": 7,
      "metadata": {
        "colab": {
          "base_uri": "https://localhost:8080/",
          "height": 404
        },
        "id": "zdvGeNcuN_D7",
        "outputId": "aaf8fa9d-08a2-429e-ca35-2a92198d25c6"
      },
      "outputs": [
        {
          "data": {
            "text/html": [
              "<div>\n",
              "<style scoped>\n",
              "    .dataframe tbody tr th:only-of-type {\n",
              "        vertical-align: middle;\n",
              "    }\n",
              "\n",
              "    .dataframe tbody tr th {\n",
              "        vertical-align: top;\n",
              "    }\n",
              "\n",
              "    .dataframe thead th {\n",
              "        text-align: right;\n",
              "    }\n",
              "</style>\n",
              "<table border=\"1\" class=\"dataframe\">\n",
              "  <thead>\n",
              "    <tr style=\"text-align: right;\">\n",
              "      <th></th>\n",
              "      <th>Unnamed: 0</th>\n",
              "      <th>name</th>\n",
              "      <th>serving_size</th>\n",
              "      <th>calories</th>\n",
              "      <th>total_fat</th>\n",
              "      <th>saturated_fat</th>\n",
              "      <th>cholesterol</th>\n",
              "      <th>sodium</th>\n",
              "      <th>choline</th>\n",
              "      <th>folate</th>\n",
              "      <th>...</th>\n",
              "      <th>fat</th>\n",
              "      <th>saturated_fatty_acids</th>\n",
              "      <th>monounsaturated_fatty_acids</th>\n",
              "      <th>polyunsaturated_fatty_acids</th>\n",
              "      <th>fatty_acids_total_trans</th>\n",
              "      <th>alcohol</th>\n",
              "      <th>ash</th>\n",
              "      <th>caffeine</th>\n",
              "      <th>theobromine</th>\n",
              "      <th>water</th>\n",
              "    </tr>\n",
              "  </thead>\n",
              "  <tbody>\n",
              "    <tr>\n",
              "      <th>0</th>\n",
              "      <td>0</td>\n",
              "      <td>Cornstarch</td>\n",
              "      <td>100 g</td>\n",
              "      <td>381</td>\n",
              "      <td>0.1g</td>\n",
              "      <td>NaN</td>\n",
              "      <td>0</td>\n",
              "      <td>9.00 mg</td>\n",
              "      <td>0.4 mg</td>\n",
              "      <td>0.00 mcg</td>\n",
              "      <td>...</td>\n",
              "      <td>0.05 g</td>\n",
              "      <td>0.009 g</td>\n",
              "      <td>0.016 g</td>\n",
              "      <td>0.025 g</td>\n",
              "      <td>0.00 mg</td>\n",
              "      <td>0.0 g</td>\n",
              "      <td>0.09 g</td>\n",
              "      <td>0.00 mg</td>\n",
              "      <td>0.00 mg</td>\n",
              "      <td>8.32 g</td>\n",
              "    </tr>\n",
              "    <tr>\n",
              "      <th>1</th>\n",
              "      <td>1</td>\n",
              "      <td>Nuts, pecans</td>\n",
              "      <td>100 g</td>\n",
              "      <td>691</td>\n",
              "      <td>72g</td>\n",
              "      <td>6.2g</td>\n",
              "      <td>0</td>\n",
              "      <td>0.00 mg</td>\n",
              "      <td>40.5 mg</td>\n",
              "      <td>22.00 mcg</td>\n",
              "      <td>...</td>\n",
              "      <td>71.97 g</td>\n",
              "      <td>6.180 g</td>\n",
              "      <td>40.801 g</td>\n",
              "      <td>21.614 g</td>\n",
              "      <td>0.00 mg</td>\n",
              "      <td>0.0 g</td>\n",
              "      <td>1.49 g</td>\n",
              "      <td>0.00 mg</td>\n",
              "      <td>0.00 mg</td>\n",
              "      <td>3.52 g</td>\n",
              "    </tr>\n",
              "    <tr>\n",
              "      <th>2</th>\n",
              "      <td>2</td>\n",
              "      <td>Eggplant, raw</td>\n",
              "      <td>100 g</td>\n",
              "      <td>25</td>\n",
              "      <td>0.2g</td>\n",
              "      <td>NaN</td>\n",
              "      <td>0</td>\n",
              "      <td>2.00 mg</td>\n",
              "      <td>6.9 mg</td>\n",
              "      <td>22.00 mcg</td>\n",
              "      <td>...</td>\n",
              "      <td>0.18 g</td>\n",
              "      <td>0.034 g</td>\n",
              "      <td>0.016 g</td>\n",
              "      <td>0.076 g</td>\n",
              "      <td>0.00 mg</td>\n",
              "      <td>0.0 g</td>\n",
              "      <td>0.66 g</td>\n",
              "      <td>0.00 mg</td>\n",
              "      <td>0.00 mg</td>\n",
              "      <td>92.30 g</td>\n",
              "    </tr>\n",
              "    <tr>\n",
              "      <th>3</th>\n",
              "      <td>3</td>\n",
              "      <td>Teff, uncooked</td>\n",
              "      <td>100 g</td>\n",
              "      <td>367</td>\n",
              "      <td>2.4g</td>\n",
              "      <td>0.4g</td>\n",
              "      <td>0</td>\n",
              "      <td>12.00 mg</td>\n",
              "      <td>13.1 mg</td>\n",
              "      <td>0</td>\n",
              "      <td>...</td>\n",
              "      <td>2.38 g</td>\n",
              "      <td>0.449 g</td>\n",
              "      <td>0.589 g</td>\n",
              "      <td>1.071 g</td>\n",
              "      <td>0</td>\n",
              "      <td>0</td>\n",
              "      <td>2.37 g</td>\n",
              "      <td>0</td>\n",
              "      <td>0</td>\n",
              "      <td>8.82 g</td>\n",
              "    </tr>\n",
              "    <tr>\n",
              "      <th>4</th>\n",
              "      <td>4</td>\n",
              "      <td>Sherbet, orange</td>\n",
              "      <td>100 g</td>\n",
              "      <td>144</td>\n",
              "      <td>2g</td>\n",
              "      <td>1.2g</td>\n",
              "      <td>1mg</td>\n",
              "      <td>46.00 mg</td>\n",
              "      <td>7.7 mg</td>\n",
              "      <td>4.00 mcg</td>\n",
              "      <td>...</td>\n",
              "      <td>2.00 g</td>\n",
              "      <td>1.160 g</td>\n",
              "      <td>0.530 g</td>\n",
              "      <td>0.080 g</td>\n",
              "      <td>1.00 mg</td>\n",
              "      <td>0.0 g</td>\n",
              "      <td>0.40 g</td>\n",
              "      <td>0.00 mg</td>\n",
              "      <td>0.00 mg</td>\n",
              "      <td>66.10 g</td>\n",
              "    </tr>\n",
              "  </tbody>\n",
              "</table>\n",
              "<p>5 rows × 77 columns</p>\n",
              "</div>"
            ],
            "text/plain": [
              "   Unnamed: 0             name serving_size  calories total_fat saturated_fat  \\\n",
              "0           0       Cornstarch        100 g       381      0.1g           NaN   \n",
              "1           1     Nuts, pecans        100 g       691       72g          6.2g   \n",
              "2           2    Eggplant, raw        100 g        25      0.2g           NaN   \n",
              "3           3   Teff, uncooked        100 g       367      2.4g          0.4g   \n",
              "4           4  Sherbet, orange        100 g       144        2g          1.2g   \n",
              "\n",
              "  cholesterol    sodium  choline     folate  ...      fat  \\\n",
              "0           0   9.00 mg   0.4 mg   0.00 mcg  ...   0.05 g   \n",
              "1           0   0.00 mg  40.5 mg  22.00 mcg  ...  71.97 g   \n",
              "2           0   2.00 mg   6.9 mg  22.00 mcg  ...   0.18 g   \n",
              "3           0  12.00 mg  13.1 mg          0  ...   2.38 g   \n",
              "4         1mg  46.00 mg   7.7 mg   4.00 mcg  ...   2.00 g   \n",
              "\n",
              "  saturated_fatty_acids monounsaturated_fatty_acids  \\\n",
              "0               0.009 g                     0.016 g   \n",
              "1               6.180 g                    40.801 g   \n",
              "2               0.034 g                     0.016 g   \n",
              "3               0.449 g                     0.589 g   \n",
              "4               1.160 g                     0.530 g   \n",
              "\n",
              "  polyunsaturated_fatty_acids fatty_acids_total_trans alcohol     ash  \\\n",
              "0                     0.025 g                 0.00 mg   0.0 g  0.09 g   \n",
              "1                    21.614 g                 0.00 mg   0.0 g  1.49 g   \n",
              "2                     0.076 g                 0.00 mg   0.0 g  0.66 g   \n",
              "3                     1.071 g                       0       0  2.37 g   \n",
              "4                     0.080 g                 1.00 mg   0.0 g  0.40 g   \n",
              "\n",
              "  caffeine theobromine    water  \n",
              "0  0.00 mg     0.00 mg   8.32 g  \n",
              "1  0.00 mg     0.00 mg   3.52 g  \n",
              "2  0.00 mg     0.00 mg  92.30 g  \n",
              "3        0           0   8.82 g  \n",
              "4  0.00 mg     0.00 mg  66.10 g  \n",
              "\n",
              "[5 rows x 77 columns]"
            ]
          },
          "execution_count": 7,
          "metadata": {},
          "output_type": "execute_result"
        }
      ],
      "source": [
        "Nutrition.head()"
      ]
    },
    {
      "cell_type": "code",
      "execution_count": 8,
      "metadata": {
        "colab": {
          "base_uri": "https://localhost:8080/"
        },
        "id": "wrvhyoQEOXlS",
        "outputId": "47a7edcb-8600-4e23-9f96-a43648079560"
      },
      "outputs": [
        {
          "data": {
            "text/plain": [
              "name              0.000000\n",
              "serving_size      0.000000\n",
              "calories          0.000000\n",
              "total_fat         0.000000\n",
              "saturated_fat    18.090795\n",
              "cholesterol       0.000000\n",
              "sodium            0.000000\n",
              "potassium         0.000000\n",
              "dtype: float64"
            ]
          },
          "execution_count": 8,
          "metadata": {},
          "output_type": "execute_result"
        }
      ],
      "source": [
        "# checking for % of missing values in the data set\n",
        "Nutrition_df.isnull().sum()/len(Nutrition_df)*100"
      ]
    },
    {
      "cell_type": "markdown",
      "metadata": {
        "id": "nwuHVHbjrL2b"
      },
      "source": [
        "$Inference$\n",
        "> saturated_fat has 18.09% of missing values."
      ]
    },
    {
      "cell_type": "code",
      "execution_count": 9,
      "metadata": {
        "id": "0ivnkAFmOa0C"
      },
      "outputs": [],
      "source": [
        "#removing the null values\n",
        "mean_value = Nutrition_df[\"saturated_fat\"].mean()\n",
        "Nutrition_df[\"saturated_fat\"].fillna(mean_value,inplace=True)\n"
      ]
    },
    {
      "cell_type": "code",
      "execution_count": 10,
      "metadata": {
        "colab": {
          "base_uri": "https://localhost:8080/"
        },
        "id": "jVgSaPypPxxp",
        "outputId": "1cfa907d-5695-47cb-d7f4-66de503d0983"
      },
      "outputs": [
        {
          "data": {
            "text/plain": [
              "0"
            ]
          },
          "execution_count": 10,
          "metadata": {},
          "output_type": "execute_result"
        }
      ],
      "source": [
        "#checking for duplicates.\n",
        "Nutrition_df.duplicated().sum()"
      ]
    },
    {
      "cell_type": "markdown",
      "metadata": {
        "id": "GIhreT1IrL2d"
      },
      "source": [
        "$Inference$\n",
        "> The Nutrition dataset has no duplicates."
      ]
    },
    {
      "cell_type": "markdown",
      "metadata": {
        "id": "vfDPTsL5rL2d"
      },
      "source": [
        "# Recipe Dataset"
      ]
    },
    {
      "cell_type": "code",
      "execution_count": 11,
      "metadata": {
        "colab": {
          "base_uri": "https://localhost:8080/",
          "height": 772
        },
        "id": "uzhdldT7PR4C",
        "outputId": "64999666-a036-4299-d0a6-bd6ae55ba3cd"
      },
      "outputs": [
        {
          "data": {
            "text/html": [
              "<div>\n",
              "<style scoped>\n",
              "    .dataframe tbody tr th:only-of-type {\n",
              "        vertical-align: middle;\n",
              "    }\n",
              "\n",
              "    .dataframe tbody tr th {\n",
              "        vertical-align: top;\n",
              "    }\n",
              "\n",
              "    .dataframe thead th {\n",
              "        text-align: right;\n",
              "    }\n",
              "</style>\n",
              "<table border=\"1\" class=\"dataframe\">\n",
              "  <thead>\n",
              "    <tr style=\"text-align: right;\">\n",
              "      <th></th>\n",
              "      <th>name</th>\n",
              "      <th>id</th>\n",
              "      <th>minutes</th>\n",
              "      <th>contributor_id</th>\n",
              "      <th>submitted</th>\n",
              "      <th>tags</th>\n",
              "      <th>nutrition</th>\n",
              "      <th>n_steps</th>\n",
              "      <th>steps</th>\n",
              "      <th>description</th>\n",
              "      <th>ingredients</th>\n",
              "      <th>n_ingredients</th>\n",
              "    </tr>\n",
              "  </thead>\n",
              "  <tbody>\n",
              "    <tr>\n",
              "      <th>0</th>\n",
              "      <td>arriba   baked winter squash mexican style</td>\n",
              "      <td>137739</td>\n",
              "      <td>55</td>\n",
              "      <td>47892</td>\n",
              "      <td>2005-09-16</td>\n",
              "      <td>['60-minutes-or-less', 'time-to-make', 'course...</td>\n",
              "      <td>[51.5, 0.0, 13.0, 0.0, 2.0, 0.0, 4.0]</td>\n",
              "      <td>11</td>\n",
              "      <td>['make a choice and proceed with recipe', 'dep...</td>\n",
              "      <td>autumn is my favorite time of year to cook! th...</td>\n",
              "      <td>['winter squash', 'mexican seasoning', 'mixed ...</td>\n",
              "      <td>7</td>\n",
              "    </tr>\n",
              "    <tr>\n",
              "      <th>1</th>\n",
              "      <td>a bit different  breakfast pizza</td>\n",
              "      <td>31490</td>\n",
              "      <td>30</td>\n",
              "      <td>26278</td>\n",
              "      <td>2002-06-17</td>\n",
              "      <td>['30-minutes-or-less', 'time-to-make', 'course...</td>\n",
              "      <td>[173.4, 18.0, 0.0, 17.0, 22.0, 35.0, 1.0]</td>\n",
              "      <td>9</td>\n",
              "      <td>['preheat oven to 425 degrees f', 'press dough...</td>\n",
              "      <td>this recipe calls for the crust to be prebaked...</td>\n",
              "      <td>['prepared pizza crust', 'sausage patty', 'egg...</td>\n",
              "      <td>6</td>\n",
              "    </tr>\n",
              "    <tr>\n",
              "      <th>2</th>\n",
              "      <td>all in the kitchen  chili</td>\n",
              "      <td>112140</td>\n",
              "      <td>130</td>\n",
              "      <td>196586</td>\n",
              "      <td>2005-02-25</td>\n",
              "      <td>['time-to-make', 'course', 'preparation', 'mai...</td>\n",
              "      <td>[269.8, 22.0, 32.0, 48.0, 39.0, 27.0, 5.0]</td>\n",
              "      <td>6</td>\n",
              "      <td>['brown ground beef in large pot', 'add choppe...</td>\n",
              "      <td>this modified version of 'mom's' chili was a h...</td>\n",
              "      <td>['ground beef', 'yellow onions', 'diced tomato...</td>\n",
              "      <td>13</td>\n",
              "    </tr>\n",
              "    <tr>\n",
              "      <th>3</th>\n",
              "      <td>alouette  potatoes</td>\n",
              "      <td>59389</td>\n",
              "      <td>45</td>\n",
              "      <td>68585</td>\n",
              "      <td>2003-04-14</td>\n",
              "      <td>['60-minutes-or-less', 'time-to-make', 'course...</td>\n",
              "      <td>[368.1, 17.0, 10.0, 2.0, 14.0, 8.0, 20.0]</td>\n",
              "      <td>11</td>\n",
              "      <td>['place potatoes in a large pot of lightly sal...</td>\n",
              "      <td>this is a super easy, great tasting, make ahea...</td>\n",
              "      <td>['spreadable cheese with garlic and herbs', 'n...</td>\n",
              "      <td>11</td>\n",
              "    </tr>\n",
              "    <tr>\n",
              "      <th>4</th>\n",
              "      <td>amish  tomato ketchup  for canning</td>\n",
              "      <td>44061</td>\n",
              "      <td>190</td>\n",
              "      <td>41706</td>\n",
              "      <td>2002-10-25</td>\n",
              "      <td>['weeknight', 'time-to-make', 'course', 'main-...</td>\n",
              "      <td>[352.9, 1.0, 337.0, 23.0, 3.0, 0.0, 28.0]</td>\n",
              "      <td>5</td>\n",
              "      <td>['mix all ingredients&amp; boil for 2 1 / 2 hours ...</td>\n",
              "      <td>my dh's amish mother raised him on this recipe...</td>\n",
              "      <td>['tomato juice', 'apple cider vinegar', 'sugar...</td>\n",
              "      <td>8</td>\n",
              "    </tr>\n",
              "    <tr>\n",
              "      <th>5</th>\n",
              "      <td>apple a day  milk shake</td>\n",
              "      <td>5289</td>\n",
              "      <td>0</td>\n",
              "      <td>1533</td>\n",
              "      <td>1999-12-06</td>\n",
              "      <td>['15-minutes-or-less', 'time-to-make', 'course...</td>\n",
              "      <td>[160.2, 10.0, 55.0, 3.0, 9.0, 20.0, 7.0]</td>\n",
              "      <td>4</td>\n",
              "      <td>['combine ingredients in blender', 'cover and ...</td>\n",
              "      <td>NaN</td>\n",
              "      <td>['milk', 'vanilla ice cream', 'frozen apple ju...</td>\n",
              "      <td>4</td>\n",
              "    </tr>\n",
              "    <tr>\n",
              "      <th>6</th>\n",
              "      <td>aww  marinated olives</td>\n",
              "      <td>25274</td>\n",
              "      <td>15</td>\n",
              "      <td>21730</td>\n",
              "      <td>2002-04-14</td>\n",
              "      <td>['15-minutes-or-less', 'time-to-make', 'course...</td>\n",
              "      <td>[380.7, 53.0, 7.0, 24.0, 6.0, 24.0, 6.0]</td>\n",
              "      <td>4</td>\n",
              "      <td>['toast the fennel seeds and lightly crush the...</td>\n",
              "      <td>my italian mil was thoroughly impressed by my ...</td>\n",
              "      <td>['fennel seeds', 'green olives', 'ripe olives'...</td>\n",
              "      <td>9</td>\n",
              "    </tr>\n",
              "    <tr>\n",
              "      <th>7</th>\n",
              "      <td>backyard style  barbecued ribs</td>\n",
              "      <td>67888</td>\n",
              "      <td>120</td>\n",
              "      <td>10404</td>\n",
              "      <td>2003-07-30</td>\n",
              "      <td>['weeknight', 'time-to-make', 'course', 'main-...</td>\n",
              "      <td>[1109.5, 83.0, 378.0, 275.0, 96.0, 86.0, 36.0]</td>\n",
              "      <td>10</td>\n",
              "      <td>['in a medium saucepan combine all the ingredi...</td>\n",
              "      <td>this recipe is posted by request and was origi...</td>\n",
              "      <td>['pork spareribs', 'soy sauce', 'fresh garlic'...</td>\n",
              "      <td>22</td>\n",
              "    </tr>\n",
              "    <tr>\n",
              "      <th>8</th>\n",
              "      <td>bananas 4 ice cream  pie</td>\n",
              "      <td>70971</td>\n",
              "      <td>180</td>\n",
              "      <td>102353</td>\n",
              "      <td>2003-09-10</td>\n",
              "      <td>['weeknight', 'time-to-make', 'course', 'main-...</td>\n",
              "      <td>[4270.8, 254.0, 1306.0, 111.0, 127.0, 431.0, 2...</td>\n",
              "      <td>8</td>\n",
              "      <td>['crumble cookies into a 9-inch pie plate , or...</td>\n",
              "      <td>NaN</td>\n",
              "      <td>['chocolate sandwich style cookies', 'chocolat...</td>\n",
              "      <td>6</td>\n",
              "    </tr>\n",
              "    <tr>\n",
              "      <th>9</th>\n",
              "      <td>beat this  banana bread</td>\n",
              "      <td>75452</td>\n",
              "      <td>70</td>\n",
              "      <td>15892</td>\n",
              "      <td>2003-11-04</td>\n",
              "      <td>['weeknight', 'time-to-make', 'course', 'main-...</td>\n",
              "      <td>[2669.3, 160.0, 976.0, 107.0, 62.0, 310.0, 138.0]</td>\n",
              "      <td>12</td>\n",
              "      <td>['preheat oven to 350 degrees', 'butter two 9x...</td>\n",
              "      <td>from ann hodgman's</td>\n",
              "      <td>['sugar', 'unsalted butter', 'bananas', 'eggs'...</td>\n",
              "      <td>9</td>\n",
              "    </tr>\n",
              "  </tbody>\n",
              "</table>\n",
              "</div>"
            ],
            "text/plain": [
              "                                         name      id  minutes  \\\n",
              "0  arriba   baked winter squash mexican style  137739       55   \n",
              "1            a bit different  breakfast pizza   31490       30   \n",
              "2                   all in the kitchen  chili  112140      130   \n",
              "3                          alouette  potatoes   59389       45   \n",
              "4          amish  tomato ketchup  for canning   44061      190   \n",
              "5                     apple a day  milk shake    5289        0   \n",
              "6                       aww  marinated olives   25274       15   \n",
              "7              backyard style  barbecued ribs   67888      120   \n",
              "8                    bananas 4 ice cream  pie   70971      180   \n",
              "9                     beat this  banana bread   75452       70   \n",
              "\n",
              "   contributor_id   submitted  \\\n",
              "0           47892  2005-09-16   \n",
              "1           26278  2002-06-17   \n",
              "2          196586  2005-02-25   \n",
              "3           68585  2003-04-14   \n",
              "4           41706  2002-10-25   \n",
              "5            1533  1999-12-06   \n",
              "6           21730  2002-04-14   \n",
              "7           10404  2003-07-30   \n",
              "8          102353  2003-09-10   \n",
              "9           15892  2003-11-04   \n",
              "\n",
              "                                                tags  \\\n",
              "0  ['60-minutes-or-less', 'time-to-make', 'course...   \n",
              "1  ['30-minutes-or-less', 'time-to-make', 'course...   \n",
              "2  ['time-to-make', 'course', 'preparation', 'mai...   \n",
              "3  ['60-minutes-or-less', 'time-to-make', 'course...   \n",
              "4  ['weeknight', 'time-to-make', 'course', 'main-...   \n",
              "5  ['15-minutes-or-less', 'time-to-make', 'course...   \n",
              "6  ['15-minutes-or-less', 'time-to-make', 'course...   \n",
              "7  ['weeknight', 'time-to-make', 'course', 'main-...   \n",
              "8  ['weeknight', 'time-to-make', 'course', 'main-...   \n",
              "9  ['weeknight', 'time-to-make', 'course', 'main-...   \n",
              "\n",
              "                                           nutrition  n_steps  \\\n",
              "0              [51.5, 0.0, 13.0, 0.0, 2.0, 0.0, 4.0]       11   \n",
              "1          [173.4, 18.0, 0.0, 17.0, 22.0, 35.0, 1.0]        9   \n",
              "2         [269.8, 22.0, 32.0, 48.0, 39.0, 27.0, 5.0]        6   \n",
              "3          [368.1, 17.0, 10.0, 2.0, 14.0, 8.0, 20.0]       11   \n",
              "4          [352.9, 1.0, 337.0, 23.0, 3.0, 0.0, 28.0]        5   \n",
              "5           [160.2, 10.0, 55.0, 3.0, 9.0, 20.0, 7.0]        4   \n",
              "6           [380.7, 53.0, 7.0, 24.0, 6.0, 24.0, 6.0]        4   \n",
              "7     [1109.5, 83.0, 378.0, 275.0, 96.0, 86.0, 36.0]       10   \n",
              "8  [4270.8, 254.0, 1306.0, 111.0, 127.0, 431.0, 2...        8   \n",
              "9  [2669.3, 160.0, 976.0, 107.0, 62.0, 310.0, 138.0]       12   \n",
              "\n",
              "                                               steps  \\\n",
              "0  ['make a choice and proceed with recipe', 'dep...   \n",
              "1  ['preheat oven to 425 degrees f', 'press dough...   \n",
              "2  ['brown ground beef in large pot', 'add choppe...   \n",
              "3  ['place potatoes in a large pot of lightly sal...   \n",
              "4  ['mix all ingredients& boil for 2 1 / 2 hours ...   \n",
              "5  ['combine ingredients in blender', 'cover and ...   \n",
              "6  ['toast the fennel seeds and lightly crush the...   \n",
              "7  ['in a medium saucepan combine all the ingredi...   \n",
              "8  ['crumble cookies into a 9-inch pie plate , or...   \n",
              "9  ['preheat oven to 350 degrees', 'butter two 9x...   \n",
              "\n",
              "                                         description  \\\n",
              "0  autumn is my favorite time of year to cook! th...   \n",
              "1  this recipe calls for the crust to be prebaked...   \n",
              "2  this modified version of 'mom's' chili was a h...   \n",
              "3  this is a super easy, great tasting, make ahea...   \n",
              "4  my dh's amish mother raised him on this recipe...   \n",
              "5                                                NaN   \n",
              "6  my italian mil was thoroughly impressed by my ...   \n",
              "7  this recipe is posted by request and was origi...   \n",
              "8                                                NaN   \n",
              "9                                from ann hodgman's    \n",
              "\n",
              "                                         ingredients  n_ingredients  \n",
              "0  ['winter squash', 'mexican seasoning', 'mixed ...              7  \n",
              "1  ['prepared pizza crust', 'sausage patty', 'egg...              6  \n",
              "2  ['ground beef', 'yellow onions', 'diced tomato...             13  \n",
              "3  ['spreadable cheese with garlic and herbs', 'n...             11  \n",
              "4  ['tomato juice', 'apple cider vinegar', 'sugar...              8  \n",
              "5  ['milk', 'vanilla ice cream', 'frozen apple ju...              4  \n",
              "6  ['fennel seeds', 'green olives', 'ripe olives'...              9  \n",
              "7  ['pork spareribs', 'soy sauce', 'fresh garlic'...             22  \n",
              "8  ['chocolate sandwich style cookies', 'chocolat...              6  \n",
              "9  ['sugar', 'unsalted butter', 'bananas', 'eggs'...              9  "
            ]
          },
          "execution_count": 11,
          "metadata": {},
          "output_type": "execute_result"
        }
      ],
      "source": [
        "#loading the data\n",
        "recipes = pd.read_csv('RAW_recipes.csv')\n",
        "recipes.head(10)"
      ]
    },
    {
      "cell_type": "code",
      "execution_count": 12,
      "metadata": {
        "colab": {
          "base_uri": "https://localhost:8080/"
        },
        "id": "2NfNTSN568ug",
        "outputId": "007026f3-173c-43c4-8b74-3625f2d72040"
      },
      "outputs": [
        {
          "name": "stdout",
          "output_type": "stream",
          "text": [
            "<class 'pandas.core.frame.DataFrame'>\n",
            "RangeIndex: 231637 entries, 0 to 231636\n",
            "Data columns (total 12 columns):\n",
            " #   Column          Non-Null Count   Dtype \n",
            "---  ------          --------------   ----- \n",
            " 0   name            231636 non-null  object\n",
            " 1   id              231637 non-null  int64 \n",
            " 2   minutes         231637 non-null  int64 \n",
            " 3   contributor_id  231637 non-null  int64 \n",
            " 4   submitted       231637 non-null  object\n",
            " 5   tags            231637 non-null  object\n",
            " 6   nutrition       231637 non-null  object\n",
            " 7   n_steps         231637 non-null  int64 \n",
            " 8   steps           231637 non-null  object\n",
            " 9   description     226658 non-null  object\n",
            " 10  ingredients     231637 non-null  object\n",
            " 11  n_ingredients   231637 non-null  int64 \n",
            "dtypes: int64(5), object(7)\n",
            "memory usage: 21.2+ MB\n"
          ]
        }
      ],
      "source": [
        "#getting info of the recipes data set.\n",
        "recipes.info()"
      ]
    },
    {
      "cell_type": "markdown",
      "metadata": {
        "id": "DnDFWEcIrL2f"
      },
      "source": [
        "$Inference$\n",
        "* The Recipe dataset has ```231636``` rows and ```12``` columns.\n",
        "* The dataset has Object data types and float."
      ]
    },
    {
      "cell_type": "code",
      "execution_count": 13,
      "metadata": {
        "id": "Fuisob2-RoF-"
      },
      "outputs": [],
      "source": [
        "# creating a new recipes data frame of the recipes dataset with the relevant features.\n",
        "recipes_df = recipes.loc[:, ['id','name','minutes','nutrition','tags','ingredients','steps']]"
      ]
    },
    {
      "cell_type": "code",
      "execution_count": 14,
      "metadata": {
        "id": "_SL4LjN3R7k1"
      },
      "outputs": [],
      "source": [
        "# Splitting the nutrition column into individual nutrient columns\n",
        "recipes_df[['calories', 'total fat (PDV)', 'sugar (PDV)', 'sodium (PDV)', 'protein (PDV)', 'saturated fat (PDV)', 'carbohydrates (PDV)']] = recipes['nutrition'].str.split(\",\", expand=True)\n",
        "\n",
        "# Removing extra characters from specific columns\n",
        "recipes_df['calories'] = recipes_df['calories'].str.replace('[', '')\n",
        "recipes_df['carbohydrates (PDV)'] = recipes_df['carbohydrates (PDV)'].str.replace(']', '')\n"
      ]
    },
    {
      "cell_type": "code",
      "execution_count": 15,
      "metadata": {
        "colab": {
          "base_uri": "https://localhost:8080/",
          "height": 458
        },
        "id": "KGgQ845bSEoi",
        "outputId": "4444db1f-2174-4243-cc6b-586b5dfab259"
      },
      "outputs": [
        {
          "data": {
            "text/html": [
              "<div>\n",
              "<style scoped>\n",
              "    .dataframe tbody tr th:only-of-type {\n",
              "        vertical-align: middle;\n",
              "    }\n",
              "\n",
              "    .dataframe tbody tr th {\n",
              "        vertical-align: top;\n",
              "    }\n",
              "\n",
              "    .dataframe thead th {\n",
              "        text-align: right;\n",
              "    }\n",
              "</style>\n",
              "<table border=\"1\" class=\"dataframe\">\n",
              "  <thead>\n",
              "    <tr style=\"text-align: right;\">\n",
              "      <th></th>\n",
              "      <th>id</th>\n",
              "      <th>name</th>\n",
              "      <th>minutes</th>\n",
              "      <th>tags</th>\n",
              "      <th>ingredients</th>\n",
              "      <th>steps</th>\n",
              "      <th>calories</th>\n",
              "      <th>total fat (PDV)</th>\n",
              "      <th>sugar (PDV)</th>\n",
              "      <th>sodium (PDV)</th>\n",
              "      <th>protein (PDV)</th>\n",
              "      <th>saturated fat (PDV)</th>\n",
              "      <th>carbohydrates (PDV)</th>\n",
              "    </tr>\n",
              "  </thead>\n",
              "  <tbody>\n",
              "    <tr>\n",
              "      <th>0</th>\n",
              "      <td>137739</td>\n",
              "      <td>arriba   baked winter squash mexican style</td>\n",
              "      <td>55</td>\n",
              "      <td>['60-minutes-or-less', 'time-to-make', 'course...</td>\n",
              "      <td>['winter squash', 'mexican seasoning', 'mixed ...</td>\n",
              "      <td>['make a choice and proceed with recipe', 'dep...</td>\n",
              "      <td>51.5</td>\n",
              "      <td>0.0</td>\n",
              "      <td>13.0</td>\n",
              "      <td>0.0</td>\n",
              "      <td>2.0</td>\n",
              "      <td>0.0</td>\n",
              "      <td>4.0</td>\n",
              "    </tr>\n",
              "    <tr>\n",
              "      <th>1</th>\n",
              "      <td>31490</td>\n",
              "      <td>a bit different  breakfast pizza</td>\n",
              "      <td>30</td>\n",
              "      <td>['30-minutes-or-less', 'time-to-make', 'course...</td>\n",
              "      <td>['prepared pizza crust', 'sausage patty', 'egg...</td>\n",
              "      <td>['preheat oven to 425 degrees f', 'press dough...</td>\n",
              "      <td>173.4</td>\n",
              "      <td>18.0</td>\n",
              "      <td>0.0</td>\n",
              "      <td>17.0</td>\n",
              "      <td>22.0</td>\n",
              "      <td>35.0</td>\n",
              "      <td>1.0</td>\n",
              "    </tr>\n",
              "    <tr>\n",
              "      <th>2</th>\n",
              "      <td>112140</td>\n",
              "      <td>all in the kitchen  chili</td>\n",
              "      <td>130</td>\n",
              "      <td>['time-to-make', 'course', 'preparation', 'mai...</td>\n",
              "      <td>['ground beef', 'yellow onions', 'diced tomato...</td>\n",
              "      <td>['brown ground beef in large pot', 'add choppe...</td>\n",
              "      <td>269.8</td>\n",
              "      <td>22.0</td>\n",
              "      <td>32.0</td>\n",
              "      <td>48.0</td>\n",
              "      <td>39.0</td>\n",
              "      <td>27.0</td>\n",
              "      <td>5.0</td>\n",
              "    </tr>\n",
              "    <tr>\n",
              "      <th>3</th>\n",
              "      <td>59389</td>\n",
              "      <td>alouette  potatoes</td>\n",
              "      <td>45</td>\n",
              "      <td>['60-minutes-or-less', 'time-to-make', 'course...</td>\n",
              "      <td>['spreadable cheese with garlic and herbs', 'n...</td>\n",
              "      <td>['place potatoes in a large pot of lightly sal...</td>\n",
              "      <td>368.1</td>\n",
              "      <td>17.0</td>\n",
              "      <td>10.0</td>\n",
              "      <td>2.0</td>\n",
              "      <td>14.0</td>\n",
              "      <td>8.0</td>\n",
              "      <td>20.0</td>\n",
              "    </tr>\n",
              "    <tr>\n",
              "      <th>4</th>\n",
              "      <td>44061</td>\n",
              "      <td>amish  tomato ketchup  for canning</td>\n",
              "      <td>190</td>\n",
              "      <td>['weeknight', 'time-to-make', 'course', 'main-...</td>\n",
              "      <td>['tomato juice', 'apple cider vinegar', 'sugar...</td>\n",
              "      <td>['mix all ingredients&amp; boil for 2 1 / 2 hours ...</td>\n",
              "      <td>352.9</td>\n",
              "      <td>1.0</td>\n",
              "      <td>337.0</td>\n",
              "      <td>23.0</td>\n",
              "      <td>3.0</td>\n",
              "      <td>0.0</td>\n",
              "      <td>28.0</td>\n",
              "    </tr>\n",
              "  </tbody>\n",
              "</table>\n",
              "</div>"
            ],
            "text/plain": [
              "       id                                        name  minutes  \\\n",
              "0  137739  arriba   baked winter squash mexican style       55   \n",
              "1   31490            a bit different  breakfast pizza       30   \n",
              "2  112140                   all in the kitchen  chili      130   \n",
              "3   59389                          alouette  potatoes       45   \n",
              "4   44061          amish  tomato ketchup  for canning      190   \n",
              "\n",
              "                                                tags  \\\n",
              "0  ['60-minutes-or-less', 'time-to-make', 'course...   \n",
              "1  ['30-minutes-or-less', 'time-to-make', 'course...   \n",
              "2  ['time-to-make', 'course', 'preparation', 'mai...   \n",
              "3  ['60-minutes-or-less', 'time-to-make', 'course...   \n",
              "4  ['weeknight', 'time-to-make', 'course', 'main-...   \n",
              "\n",
              "                                         ingredients  \\\n",
              "0  ['winter squash', 'mexican seasoning', 'mixed ...   \n",
              "1  ['prepared pizza crust', 'sausage patty', 'egg...   \n",
              "2  ['ground beef', 'yellow onions', 'diced tomato...   \n",
              "3  ['spreadable cheese with garlic and herbs', 'n...   \n",
              "4  ['tomato juice', 'apple cider vinegar', 'sugar...   \n",
              "\n",
              "                                               steps calories total fat (PDV)  \\\n",
              "0  ['make a choice and proceed with recipe', 'dep...     51.5             0.0   \n",
              "1  ['preheat oven to 425 degrees f', 'press dough...    173.4            18.0   \n",
              "2  ['brown ground beef in large pot', 'add choppe...    269.8            22.0   \n",
              "3  ['place potatoes in a large pot of lightly sal...    368.1            17.0   \n",
              "4  ['mix all ingredients& boil for 2 1 / 2 hours ...    352.9             1.0   \n",
              "\n",
              "  sugar (PDV) sodium (PDV) protein (PDV) saturated fat (PDV)  \\\n",
              "0        13.0          0.0           2.0                 0.0   \n",
              "1         0.0         17.0          22.0                35.0   \n",
              "2        32.0         48.0          39.0                27.0   \n",
              "3        10.0          2.0          14.0                 8.0   \n",
              "4       337.0         23.0           3.0                 0.0   \n",
              "\n",
              "  carbohydrates (PDV)  \n",
              "0                 4.0  \n",
              "1                 1.0  \n",
              "2                 5.0  \n",
              "3                20.0  \n",
              "4                28.0  "
            ]
          },
          "execution_count": 15,
          "metadata": {},
          "output_type": "execute_result"
        }
      ],
      "source": [
        "#dropping the nutrition column\n",
        "recipes_df.drop(['nutrition'],axis=1).head()"
      ]
    },
    {
      "cell_type": "code",
      "execution_count": 16,
      "metadata": {
        "colab": {
          "base_uri": "https://localhost:8080/"
        },
        "id": "pM-x8uzOSrxU",
        "outputId": "170793c7-ff95-4f7a-9ea9-0533a9aaa138"
      },
      "outputs": [
        {
          "name": "stdout",
          "output_type": "stream",
          "text": [
            "id                     0\n",
            "name                   1\n",
            "minutes                0\n",
            "nutrition              0\n",
            "tags                   0\n",
            "ingredients            0\n",
            "steps                  0\n",
            "calories               0\n",
            "total fat (PDV)        0\n",
            "sugar (PDV)            0\n",
            "sodium (PDV)           0\n",
            "protein (PDV)          0\n",
            "saturated fat (PDV)    0\n",
            "carbohydrates (PDV)    0\n",
            "dtype: int64\n"
          ]
        }
      ],
      "source": [
        "#cheching for missing values\n",
        "missing_values = recipes_df.isnull().sum()\n",
        "print(missing_values)"
      ]
    },
    {
      "cell_type": "code",
      "execution_count": 17,
      "metadata": {
        "id": "d87jKyWBSMDc"
      },
      "outputs": [],
      "source": [
        "#appling function columns to clean to all numerical columns .\n",
        "cols_to_clean = [ 'calories',\n",
        "       'total fat (PDV)', 'sugar (PDV)', 'sodium (PDV)', 'protein (PDV)',\n",
        "       'saturated fat (PDV)', 'carbohydrates (PDV)' ]\n",
        "for col in cols_to_clean:\n",
        "  recipes_df[col] = recipes_df[col].astype(str)\n",
        "  recipes_df = clean_df(recipes_df, col)"
      ]
    },
    {
      "cell_type": "code",
      "execution_count": 18,
      "metadata": {
        "id": "jCKlZYaLUepc"
      },
      "outputs": [],
      "source": [
        "#dropping all rows with missing values\n",
        "recipes_df.dropna(inplace=True)"
      ]
    },
    {
      "cell_type": "code",
      "execution_count": 19,
      "metadata": {
        "colab": {
          "base_uri": "https://localhost:8080/"
        },
        "id": "na5sfPyWUlU7",
        "outputId": "f727b9af-b69a-4e97-879a-45f5ab5b584e"
      },
      "outputs": [
        {
          "data": {
            "text/plain": [
              "id                     0\n",
              "name                   0\n",
              "minutes                0\n",
              "nutrition              0\n",
              "tags                   0\n",
              "ingredients            0\n",
              "steps                  0\n",
              "calories               0\n",
              "total fat (PDV)        0\n",
              "sugar (PDV)            0\n",
              "sodium (PDV)           0\n",
              "protein (PDV)          0\n",
              "saturated fat (PDV)    0\n",
              "carbohydrates (PDV)    0\n",
              "dtype: int64"
            ]
          },
          "execution_count": 19,
          "metadata": {},
          "output_type": "execute_result"
        }
      ],
      "source": [
        "#confirming there are no missing values\n",
        "recipes_df.isnull().sum()"
      ]
    },
    {
      "cell_type": "code",
      "execution_count": 20,
      "metadata": {
        "colab": {
          "base_uri": "https://localhost:8080/",
          "height": 476
        },
        "id": "hBumujReSY_D",
        "outputId": "cb2c212c-389b-4829-81d8-f07d9b3dbb7b"
      },
      "outputs": [
        {
          "data": {
            "text/html": [
              "<div>\n",
              "<style scoped>\n",
              "    .dataframe tbody tr th:only-of-type {\n",
              "        vertical-align: middle;\n",
              "    }\n",
              "\n",
              "    .dataframe tbody tr th {\n",
              "        vertical-align: top;\n",
              "    }\n",
              "\n",
              "    .dataframe thead th {\n",
              "        text-align: right;\n",
              "    }\n",
              "</style>\n",
              "<table border=\"1\" class=\"dataframe\">\n",
              "  <thead>\n",
              "    <tr style=\"text-align: right;\">\n",
              "      <th></th>\n",
              "      <th>id</th>\n",
              "      <th>name</th>\n",
              "      <th>minutes</th>\n",
              "      <th>nutrition</th>\n",
              "      <th>tags</th>\n",
              "      <th>ingredients</th>\n",
              "      <th>steps</th>\n",
              "      <th>calories</th>\n",
              "      <th>total fat (PDV)</th>\n",
              "      <th>sugar (PDV)</th>\n",
              "      <th>sodium (PDV)</th>\n",
              "      <th>protein (PDV)</th>\n",
              "      <th>saturated fat (PDV)</th>\n",
              "      <th>carbohydrates (PDV)</th>\n",
              "    </tr>\n",
              "  </thead>\n",
              "  <tbody>\n",
              "    <tr>\n",
              "      <th>0</th>\n",
              "      <td>137739</td>\n",
              "      <td>arriba   baked winter squash mexican style</td>\n",
              "      <td>55</td>\n",
              "      <td>[51.5, 0.0, 13.0, 0.0, 2.0, 0.0, 4.0]</td>\n",
              "      <td>['60-minutes-or-less', 'time-to-make', 'course...</td>\n",
              "      <td>['winter squash', 'mexican seasoning', 'mixed ...</td>\n",
              "      <td>['make a choice and proceed with recipe', 'dep...</td>\n",
              "      <td>51.5</td>\n",
              "      <td>0.0</td>\n",
              "      <td>13.0</td>\n",
              "      <td>0.0</td>\n",
              "      <td>2.0</td>\n",
              "      <td>0.0</td>\n",
              "      <td>4.0</td>\n",
              "    </tr>\n",
              "    <tr>\n",
              "      <th>1</th>\n",
              "      <td>31490</td>\n",
              "      <td>a bit different  breakfast pizza</td>\n",
              "      <td>30</td>\n",
              "      <td>[173.4, 18.0, 0.0, 17.0, 22.0, 35.0, 1.0]</td>\n",
              "      <td>['30-minutes-or-less', 'time-to-make', 'course...</td>\n",
              "      <td>['prepared pizza crust', 'sausage patty', 'egg...</td>\n",
              "      <td>['preheat oven to 425 degrees f', 'press dough...</td>\n",
              "      <td>173.4</td>\n",
              "      <td>18.0</td>\n",
              "      <td>0.0</td>\n",
              "      <td>17.0</td>\n",
              "      <td>22.0</td>\n",
              "      <td>35.0</td>\n",
              "      <td>1.0</td>\n",
              "    </tr>\n",
              "    <tr>\n",
              "      <th>2</th>\n",
              "      <td>112140</td>\n",
              "      <td>all in the kitchen  chili</td>\n",
              "      <td>130</td>\n",
              "      <td>[269.8, 22.0, 32.0, 48.0, 39.0, 27.0, 5.0]</td>\n",
              "      <td>['time-to-make', 'course', 'preparation', 'mai...</td>\n",
              "      <td>['ground beef', 'yellow onions', 'diced tomato...</td>\n",
              "      <td>['brown ground beef in large pot', 'add choppe...</td>\n",
              "      <td>269.8</td>\n",
              "      <td>22.0</td>\n",
              "      <td>32.0</td>\n",
              "      <td>48.0</td>\n",
              "      <td>39.0</td>\n",
              "      <td>27.0</td>\n",
              "      <td>5.0</td>\n",
              "    </tr>\n",
              "    <tr>\n",
              "      <th>3</th>\n",
              "      <td>59389</td>\n",
              "      <td>alouette  potatoes</td>\n",
              "      <td>45</td>\n",
              "      <td>[368.1, 17.0, 10.0, 2.0, 14.0, 8.0, 20.0]</td>\n",
              "      <td>['60-minutes-or-less', 'time-to-make', 'course...</td>\n",
              "      <td>['spreadable cheese with garlic and herbs', 'n...</td>\n",
              "      <td>['place potatoes in a large pot of lightly sal...</td>\n",
              "      <td>368.1</td>\n",
              "      <td>17.0</td>\n",
              "      <td>10.0</td>\n",
              "      <td>2.0</td>\n",
              "      <td>14.0</td>\n",
              "      <td>8.0</td>\n",
              "      <td>20.0</td>\n",
              "    </tr>\n",
              "    <tr>\n",
              "      <th>4</th>\n",
              "      <td>44061</td>\n",
              "      <td>amish  tomato ketchup  for canning</td>\n",
              "      <td>190</td>\n",
              "      <td>[352.9, 1.0, 337.0, 23.0, 3.0, 0.0, 28.0]</td>\n",
              "      <td>['weeknight', 'time-to-make', 'course', 'main-...</td>\n",
              "      <td>['tomato juice', 'apple cider vinegar', 'sugar...</td>\n",
              "      <td>['mix all ingredients&amp; boil for 2 1 / 2 hours ...</td>\n",
              "      <td>352.9</td>\n",
              "      <td>1.0</td>\n",
              "      <td>337.0</td>\n",
              "      <td>23.0</td>\n",
              "      <td>3.0</td>\n",
              "      <td>0.0</td>\n",
              "      <td>28.0</td>\n",
              "    </tr>\n",
              "  </tbody>\n",
              "</table>\n",
              "</div>"
            ],
            "text/plain": [
              "       id                                        name  minutes  \\\n",
              "0  137739  arriba   baked winter squash mexican style       55   \n",
              "1   31490            a bit different  breakfast pizza       30   \n",
              "2  112140                   all in the kitchen  chili      130   \n",
              "3   59389                          alouette  potatoes       45   \n",
              "4   44061          amish  tomato ketchup  for canning      190   \n",
              "\n",
              "                                    nutrition  \\\n",
              "0       [51.5, 0.0, 13.0, 0.0, 2.0, 0.0, 4.0]   \n",
              "1   [173.4, 18.0, 0.0, 17.0, 22.0, 35.0, 1.0]   \n",
              "2  [269.8, 22.0, 32.0, 48.0, 39.0, 27.0, 5.0]   \n",
              "3   [368.1, 17.0, 10.0, 2.0, 14.0, 8.0, 20.0]   \n",
              "4   [352.9, 1.0, 337.0, 23.0, 3.0, 0.0, 28.0]   \n",
              "\n",
              "                                                tags  \\\n",
              "0  ['60-minutes-or-less', 'time-to-make', 'course...   \n",
              "1  ['30-minutes-or-less', 'time-to-make', 'course...   \n",
              "2  ['time-to-make', 'course', 'preparation', 'mai...   \n",
              "3  ['60-minutes-or-less', 'time-to-make', 'course...   \n",
              "4  ['weeknight', 'time-to-make', 'course', 'main-...   \n",
              "\n",
              "                                         ingredients  \\\n",
              "0  ['winter squash', 'mexican seasoning', 'mixed ...   \n",
              "1  ['prepared pizza crust', 'sausage patty', 'egg...   \n",
              "2  ['ground beef', 'yellow onions', 'diced tomato...   \n",
              "3  ['spreadable cheese with garlic and herbs', 'n...   \n",
              "4  ['tomato juice', 'apple cider vinegar', 'sugar...   \n",
              "\n",
              "                                               steps  calories  \\\n",
              "0  ['make a choice and proceed with recipe', 'dep...      51.5   \n",
              "1  ['preheat oven to 425 degrees f', 'press dough...     173.4   \n",
              "2  ['brown ground beef in large pot', 'add choppe...     269.8   \n",
              "3  ['place potatoes in a large pot of lightly sal...     368.1   \n",
              "4  ['mix all ingredients& boil for 2 1 / 2 hours ...     352.9   \n",
              "\n",
              "   total fat (PDV)  sugar (PDV)  sodium (PDV)  protein (PDV)  \\\n",
              "0              0.0         13.0           0.0            2.0   \n",
              "1             18.0          0.0          17.0           22.0   \n",
              "2             22.0         32.0          48.0           39.0   \n",
              "3             17.0         10.0           2.0           14.0   \n",
              "4              1.0        337.0          23.0            3.0   \n",
              "\n",
              "   saturated fat (PDV)  carbohydrates (PDV)  \n",
              "0                  0.0                  4.0  \n",
              "1                 35.0                  1.0  \n",
              "2                 27.0                  5.0  \n",
              "3                  8.0                 20.0  \n",
              "4                  0.0                 28.0  "
            ]
          },
          "execution_count": 20,
          "metadata": {},
          "output_type": "execute_result"
        }
      ],
      "source": [
        "#confirming the data columns has been cleaned\n",
        "recipes_df.head()"
      ]
    },
    {
      "cell_type": "markdown",
      "metadata": {
        "id": "OdUCK_GOrL2l"
      },
      "source": [
        "# Kenyan Local Food Recipes Dataset"
      ]
    },
    {
      "cell_type": "code",
      "execution_count": 21,
      "metadata": {
        "id": "MvDQUtzCrL29"
      },
      "outputs": [],
      "source": [
        "recipe_ke = pd.read_csv('Kenyan_recipe.csv')"
      ]
    },
    {
      "cell_type": "code",
      "execution_count": 22,
      "metadata": {
        "colab": {
          "base_uri": "https://localhost:8080/",
          "height": 372
        },
        "id": "-Q6M32serL29",
        "outputId": "d05a5626-c24f-41de-bc91-97430e99f315"
      },
      "outputs": [
        {
          "data": {
            "text/html": [
              "<div>\n",
              "<style scoped>\n",
              "    .dataframe tbody tr th:only-of-type {\n",
              "        vertical-align: middle;\n",
              "    }\n",
              "\n",
              "    .dataframe tbody tr th {\n",
              "        vertical-align: top;\n",
              "    }\n",
              "\n",
              "    .dataframe thead th {\n",
              "        text-align: right;\n",
              "    }\n",
              "</style>\n",
              "<table border=\"1\" class=\"dataframe\">\n",
              "  <thead>\n",
              "    <tr style=\"text-align: right;\">\n",
              "      <th></th>\n",
              "      <th>name</th>\n",
              "      <th>minutes</th>\n",
              "      <th>ingredients</th>\n",
              "      <th>steps</th>\n",
              "      <th>Serving</th>\n",
              "      <th>calories</th>\n",
              "      <th>total fat (PDV)</th>\n",
              "      <th>sugar (PDV)</th>\n",
              "      <th>sodium (PDV)</th>\n",
              "      <th>protein (PDV)</th>\n",
              "      <th>saturated fat (PDV)</th>\n",
              "      <th>carbohydrates (PDV)</th>\n",
              "    </tr>\n",
              "  </thead>\n",
              "  <tbody>\n",
              "    <tr>\n",
              "      <th>0</th>\n",
              "      <td>Ugali and omena</td>\n",
              "      <td>30</td>\n",
              "      <td>Maize flour\\nOmena\\nOil\\n3 chopped tomatoes\\nC...</td>\n",
              "      <td>Step 1\\nBoil 3 cups of water add maize flour s...</td>\n",
              "      <td>4.0</td>\n",
              "      <td>205.0</td>\n",
              "      <td>30.0</td>\n",
              "      <td>203.0</td>\n",
              "      <td>29.0</td>\n",
              "      <td>192.0</td>\n",
              "      <td>172.0</td>\n",
              "      <td>182.0</td>\n",
              "    </tr>\n",
              "    <tr>\n",
              "      <th>1</th>\n",
              "      <td>Kienyeji fried</td>\n",
              "      <td>25</td>\n",
              "      <td>1 table spoon salt\\n2 table spoon cooking vege...</td>\n",
              "      <td>Asemble the vegetables.\\nPluck leaves from the...</td>\n",
              "      <td>1.0</td>\n",
              "      <td>135.0</td>\n",
              "      <td>173.0</td>\n",
              "      <td>247.0</td>\n",
              "      <td>196.0</td>\n",
              "      <td>87.0</td>\n",
              "      <td>200.0</td>\n",
              "      <td>239.0</td>\n",
              "    </tr>\n",
              "    <tr>\n",
              "      <th>2</th>\n",
              "      <td>dengu Chapati</td>\n",
              "      <td>30</td>\n",
              "      <td>Ndengu\\ncubes congets diced in\\ncubes carrots ...</td>\n",
              "      <td>Step 1\\nSteam the mince meat and add oil then ...</td>\n",
              "      <td>4.0</td>\n",
              "      <td>493.0</td>\n",
              "      <td>211.0</td>\n",
              "      <td>131.0</td>\n",
              "      <td>260.0</td>\n",
              "      <td>84.0</td>\n",
              "      <td>75.0</td>\n",
              "      <td>275.0</td>\n",
              "    </tr>\n",
              "    <tr>\n",
              "      <th>3</th>\n",
              "      <td>Ugali matumbo ft african salad</td>\n",
              "      <td>60</td>\n",
              "      <td>400 g Maize flour \\n20 g Onions \\n11/2 kgMatum...</td>\n",
              "      <td>Step 1 Bring the water to boil, add the maize ...</td>\n",
              "      <td>4.0</td>\n",
              "      <td>94.0</td>\n",
              "      <td>259.0</td>\n",
              "      <td>71.0</td>\n",
              "      <td>255.0</td>\n",
              "      <td>205.0</td>\n",
              "      <td>20.0</td>\n",
              "      <td>57.0</td>\n",
              "    </tr>\n",
              "    <tr>\n",
              "      <th>4</th>\n",
              "      <td>Chicken stew</td>\n",
              "      <td>60</td>\n",
              "      <td>Boiled chicken\\n2 Red onion\\n1 Spring onion\\n4...</td>\n",
              "      <td>Step 1Boil 1 diced potato and 1 diced carrot\\...</td>\n",
              "      <td>2.0</td>\n",
              "      <td>13.0</td>\n",
              "      <td>35.0</td>\n",
              "      <td>221.0</td>\n",
              "      <td>109.0</td>\n",
              "      <td>219.0</td>\n",
              "      <td>210.0</td>\n",
              "      <td>125.0</td>\n",
              "    </tr>\n",
              "  </tbody>\n",
              "</table>\n",
              "</div>"
            ],
            "text/plain": [
              "                             name minutes  \\\n",
              "0                 Ugali and omena      30   \n",
              "1                  Kienyeji fried      25   \n",
              "2                   dengu Chapati      30   \n",
              "3  Ugali matumbo ft african salad      60   \n",
              "4                    Chicken stew      60   \n",
              "\n",
              "                                         ingredients  \\\n",
              "0  Maize flour\\nOmena\\nOil\\n3 chopped tomatoes\\nC...   \n",
              "1  1 table spoon salt\\n2 table spoon cooking vege...   \n",
              "2  Ndengu\\ncubes congets diced in\\ncubes carrots ...   \n",
              "3  400 g Maize flour \\n20 g Onions \\n11/2 kgMatum...   \n",
              "4  Boiled chicken\\n2 Red onion\\n1 Spring onion\\n4...   \n",
              "\n",
              "                                               steps  Serving  calories  \\\n",
              "0  Step 1\\nBoil 3 cups of water add maize flour s...      4.0     205.0   \n",
              "1  Asemble the vegetables.\\nPluck leaves from the...      1.0     135.0   \n",
              "2  Step 1\\nSteam the mince meat and add oil then ...      4.0     493.0   \n",
              "3  Step 1 Bring the water to boil, add the maize ...      4.0      94.0   \n",
              "4   Step 1Boil 1 diced potato and 1 diced carrot\\...      2.0      13.0   \n",
              "\n",
              "   total fat (PDV)  sugar (PDV)  sodium (PDV)  protein (PDV)  \\\n",
              "0             30.0        203.0          29.0          192.0   \n",
              "1            173.0        247.0         196.0           87.0   \n",
              "2            211.0        131.0         260.0           84.0   \n",
              "3            259.0         71.0         255.0          205.0   \n",
              "4             35.0        221.0         109.0          219.0   \n",
              "\n",
              "   saturated fat (PDV)  carbohydrates (PDV)  \n",
              "0                172.0                182.0  \n",
              "1                200.0                239.0  \n",
              "2                 75.0                275.0  \n",
              "3                 20.0                 57.0  \n",
              "4                210.0                125.0  "
            ]
          },
          "execution_count": 22,
          "metadata": {},
          "output_type": "execute_result"
        }
      ],
      "source": [
        "recipe_ke.head()"
      ]
    },
    {
      "cell_type": "code",
      "execution_count": 23,
      "metadata": {
        "colab": {
          "base_uri": "https://localhost:8080/"
        },
        "id": "wFsHU3J3rL2-",
        "outputId": "b6a1499c-58c2-48e5-e3d4-17ea94bd0447"
      },
      "outputs": [
        {
          "name": "stdout",
          "output_type": "stream",
          "text": [
            "<class 'pandas.core.frame.DataFrame'>\n",
            "RangeIndex: 218 entries, 0 to 217\n",
            "Data columns (total 12 columns):\n",
            " #   Column               Non-Null Count  Dtype  \n",
            "---  ------               --------------  -----  \n",
            " 0   name                 211 non-null    object \n",
            " 1   minutes              211 non-null    object \n",
            " 2   ingredients          210 non-null    object \n",
            " 3   steps                208 non-null    object \n",
            " 4   Serving              216 non-null    float64\n",
            " 5   calories             218 non-null    float64\n",
            " 6   total fat (PDV)      218 non-null    float64\n",
            " 7   sugar (PDV)          218 non-null    float64\n",
            " 8   sodium (PDV)         218 non-null    float64\n",
            " 9   protein (PDV)        218 non-null    float64\n",
            " 10  saturated fat (PDV)  218 non-null    float64\n",
            " 11  carbohydrates (PDV)  218 non-null    float64\n",
            "dtypes: float64(8), object(4)\n",
            "memory usage: 20.6+ KB\n"
          ]
        }
      ],
      "source": [
        "recipe_ke.info()"
      ]
    },
    {
      "cell_type": "code",
      "execution_count": 24,
      "metadata": {
        "colab": {
          "base_uri": "https://localhost:8080/"
        },
        "id": "hLSJBuI_rL2_",
        "outputId": "49bdfee0-55b2-4f1c-ae45-521aa3140a20"
      },
      "outputs": [
        {
          "data": {
            "text/plain": [
              "name                   3.211009\n",
              "minutes                3.211009\n",
              "ingredients            3.669725\n",
              "steps                  4.587156\n",
              "Serving                0.917431\n",
              "calories               0.000000\n",
              "total fat (PDV)        0.000000\n",
              "sugar (PDV)            0.000000\n",
              "sodium (PDV)           0.000000\n",
              "protein (PDV)          0.000000\n",
              "saturated fat (PDV)    0.000000\n",
              "carbohydrates (PDV)    0.000000\n",
              "dtype: float64"
            ]
          },
          "execution_count": 24,
          "metadata": {},
          "output_type": "execute_result"
        }
      ],
      "source": [
        "#checking for % missing values\n",
        "recipe_ke.isnull().sum()/len(recipe_ke)*100"
      ]
    },
    {
      "cell_type": "code",
      "execution_count": 25,
      "metadata": {
        "colab": {
          "base_uri": "https://localhost:8080/",
          "height": 593
        },
        "id": "RA0CPHKprL3B",
        "outputId": "8dd06df0-1365-407f-b178-1bfcea1229fc"
      },
      "outputs": [
        {
          "data": {
            "text/plain": [
              "<AxesSubplot:>"
            ]
          },
          "execution_count": 25,
          "metadata": {},
          "output_type": "execute_result"
        },
        {
          "data": {
            "image/png": "[encoded data removed]",
            "text/plain": [
              "<Figure size 1152x360 with 1 Axes>"
            ]
          },
          "metadata": {
            "needs_background": "light"
          },
          "output_type": "display_data"
        }
      ],
      "source": [
        "# checking for null values Visualization\n",
        "fig, ax = plt.subplots(figsize=(16,5))\n",
        "sns.heatmap(recipe_ke.isnull(),yticklabels=False,cbar=False,cmap='viridis')"
      ]
    },
    {
      "cell_type": "code",
      "execution_count": 26,
      "metadata": {
        "id": "giof-Ym9rL3B"
      },
      "outputs": [],
      "source": [
        "#dropping the null values\n",
        "recipe_ke.dropna(inplace=True)"
      ]
    },
    {
      "cell_type": "code",
      "execution_count": 27,
      "metadata": {
        "colab": {
          "base_uri": "https://localhost:8080/"
        },
        "id": "X4gy_yDurL3C",
        "outputId": "ff05dfb4-bb21-4b5e-a524-033b3c4ce4f6"
      },
      "outputs": [
        {
          "data": {
            "text/plain": [
              "0"
            ]
          },
          "execution_count": 27,
          "metadata": {},
          "output_type": "execute_result"
        }
      ],
      "source": [
        "#CHecking for Duplicates\n",
        "recipe_ke.duplicated().sum()"
      ]
    },
    {
      "cell_type": "code",
      "execution_count": 28,
      "metadata": {
        "colab": {
          "base_uri": "https://localhost:8080/",
          "height": 354
        },
        "id": "SoFu0SMMrL3D",
        "outputId": "e37feb42-726c-4276-ae48-281e8da87dcc"
      },
      "outputs": [
        {
          "data": {
            "text/html": [
              "<div>\n",
              "<style scoped>\n",
              "    .dataframe tbody tr th:only-of-type {\n",
              "        vertical-align: middle;\n",
              "    }\n",
              "\n",
              "    .dataframe tbody tr th {\n",
              "        vertical-align: top;\n",
              "    }\n",
              "\n",
              "    .dataframe thead th {\n",
              "        text-align: right;\n",
              "    }\n",
              "</style>\n",
              "<table border=\"1\" class=\"dataframe\">\n",
              "  <thead>\n",
              "    <tr style=\"text-align: right;\">\n",
              "      <th></th>\n",
              "      <th>name</th>\n",
              "      <th>minutes</th>\n",
              "      <th>ingredients</th>\n",
              "      <th>steps</th>\n",
              "      <th>Serving</th>\n",
              "      <th>calories</th>\n",
              "      <th>total fat (PDV)</th>\n",
              "      <th>sugar (PDV)</th>\n",
              "      <th>sodium (PDV)</th>\n",
              "      <th>protein (PDV)</th>\n",
              "      <th>saturated fat (PDV)</th>\n",
              "      <th>carbohydrates (PDV)</th>\n",
              "    </tr>\n",
              "  </thead>\n",
              "  <tbody>\n",
              "    <tr>\n",
              "      <th>0</th>\n",
              "      <td>Ugali and omena</td>\n",
              "      <td>30</td>\n",
              "      <td>Maize flour,Omena,Oil,3 chopped tomatoes,Chopp...</td>\n",
              "      <td>Step 1,Boil 3 cups of water add maize flour st...</td>\n",
              "      <td>4.0</td>\n",
              "      <td>205.0</td>\n",
              "      <td>30.0</td>\n",
              "      <td>203.0</td>\n",
              "      <td>29.0</td>\n",
              "      <td>192.0</td>\n",
              "      <td>172.0</td>\n",
              "      <td>182.0</td>\n",
              "    </tr>\n",
              "    <tr>\n",
              "      <th>1</th>\n",
              "      <td>Kienyeji fried</td>\n",
              "      <td>25</td>\n",
              "      <td>1 table spoon salt,2 table spoon cooking veget...</td>\n",
              "      <td>Asemble the vegetables.,Pluck leaves from the ...</td>\n",
              "      <td>1.0</td>\n",
              "      <td>135.0</td>\n",
              "      <td>173.0</td>\n",
              "      <td>247.0</td>\n",
              "      <td>196.0</td>\n",
              "      <td>87.0</td>\n",
              "      <td>200.0</td>\n",
              "      <td>239.0</td>\n",
              "    </tr>\n",
              "    <tr>\n",
              "      <th>2</th>\n",
              "      <td>dengu Chapati</td>\n",
              "      <td>30</td>\n",
              "      <td>Ndengu,cubes congets diced in,cubes carrots in...</td>\n",
              "      <td>Step 1,Steam the mince meat and add oil then o...</td>\n",
              "      <td>4.0</td>\n",
              "      <td>493.0</td>\n",
              "      <td>211.0</td>\n",
              "      <td>131.0</td>\n",
              "      <td>260.0</td>\n",
              "      <td>84.0</td>\n",
              "      <td>75.0</td>\n",
              "      <td>275.0</td>\n",
              "    </tr>\n",
              "    <tr>\n",
              "      <th>3</th>\n",
              "      <td>Ugali matumbo ft african salad</td>\n",
              "      <td>60</td>\n",
              "      <td>400 g Maize flour ,20 g Onions ,11/2 kgMatumbo...</td>\n",
              "      <td>Step 1 Bring the water to boil, add the maize ...</td>\n",
              "      <td>4.0</td>\n",
              "      <td>94.0</td>\n",
              "      <td>259.0</td>\n",
              "      <td>71.0</td>\n",
              "      <td>255.0</td>\n",
              "      <td>205.0</td>\n",
              "      <td>20.0</td>\n",
              "      <td>57.0</td>\n",
              "    </tr>\n",
              "    <tr>\n",
              "      <th>4</th>\n",
              "      <td>Chicken stew</td>\n",
              "      <td>60</td>\n",
              "      <td>Boiled chicken,2 Red onion,1 Spring onion,4 To...</td>\n",
              "      <td>Step 1Boil 1 diced potato and 1 diced carrot,...</td>\n",
              "      <td>2.0</td>\n",
              "      <td>13.0</td>\n",
              "      <td>35.0</td>\n",
              "      <td>221.0</td>\n",
              "      <td>109.0</td>\n",
              "      <td>219.0</td>\n",
              "      <td>210.0</td>\n",
              "      <td>125.0</td>\n",
              "    </tr>\n",
              "  </tbody>\n",
              "</table>\n",
              "</div>"
            ],
            "text/plain": [
              "                             name minutes  \\\n",
              "0                 Ugali and omena      30   \n",
              "1                  Kienyeji fried      25   \n",
              "2                   dengu Chapati      30   \n",
              "3  Ugali matumbo ft african salad      60   \n",
              "4                    Chicken stew      60   \n",
              "\n",
              "                                         ingredients  \\\n",
              "0  Maize flour,Omena,Oil,3 chopped tomatoes,Chopp...   \n",
              "1  1 table spoon salt,2 table spoon cooking veget...   \n",
              "2  Ndengu,cubes congets diced in,cubes carrots in...   \n",
              "3  400 g Maize flour ,20 g Onions ,11/2 kgMatumbo...   \n",
              "4  Boiled chicken,2 Red onion,1 Spring onion,4 To...   \n",
              "\n",
              "                                               steps  Serving  calories  \\\n",
              "0  Step 1,Boil 3 cups of water add maize flour st...      4.0     205.0   \n",
              "1  Asemble the vegetables.,Pluck leaves from the ...      1.0     135.0   \n",
              "2  Step 1,Steam the mince meat and add oil then o...      4.0     493.0   \n",
              "3  Step 1 Bring the water to boil, add the maize ...      4.0      94.0   \n",
              "4   Step 1Boil 1 diced potato and 1 diced carrot,...      2.0      13.0   \n",
              "\n",
              "   total fat (PDV)  sugar (PDV)  sodium (PDV)  protein (PDV)  \\\n",
              "0             30.0        203.0          29.0          192.0   \n",
              "1            173.0        247.0         196.0           87.0   \n",
              "2            211.0        131.0         260.0           84.0   \n",
              "3            259.0         71.0         255.0          205.0   \n",
              "4             35.0        221.0         109.0          219.0   \n",
              "\n",
              "   saturated fat (PDV)  carbohydrates (PDV)  \n",
              "0                172.0                182.0  \n",
              "1                200.0                239.0  \n",
              "2                 75.0                275.0  \n",
              "3                 20.0                 57.0  \n",
              "4                210.0                125.0  "
            ]
          },
          "execution_count": 28,
          "metadata": {},
          "output_type": "execute_result"
        }
      ],
      "source": [
        "# Iterate over each row in the DataFrame\n",
        "for index, row in recipe_ke.iterrows():\n",
        "    # Replace '\\n' with comma in 'ingredients' column\n",
        "    ingredients = row['ingredients']\n",
        "    if isinstance(ingredients, str):\n",
        "        ingredients = ingredients.replace('\\n', ',')\n",
        "        recipe_ke.at[index, 'ingredients'] = ingredients\n",
        "\n",
        "    # Replace '\\n' with comma in 'steps' column\n",
        "    steps = row['steps']\n",
        "    if isinstance(steps, str):\n",
        "        steps = steps.replace('\\n', ',')\n",
        "        recipe_ke.at[index, 'steps'] = steps\n",
        "\n",
        "# Display the updated DataFrame\n",
        "recipe_ke.head()"
      ]
    },
    {
      "cell_type": "markdown",
      "metadata": {
        "id": "uRI7AovlbXyT"
      },
      "source": [
        "### Exploratory Data Analysis."
      ]
    },
    {
      "cell_type": "code",
      "execution_count": 29,
      "metadata": {
        "colab": {
          "base_uri": "https://localhost:8080/",
          "height": 300
        },
        "id": "yXUU3abBbbcM",
        "outputId": "775b494d-d7de-4590-a8c7-f283246d55fb"
      },
      "outputs": [
        {
          "data": {
            "text/html": [
              "<div>\n",
              "<style scoped>\n",
              "    .dataframe tbody tr th:only-of-type {\n",
              "        vertical-align: middle;\n",
              "    }\n",
              "\n",
              "    .dataframe tbody tr th {\n",
              "        vertical-align: top;\n",
              "    }\n",
              "\n",
              "    .dataframe thead th {\n",
              "        text-align: right;\n",
              "    }\n",
              "</style>\n",
              "<table border=\"1\" class=\"dataframe\">\n",
              "  <thead>\n",
              "    <tr style=\"text-align: right;\">\n",
              "      <th></th>\n",
              "      <th>serving_size</th>\n",
              "      <th>calories</th>\n",
              "      <th>total_fat</th>\n",
              "      <th>saturated_fat</th>\n",
              "      <th>cholesterol</th>\n",
              "      <th>sodium</th>\n",
              "      <th>potassium</th>\n",
              "    </tr>\n",
              "  </thead>\n",
              "  <tbody>\n",
              "    <tr>\n",
              "      <th>count</th>\n",
              "      <td>8789.0</td>\n",
              "      <td>8789.000000</td>\n",
              "      <td>8789.000000</td>\n",
              "      <td>8789.000000</td>\n",
              "      <td>8789.000000</td>\n",
              "      <td>8789.000000</td>\n",
              "      <td>8789.000000</td>\n",
              "    </tr>\n",
              "    <tr>\n",
              "      <th>mean</th>\n",
              "      <td>100.0</td>\n",
              "      <td>226.283878</td>\n",
              "      <td>10.556855</td>\n",
              "      <td>4.192791</td>\n",
              "      <td>38.723063</td>\n",
              "      <td>306.353851</td>\n",
              "      <td>265.251223</td>\n",
              "    </tr>\n",
              "    <tr>\n",
              "      <th>std</th>\n",
              "      <td>0.0</td>\n",
              "      <td>169.862001</td>\n",
              "      <td>15.818247</td>\n",
              "      <td>6.223870</td>\n",
              "      <td>117.358944</td>\n",
              "      <td>939.220468</td>\n",
              "      <td>371.443524</td>\n",
              "    </tr>\n",
              "    <tr>\n",
              "      <th>min</th>\n",
              "      <td>100.0</td>\n",
              "      <td>0.000000</td>\n",
              "      <td>0.000000</td>\n",
              "      <td>0.100000</td>\n",
              "      <td>0.000000</td>\n",
              "      <td>0.000000</td>\n",
              "      <td>0.000000</td>\n",
              "    </tr>\n",
              "    <tr>\n",
              "      <th>25%</th>\n",
              "      <td>100.0</td>\n",
              "      <td>91.000000</td>\n",
              "      <td>1.000000</td>\n",
              "      <td>1.000000</td>\n",
              "      <td>0.000000</td>\n",
              "      <td>36.000000</td>\n",
              "      <td>111.000000</td>\n",
              "    </tr>\n",
              "    <tr>\n",
              "      <th>50%</th>\n",
              "      <td>100.0</td>\n",
              "      <td>191.000000</td>\n",
              "      <td>5.100000</td>\n",
              "      <td>3.200000</td>\n",
              "      <td>2.000000</td>\n",
              "      <td>84.000000</td>\n",
              "      <td>219.000000</td>\n",
              "    </tr>\n",
              "    <tr>\n",
              "      <th>75%</th>\n",
              "      <td>100.0</td>\n",
              "      <td>337.000000</td>\n",
              "      <td>14.000000</td>\n",
              "      <td>4.200000</td>\n",
              "      <td>65.000000</td>\n",
              "      <td>396.000000</td>\n",
              "      <td>329.000000</td>\n",
              "    </tr>\n",
              "    <tr>\n",
              "      <th>max</th>\n",
              "      <td>100.0</td>\n",
              "      <td>902.000000</td>\n",
              "      <td>100.000000</td>\n",
              "      <td>96.000000</td>\n",
              "      <td>3100.000000</td>\n",
              "      <td>38758.000000</td>\n",
              "      <td>16500.000000</td>\n",
              "    </tr>\n",
              "  </tbody>\n",
              "</table>\n",
              "</div>"
            ],
            "text/plain": [
              "       serving_size     calories    total_fat  saturated_fat  cholesterol  \\\n",
              "count        8789.0  8789.000000  8789.000000    8789.000000  8789.000000   \n",
              "mean          100.0   226.283878    10.556855       4.192791    38.723063   \n",
              "std             0.0   169.862001    15.818247       6.223870   117.358944   \n",
              "min           100.0     0.000000     0.000000       0.100000     0.000000   \n",
              "25%           100.0    91.000000     1.000000       1.000000     0.000000   \n",
              "50%           100.0   191.000000     5.100000       3.200000     2.000000   \n",
              "75%           100.0   337.000000    14.000000       4.200000    65.000000   \n",
              "max           100.0   902.000000   100.000000      96.000000  3100.000000   \n",
              "\n",
              "             sodium     potassium  \n",
              "count   8789.000000   8789.000000  \n",
              "mean     306.353851    265.251223  \n",
              "std      939.220468    371.443524  \n",
              "min        0.000000      0.000000  \n",
              "25%       36.000000    111.000000  \n",
              "50%       84.000000    219.000000  \n",
              "75%      396.000000    329.000000  \n",
              "max    38758.000000  16500.000000  "
            ]
          },
          "execution_count": 29,
          "metadata": {},
          "output_type": "execute_result"
        }
      ],
      "source": [
        "#descriptive statistics for nutrition data set.\n",
        "Nutrition_df.describe()"
      ]
    },
    {
      "cell_type": "markdown",
      "metadata": {
        "id": "nrMXOr3ArL3G"
      },
      "source": [
        "The descriptive statistics for the nutrition dataset show that the mean serving size is 100 grams, the mean number of calories is 226, and the standard deviation for calories is 169. This indicates that the distribution of calories is skewed to the right, with a few foods having a high number of calories."
      ]
    },
    {
      "cell_type": "code",
      "execution_count": 30,
      "metadata": {
        "colab": {
          "base_uri": "https://localhost:8080/",
          "height": 300
        },
        "id": "Uqog_mC1cJE8",
        "outputId": "20c39ed6-aceb-4c49-cc39-fd9e7495c7e9"
      },
      "outputs": [
        {
          "data": {
            "text/html": [
              "<div>\n",
              "<style scoped>\n",
              "    .dataframe tbody tr th:only-of-type {\n",
              "        vertical-align: middle;\n",
              "    }\n",
              "\n",
              "    .dataframe tbody tr th {\n",
              "        vertical-align: top;\n",
              "    }\n",
              "\n",
              "    .dataframe thead th {\n",
              "        text-align: right;\n",
              "    }\n",
              "</style>\n",
              "<table border=\"1\" class=\"dataframe\">\n",
              "  <thead>\n",
              "    <tr style=\"text-align: right;\">\n",
              "      <th></th>\n",
              "      <th>id</th>\n",
              "      <th>minutes</th>\n",
              "      <th>calories</th>\n",
              "      <th>total fat (PDV)</th>\n",
              "      <th>sugar (PDV)</th>\n",
              "      <th>sodium (PDV)</th>\n",
              "      <th>protein (PDV)</th>\n",
              "      <th>saturated fat (PDV)</th>\n",
              "      <th>carbohydrates (PDV)</th>\n",
              "    </tr>\n",
              "  </thead>\n",
              "  <tbody>\n",
              "    <tr>\n",
              "      <th>count</th>\n",
              "      <td>231636.000000</td>\n",
              "      <td>2.316360e+05</td>\n",
              "      <td>231636.000000</td>\n",
              "      <td>231636.00000</td>\n",
              "      <td>231636.00000</td>\n",
              "      <td>231636.000000</td>\n",
              "      <td>231636.000000</td>\n",
              "      <td>231636.000000</td>\n",
              "      <td>231636.000000</td>\n",
              "    </tr>\n",
              "    <tr>\n",
              "      <th>mean</th>\n",
              "      <td>222014.077639</td>\n",
              "      <td>9.398587e+03</td>\n",
              "      <td>473.937580</td>\n",
              "      <td>36.07978</td>\n",
              "      <td>84.29656</td>\n",
              "      <td>30.147615</td>\n",
              "      <td>34.682001</td>\n",
              "      <td>45.588864</td>\n",
              "      <td>15.560409</td>\n",
              "    </tr>\n",
              "    <tr>\n",
              "      <th>std</th>\n",
              "      <td>141206.613497</td>\n",
              "      <td>4.461973e+06</td>\n",
              "      <td>1189.711657</td>\n",
              "      <td>77.79775</td>\n",
              "      <td>800.08261</td>\n",
              "      <td>131.961859</td>\n",
              "      <td>58.472567</td>\n",
              "      <td>98.235873</td>\n",
              "      <td>81.824736</td>\n",
              "    </tr>\n",
              "    <tr>\n",
              "      <th>min</th>\n",
              "      <td>38.000000</td>\n",
              "      <td>0.000000e+00</td>\n",
              "      <td>0.000000</td>\n",
              "      <td>0.00000</td>\n",
              "      <td>0.00000</td>\n",
              "      <td>0.000000</td>\n",
              "      <td>0.000000</td>\n",
              "      <td>0.000000</td>\n",
              "      <td>0.000000</td>\n",
              "    </tr>\n",
              "    <tr>\n",
              "      <th>25%</th>\n",
              "      <td>99943.750000</td>\n",
              "      <td>2.000000e+01</td>\n",
              "      <td>174.375000</td>\n",
              "      <td>8.00000</td>\n",
              "      <td>9.00000</td>\n",
              "      <td>5.000000</td>\n",
              "      <td>7.000000</td>\n",
              "      <td>7.000000</td>\n",
              "      <td>4.000000</td>\n",
              "    </tr>\n",
              "    <tr>\n",
              "      <th>50%</th>\n",
              "      <td>207248.500000</td>\n",
              "      <td>4.000000e+01</td>\n",
              "      <td>313.400000</td>\n",
              "      <td>20.00000</td>\n",
              "      <td>25.00000</td>\n",
              "      <td>14.000000</td>\n",
              "      <td>18.000000</td>\n",
              "      <td>23.000000</td>\n",
              "      <td>9.000000</td>\n",
              "    </tr>\n",
              "    <tr>\n",
              "      <th>75%</th>\n",
              "      <td>333815.250000</td>\n",
              "      <td>6.500000e+01</td>\n",
              "      <td>519.700000</td>\n",
              "      <td>41.00000</td>\n",
              "      <td>68.00000</td>\n",
              "      <td>33.000000</td>\n",
              "      <td>51.000000</td>\n",
              "      <td>52.000000</td>\n",
              "      <td>16.000000</td>\n",
              "    </tr>\n",
              "    <tr>\n",
              "      <th>max</th>\n",
              "      <td>537716.000000</td>\n",
              "      <td>2.147484e+09</td>\n",
              "      <td>434360.200000</td>\n",
              "      <td>17183.00000</td>\n",
              "      <td>362729.00000</td>\n",
              "      <td>29338.000000</td>\n",
              "      <td>6552.000000</td>\n",
              "      <td>10395.000000</td>\n",
              "      <td>36098.000000</td>\n",
              "    </tr>\n",
              "  </tbody>\n",
              "</table>\n",
              "</div>"
            ],
            "text/plain": [
              "                  id       minutes       calories  total fat (PDV)  \\\n",
              "count  231636.000000  2.316360e+05  231636.000000     231636.00000   \n",
              "mean   222014.077639  9.398587e+03     473.937580         36.07978   \n",
              "std    141206.613497  4.461973e+06    1189.711657         77.79775   \n",
              "min        38.000000  0.000000e+00       0.000000          0.00000   \n",
              "25%     99943.750000  2.000000e+01     174.375000          8.00000   \n",
              "50%    207248.500000  4.000000e+01     313.400000         20.00000   \n",
              "75%    333815.250000  6.500000e+01     519.700000         41.00000   \n",
              "max    537716.000000  2.147484e+09  434360.200000      17183.00000   \n",
              "\n",
              "        sugar (PDV)   sodium (PDV)  protein (PDV)  saturated fat (PDV)  \\\n",
              "count  231636.00000  231636.000000  231636.000000        231636.000000   \n",
              "mean       84.29656      30.147615      34.682001            45.588864   \n",
              "std       800.08261     131.961859      58.472567            98.235873   \n",
              "min         0.00000       0.000000       0.000000             0.000000   \n",
              "25%         9.00000       5.000000       7.000000             7.000000   \n",
              "50%        25.00000      14.000000      18.000000            23.000000   \n",
              "75%        68.00000      33.000000      51.000000            52.000000   \n",
              "max    362729.00000   29338.000000    6552.000000         10395.000000   \n",
              "\n",
              "       carbohydrates (PDV)  \n",
              "count        231636.000000  \n",
              "mean             15.560409  \n",
              "std              81.824736  \n",
              "min               0.000000  \n",
              "25%               4.000000  \n",
              "50%               9.000000  \n",
              "75%              16.000000  \n",
              "max           36098.000000  "
            ]
          },
          "execution_count": 30,
          "metadata": {},
          "output_type": "execute_result"
        }
      ],
      "source": [
        "#descriptive statistics for recipes data set.\n",
        "recipes_df.describe()"
      ]
    },
    {
      "cell_type": "markdown",
      "metadata": {
        "id": "6uHxW7Kxetbi"
      },
      "source": [
        "### Nutrition Data set"
      ]
    },
    {
      "cell_type": "code",
      "execution_count": 31,
      "metadata": {
        "colab": {
          "base_uri": "https://localhost:8080/",
          "height": 718
        },
        "id": "FM8B3cgvrL3I",
        "outputId": "228f3324-a286-4fed-df78-e5c7337c1db4"
      },
      "outputs": [
        {
          "data": {
            "image/png": "[encoded data removed]",
            "text/plain": [
              "<Figure size 864x576 with 5 Axes>"
            ]
          },
          "metadata": {
            "needs_background": "light"
          },
          "output_type": "display_data"
        }
      ],
      "source": [
        "# Define the columns and colors\n",
        "columns = ['total_fat', 'saturated_fat', 'cholesterol', 'sodium', 'potassium']\n",
        "colors = ['red', 'blue', 'green', 'orange', 'purple']\n",
        "\n",
        "# Determine the dimensions of the subplot grid\n",
        "num_plots = len(columns)\n",
        "num_cols = 2\n",
        "num_rows = (num_plots + 1) // num_cols\n",
        "\n",
        "# Create subplots\n",
        "fig, axes = plt.subplots(num_rows, num_cols, figsize=(12, 8))\n",
        "plt.subplots_adjust(hspace=0.4)\n",
        "\n",
        "# Iterate over columns and colors\n",
        "for i, (column, color) in enumerate(zip(columns, colors)):\n",
        "    # Calculate the subplot position\n",
        "    row = i // num_cols\n",
        "    col = i % num_cols\n",
        "\n",
        "    # Scatter plot: calories vs current column\n",
        "    axes[row, col].scatter(Nutrition_df['calories'], Nutrition_df[column], color=color)\n",
        "    axes[row, col].set_xlabel('Calories')\n",
        "    axes[row, col].set_ylabel(column.capitalize())\n",
        "    axes[row, col].set_title(f'Scatter Plot: Calories vs {column.capitalize()}')\n",
        "\n",
        "# Hide unused subplots\n",
        "for i in range(num_plots, num_rows * num_cols):\n",
        "    row = i // num_cols\n",
        "    col = i % num_cols\n",
        "    fig.delaxes(axes[row, col])\n",
        "\n",
        "# Display the plots\n",
        "plt.show()"
      ]
    },
    {
      "cell_type": "code",
      "execution_count": 32,
      "metadata": {
        "colab": {
          "base_uri": "https://localhost:8080/",
          "height": 780
        },
        "id": "9ZYRZ5_nrL3J",
        "outputId": "56e73857-bb54-43ba-c1df-b509beb4667f"
      },
      "outputs": [
        {
          "data": {
            "image/png": "[encoded data removed]",
            "text/plain": [
              "<Figure size 2160x1152 with 5 Axes>"
            ]
          },
          "metadata": {
            "needs_background": "light"
          },
          "output_type": "display_data"
        }
      ],
      "source": [
        "fig, axs = plt.subplots(nrows=2, ncols=3, figsize=(30, 16))\n",
        "nutrient_cols = ['total_fat', 'saturated_fat', 'cholesterol', 'sodium', 'potassium']\n",
        "\n",
        "# Flatten the axes array to iterate over it in a 1D fashion\n",
        "axs = axs.flatten()\n",
        "\n",
        "# Define a color palette for the plots\n",
        "colors = ['blue', 'red', 'green', 'purple', 'orange']\n",
        "\n",
        "# Loop over each nutrient column to create a box plot\n",
        "for i, col in enumerate(nutrient_cols):\n",
        "    # Scatter plot\n",
        "    axs[i].scatter(Nutrition_df['calories'], Nutrition_df[col], color=colors[i])\n",
        "    axs[i].set_xlabel('Calories')\n",
        "    axs[i].set_ylabel(col.capitalize())\n",
        "\n",
        "    # Box plot\n",
        "    boxplot_dict = axs[i].boxplot(Nutrition_df[col], positions=[0], patch_artist=True, widths=0.6)\n",
        "\n",
        "    # Set the box plot's color to match the scatter plot\n",
        "    for patch in boxplot_dict['boxes']:\n",
        "        patch.set_facecolor(colors[i])\n",
        "\n",
        "    # Set the x-axis limits to center the box plot\n",
        "    axs[i].set_xlim(-1, 1)\n",
        "\n",
        "# Remove any unused axes\n",
        "for ax in axs[5:]:\n",
        "    ax.remove()\n",
        "\n",
        "# Adjust the spacing between the plots\n",
        "plt.subplots_adjust(wspace=0.4, hspace=0.4)\n",
        "\n",
        "# Show the plots\n",
        "plt.show()"
      ]
    },
    {
      "cell_type": "code",
      "execution_count": 33,
      "metadata": {
        "colab": {
          "base_uri": "https://localhost:8080/",
          "height": 699
        },
        "id": "M_RDddJ7rL3K",
        "outputId": "bdd9e9f1-0b8f-47cc-ac10-a0cbfd4bc08e"
      },
      "outputs": [
        {
          "data": {
            "image/png": "[encoded data removed]",
            "text/plain": [
              "<Figure size 720x576 with 2 Axes>"
            ]
          },
          "metadata": {
            "needs_background": "light"
          },
          "output_type": "display_data"
        }
      ],
      "source": [
        "\n",
        "# Calculate the correlation matrix\n",
        "correlation_matrix = Nutrition_df.corr()\n",
        "\n",
        "# Generate a mask for the upper triangle\n",
        "mask = np.triu(np.ones_like(correlation_matrix, dtype=bool))\n",
        "\n",
        "# Plot the correlation matrix as a heatmap\n",
        "plt.figure(figsize=(10, 8))\n",
        "sns.heatmap(correlation_matrix, annot=True, cmap='YlGnBu', fmt=\".2f\", mask=mask)\n",
        "plt.title('Correlation Matrix of Nutrients (Lower Triangle)')\n",
        "plt.show()"
      ]
    },
    {
      "cell_type": "markdown",
      "metadata": {
        "id": "ivC61JJ-rL3N"
      },
      "source": [
        "- The most significant correlation exists between the quantity of food and the total fat content in it.\n",
        "- When individuals aim to decrease their calorie intake, they should steer clear of foods that have high levels of total fat.\n",
        "- Foods with high amounts of total fat should be avoided by individuals seeking to reduce their calorie consumption.\n",
        "- If a user wants to lower their calorie intake, it is essential for them to refrain from consuming foods that contain high levels of total fat.\n",
        "- To achieve a reduction in calorie intake, individuals should make it a priority to exclude foods that are rich in total fat from their diet."
      ]
    },
    {
      "cell_type": "markdown",
      "metadata": {
        "id": "HeYY_fRtm7AQ"
      },
      "source": [
        "### Recipes dataset"
      ]
    },
    {
      "cell_type": "code",
      "execution_count": 34,
      "metadata": {
        "id": "P_G5s8tynXhG"
      },
      "outputs": [],
      "source": [
        "# getting the recipes random sample.\n",
        "recipes_sample_df = recipes_df.sample(n=2000, random_state=42)"
      ]
    },
    {
      "cell_type": "code",
      "execution_count": 35,
      "metadata": {
        "colab": {
          "base_uri": "https://localhost:8080/"
        },
        "id": "mLOI5XwtzWyV",
        "outputId": "d74b06f7-b8d9-48dc-8057-89775a6af982"
      },
      "outputs": [
        {
          "data": {
            "text/plain": [
              "id                     0\n",
              "name                   0\n",
              "minutes                0\n",
              "nutrition              0\n",
              "tags                   0\n",
              "ingredients            0\n",
              "steps                  0\n",
              "calories               0\n",
              "total fat (PDV)        0\n",
              "sugar (PDV)            0\n",
              "sodium (PDV)           0\n",
              "protein (PDV)          0\n",
              "saturated fat (PDV)    0\n",
              "carbohydrates (PDV)    0\n",
              "dtype: int64"
            ]
          },
          "execution_count": 35,
          "metadata": {},
          "output_type": "execute_result"
        }
      ],
      "source": [
        "#confirming number of missing values\n",
        "recipes_df.isnull().sum()"
      ]
    },
    {
      "cell_type": "code",
      "execution_count": 36,
      "metadata": {
        "id": "5mVf_B-DrL3P"
      },
      "outputs": [],
      "source": [
        "# getting numerical columns\n",
        "num_cols = recipes_df.select_dtypes(exclude = ['object'])"
      ]
    },
    {
      "cell_type": "code",
      "execution_count": 37,
      "metadata": {
        "colab": {
          "base_uri": "https://localhost:8080/"
        },
        "id": "T3su6yb-rL3Q",
        "outputId": "54145387-338e-4c9d-a9fa-23f2a165d992"
      },
      "outputs": [
        {
          "data": {
            "text/plain": [
              "434360.2"
            ]
          },
          "execution_count": 37,
          "metadata": {},
          "output_type": "execute_result"
        }
      ],
      "source": [
        "#checking for maximum value for calories\n",
        "recipes_df['calories'].max()"
      ]
    },
    {
      "cell_type": "code",
      "execution_count": 38,
      "metadata": {
        "colab": {
          "base_uri": "https://localhost:8080/",
          "height": 1000
        },
        "id": "Df5-6TaNrL3R",
        "outputId": "ab0e4d66-16e8-463e-af21-3e8d849d6f2a"
      },
      "outputs": [
        {
          "data": {
            "image/png": "[encoded data removed]",
            "text/plain": [
              "<Figure size 1440x1440 with 9 Axes>"
            ]
          },
          "metadata": {
            "needs_background": "light"
          },
          "output_type": "display_data"
        }
      ],
      "source": [
        "#plotting to check for outliers\n",
        "fig, axes = plt.subplots(3, 3, figsize=(20, 20))\n",
        "\n",
        "cols = ['calories', 'total fat (PDV)', 'sugar (PDV)',\n",
        "        'sodium (PDV)', 'protein (PDV)', 'saturated fat (PDV)',\n",
        "        'carbohydrates (PDV)']\n",
        "\n",
        "for i, col in enumerate(cols):\n",
        "    sns.boxplot(ax=axes[i//3, i%3], x=recipes_df[col])"
      ]
    },
    {
      "cell_type": "code",
      "execution_count": 39,
      "metadata": {
        "id": "jCPAZqz2rL3R"
      },
      "outputs": [],
      "source": [
        "def outlierRemover(df, columns):\n",
        "    cleaned_df = df.copy()  # Create a copy of the DataFrame to avoid modifying the original data\n",
        "\n",
        "    for column in columns:\n",
        "        q25, q75 = np.percentile(cleaned_df[column], [25, 75])\n",
        "        iqr = q75 - q25\n",
        "        min_val = q25 - 1.5 * iqr\n",
        "        max_val = q75 + 1.5 * iqr\n",
        "        cleaned_df.loc[(cleaned_df[column] < min_val) | (cleaned_df[column] > max_val), column] = np.nan\n",
        "\n",
        "    return cleaned_df"
      ]
    },
    {
      "cell_type": "code",
      "execution_count": 40,
      "metadata": {
        "id": "BqWBmh4frL3S"
      },
      "outputs": [],
      "source": [
        "#calling the removing outlier function\n",
        "num_cols = [\"calories\", 'total fat (PDV)', 'sugar (PDV)', 'sodium (PDV)',\n",
        "       'protein (PDV)', 'saturated fat (PDV)', 'carbohydrates (PDV)']\n",
        "recipes_df = outlierRemover(recipes_df, num_cols)"
      ]
    },
    {
      "cell_type": "code",
      "execution_count": 41,
      "metadata": {
        "colab": {
          "base_uri": "https://localhost:8080/"
        },
        "id": "gjmXqO0lrL3S",
        "outputId": "7998f599-eb79-4a62-84b1-2429ca481a01"
      },
      "outputs": [
        {
          "data": {
            "text/plain": [
              "id                         0\n",
              "name                       0\n",
              "minutes                    0\n",
              "nutrition                  0\n",
              "tags                       0\n",
              "ingredients                0\n",
              "steps                      0\n",
              "calories               15736\n",
              "total fat (PDV)        16264\n",
              "sugar (PDV)            23780\n",
              "sodium (PDV)           15919\n",
              "protein (PDV)           9141\n",
              "saturated fat (PDV)    16462\n",
              "carbohydrates (PDV)    15559\n",
              "dtype: int64"
            ]
          },
          "execution_count": 41,
          "metadata": {},
          "output_type": "execute_result"
        }
      ],
      "source": [
        "recipes_df.isnull().sum()"
      ]
    },
    {
      "cell_type": "code",
      "execution_count": 42,
      "metadata": {
        "id": "YtDV9gFwrL3T"
      },
      "outputs": [],
      "source": [
        "recipes_df = recipes_df.dropna()"
      ]
    },
    {
      "cell_type": "code",
      "execution_count": 43,
      "metadata": {
        "colab": {
          "base_uri": "https://localhost:8080/"
        },
        "id": "ljKtPMQZrL3T",
        "outputId": "ea98386c-8a12-472d-c157-1b9007b17043"
      },
      "outputs": [
        {
          "data": {
            "text/plain": [
              "id                     0\n",
              "name                   0\n",
              "minutes                0\n",
              "nutrition              0\n",
              "tags                   0\n",
              "ingredients            0\n",
              "steps                  0\n",
              "calories               0\n",
              "total fat (PDV)        0\n",
              "sugar (PDV)            0\n",
              "sodium (PDV)           0\n",
              "protein (PDV)          0\n",
              "saturated fat (PDV)    0\n",
              "carbohydrates (PDV)    0\n",
              "dtype: int64"
            ]
          },
          "execution_count": 43,
          "metadata": {},
          "output_type": "execute_result"
        }
      ],
      "source": [
        "recipes_df.isnull().sum()"
      ]
    },
    {
      "cell_type": "code",
      "execution_count": 44,
      "metadata": {
        "id": "DDZ-ZGONrL3V"
      },
      "outputs": [],
      "source": [
        "from wordcloud import WordCloud\n",
        "import plotly.express as px\n",
        "from wordcloud import WordCloud, STOPWORDS"
      ]
    },
    {
      "cell_type": "code",
      "execution_count": 45,
      "metadata": {
        "colab": {
          "base_uri": "https://localhost:8080/",
          "height": 622
        },
        "id": "iLF15eMkrL3V",
        "outputId": "205c1553-02da-4d3e-dc8e-253b1984fc91"
      },
      "outputs": [
        {
          "ename": "AttributeError",
          "evalue": "'TransposedFont' object has no attribute 'getbbox'",
          "output_type": "error",
          "traceback": [
            "\u001b[1;31m---------------------------------------------------------------------------\u001b[0m",
            "\u001b[1;31mAttributeError\u001b[0m                            Traceback (most recent call last)",
            "\u001b[1;32m<ipython-input-45-51d28aa8597e>\u001b[0m in \u001b[0;36m<module>\u001b[1;34m\u001b[0m\n\u001b[0;32m      4\u001b[0m \u001b[1;31m# Create a word cloud with customized parameters\u001b[0m\u001b[1;33m\u001b[0m\u001b[1;33m\u001b[0m\u001b[1;33m\u001b[0m\u001b[0m\n\u001b[0;32m      5\u001b[0m \u001b[0mplt\u001b[0m\u001b[1;33m.\u001b[0m\u001b[0mfigure\u001b[0m\u001b[1;33m(\u001b[0m\u001b[0mfigsize\u001b[0m\u001b[1;33m=\u001b[0m\u001b[1;33m(\u001b[0m\u001b[1;36m12\u001b[0m\u001b[1;33m,\u001b[0m \u001b[1;36m8\u001b[0m\u001b[1;33m)\u001b[0m\u001b[1;33m)\u001b[0m\u001b[1;33m\u001b[0m\u001b[1;33m\u001b[0m\u001b[0m\n\u001b[1;32m----> 6\u001b[1;33m wordcloud = WordCloud(width=800, height=400, max_words=200, background_color='black', colormap='viridis',\n\u001b[0m\u001b[0;32m      7\u001b[0m                       contour_width=3, contour_color='white').generate(all_ingredients)\n\u001b[0;32m      8\u001b[0m \u001b[1;33m\u001b[0m\u001b[0m\n",
            "\u001b[1;32mc:\\Users\\DELL\\anaconda9169\\envs\\learn-env\\lib\\site-packages\\wordcloud\\wordcloud.py\u001b[0m in \u001b[0;36mgenerate\u001b[1;34m(self, text)\u001b[0m\n\u001b[0;32m    637\u001b[0m         \u001b[0mself\u001b[0m\u001b[1;33m\u001b[0m\u001b[1;33m\u001b[0m\u001b[0m\n\u001b[0;32m    638\u001b[0m         \"\"\"\n\u001b[1;32m--> 639\u001b[1;33m         \u001b[1;32mreturn\u001b[0m \u001b[0mself\u001b[0m\u001b[1;33m.\u001b[0m\u001b[0mgenerate_from_text\u001b[0m\u001b[1;33m(\u001b[0m\u001b[0mtext\u001b[0m\u001b[1;33m)\u001b[0m\u001b[1;33m\u001b[0m\u001b[1;33m\u001b[0m\u001b[0m\n\u001b[0m\u001b[0;32m    640\u001b[0m \u001b[1;33m\u001b[0m\u001b[0m\n\u001b[0;32m    641\u001b[0m     \u001b[1;32mdef\u001b[0m \u001b[0m_check_generated\u001b[0m\u001b[1;33m(\u001b[0m\u001b[0mself\u001b[0m\u001b[1;33m)\u001b[0m\u001b[1;33m:\u001b[0m\u001b[1;33m\u001b[0m\u001b[1;33m\u001b[0m\u001b[0m\n",
            "\u001b[1;32mc:\\Users\\DELL\\anaconda9169\\envs\\learn-env\\lib\\site-packages\\wordcloud\\wordcloud.py\u001b[0m in \u001b[0;36mgenerate_from_text\u001b[1;34m(self, text)\u001b[0m\n\u001b[0;32m    619\u001b[0m         \"\"\"\n\u001b[0;32m    620\u001b[0m         \u001b[0mwords\u001b[0m \u001b[1;33m=\u001b[0m \u001b[0mself\u001b[0m\u001b[1;33m.\u001b[0m\u001b[0mprocess_text\u001b[0m\u001b[1;33m(\u001b[0m\u001b[0mtext\u001b[0m\u001b[1;33m)\u001b[0m\u001b[1;33m\u001b[0m\u001b[1;33m\u001b[0m\u001b[0m\n\u001b[1;32m--> 621\u001b[1;33m         \u001b[0mself\u001b[0m\u001b[1;33m.\u001b[0m\u001b[0mgenerate_from_frequencies\u001b[0m\u001b[1;33m(\u001b[0m\u001b[0mwords\u001b[0m\u001b[1;33m)\u001b[0m\u001b[1;33m\u001b[0m\u001b[1;33m\u001b[0m\u001b[0m\n\u001b[0m\u001b[0;32m    622\u001b[0m         \u001b[1;32mreturn\u001b[0m \u001b[0mself\u001b[0m\u001b[1;33m\u001b[0m\u001b[1;33m\u001b[0m\u001b[0m\n\u001b[0;32m    623\u001b[0m \u001b[1;33m\u001b[0m\u001b[0m\n",
            "\u001b[1;32mc:\\Users\\DELL\\anaconda9169\\envs\\learn-env\\lib\\site-packages\\wordcloud\\wordcloud.py\u001b[0m in \u001b[0;36mgenerate_from_frequencies\u001b[1;34m(self, frequencies, max_font_size)\u001b[0m\n\u001b[0;32m    451\u001b[0m                 \u001b[0mfont_size\u001b[0m \u001b[1;33m=\u001b[0m \u001b[0mself\u001b[0m\u001b[1;33m.\u001b[0m\u001b[0mheight\u001b[0m\u001b[1;33m\u001b[0m\u001b[1;33m\u001b[0m\u001b[0m\n\u001b[0;32m    452\u001b[0m             \u001b[1;32melse\u001b[0m\u001b[1;33m:\u001b[0m\u001b[1;33m\u001b[0m\u001b[1;33m\u001b[0m\u001b[0m\n\u001b[1;32m--> 453\u001b[1;33m                 self.generate_from_frequencies(dict(frequencies[:2]),\n\u001b[0m\u001b[0;32m    454\u001b[0m                                                max_font_size=self.height)\n\u001b[0;32m    455\u001b[0m                 \u001b[1;31m# find font sizes\u001b[0m\u001b[1;33m\u001b[0m\u001b[1;33m\u001b[0m\u001b[1;33m\u001b[0m\u001b[0m\n",
            "\u001b[1;32mc:\\Users\\DELL\\anaconda9169\\envs\\learn-env\\lib\\site-packages\\wordcloud\\wordcloud.py\u001b[0m in \u001b[0;36mgenerate_from_frequencies\u001b[1;34m(self, frequencies, max_font_size)\u001b[0m\n\u001b[0;32m    506\u001b[0m                     font, orientation=orientation)\n\u001b[0;32m    507\u001b[0m                 \u001b[1;31m# get size of resulting text\u001b[0m\u001b[1;33m\u001b[0m\u001b[1;33m\u001b[0m\u001b[1;33m\u001b[0m\u001b[0m\n\u001b[1;32m--> 508\u001b[1;33m                 \u001b[0mbox_size\u001b[0m \u001b[1;33m=\u001b[0m \u001b[0mdraw\u001b[0m\u001b[1;33m.\u001b[0m\u001b[0mtextbbox\u001b[0m\u001b[1;33m(\u001b[0m\u001b[1;33m(\u001b[0m\u001b[1;36m0\u001b[0m\u001b[1;33m,\u001b[0m \u001b[1;36m0\u001b[0m\u001b[1;33m)\u001b[0m\u001b[1;33m,\u001b[0m \u001b[0mword\u001b[0m\u001b[1;33m,\u001b[0m \u001b[0mfont\u001b[0m\u001b[1;33m=\u001b[0m\u001b[0mtransposed_font\u001b[0m\u001b[1;33m,\u001b[0m \u001b[0manchor\u001b[0m\u001b[1;33m=\u001b[0m\u001b[1;34m\"lt\"\u001b[0m\u001b[1;33m)\u001b[0m\u001b[1;33m\u001b[0m\u001b[1;33m\u001b[0m\u001b[0m\n\u001b[0m\u001b[0;32m    509\u001b[0m                 \u001b[1;31m# find possible places using integral image:\u001b[0m\u001b[1;33m\u001b[0m\u001b[1;33m\u001b[0m\u001b[1;33m\u001b[0m\u001b[0m\n\u001b[0;32m    510\u001b[0m                 result = occupancy.sample_position(box_size[3] + self.margin,\n",
            "\u001b[1;32mc:\\Users\\DELL\\anaconda9169\\envs\\learn-env\\lib\\site-packages\\PIL\\ImageDraw.py\u001b[0m in \u001b[0;36mtextbbox\u001b[1;34m(self, xy, text, font, anchor, spacing, align, direction, features, language, stroke_width, embedded_color)\u001b[0m\n\u001b[0;32m    565\u001b[0m             \u001b[0mfont\u001b[0m \u001b[1;33m=\u001b[0m \u001b[0mself\u001b[0m\u001b[1;33m.\u001b[0m\u001b[0mgetfont\u001b[0m\u001b[1;33m(\u001b[0m\u001b[1;33m)\u001b[0m\u001b[1;33m\u001b[0m\u001b[1;33m\u001b[0m\u001b[0m\n\u001b[0;32m    566\u001b[0m         \u001b[0mmode\u001b[0m \u001b[1;33m=\u001b[0m \u001b[1;34m\"RGBA\"\u001b[0m \u001b[1;32mif\u001b[0m \u001b[0membedded_color\u001b[0m \u001b[1;32melse\u001b[0m \u001b[0mself\u001b[0m\u001b[1;33m.\u001b[0m\u001b[0mfontmode\u001b[0m\u001b[1;33m\u001b[0m\u001b[1;33m\u001b[0m\u001b[0m\n\u001b[1;32m--> 567\u001b[1;33m         bbox = font.getbbox(\n\u001b[0m\u001b[0;32m    568\u001b[0m             \u001b[0mtext\u001b[0m\u001b[1;33m,\u001b[0m \u001b[0mmode\u001b[0m\u001b[1;33m,\u001b[0m \u001b[0mdirection\u001b[0m\u001b[1;33m,\u001b[0m \u001b[0mfeatures\u001b[0m\u001b[1;33m,\u001b[0m \u001b[0mlanguage\u001b[0m\u001b[1;33m,\u001b[0m \u001b[0mstroke_width\u001b[0m\u001b[1;33m,\u001b[0m \u001b[0manchor\u001b[0m\u001b[1;33m\u001b[0m\u001b[1;33m\u001b[0m\u001b[0m\n\u001b[0;32m    569\u001b[0m         )\n",
            "\u001b[1;31mAttributeError\u001b[0m: 'TransposedFont' object has no attribute 'getbbox'"
          ]
        },
        {
          "data": {
            "text/plain": [
              "<Figure size 864x576 with 0 Axes>"
            ]
          },
          "metadata": {},
          "output_type": "display_data"
        }
      ],
      "source": [
        "# Concatenate all ingredients into a single string\n",
        "all_ingredients = ' '.join(recipes_df['ingredients'])\n",
        "\n",
        "# Create a word cloud with customized parameters\n",
        "plt.figure(figsize=(12, 8))\n",
        "wordcloud = WordCloud(width=800, height=400, max_words=200, background_color='black', colormap='viridis',\n",
        "                      contour_width=3, contour_color='white').generate(all_ingredients)\n",
        "\n",
        "# Display the word cloud\n",
        "plt.imshow(wordcloud, interpolation='bilinear')\n",
        "plt.axis('off')\n",
        "plt.tight_layout()\n",
        "plt.show()\n"
      ]
    },
    {
      "cell_type": "markdown",
      "metadata": {
        "id": "-cXu-RwkrL3Y"
      },
      "source": [
        "The most commonly used ingredients in the recipes include: black pepper, garlic cloves, Olive oil, brown sugar etc."
      ]
    },
    {
      "cell_type": "markdown",
      "metadata": {
        "id": "F1AOjW5xrL3Z"
      },
      "source": [
        "### Kenyan Recipe"
      ]
    },
    {
      "cell_type": "code",
      "execution_count": 46,
      "metadata": {
        "colab": {
          "base_uri": "https://localhost:8080/",
          "height": 622
        },
        "id": "v6vW2Z-drL3Z",
        "outputId": "e9e0c6b7-cda4-4ef1-c4cb-abd1f81d818d"
      },
      "outputs": [
        {
          "ename": "AttributeError",
          "evalue": "'TransposedFont' object has no attribute 'getbbox'",
          "output_type": "error",
          "traceback": [
            "\u001b[1;31m---------------------------------------------------------------------------\u001b[0m",
            "\u001b[1;31mAttributeError\u001b[0m                            Traceback (most recent call last)",
            "\u001b[1;32m<ipython-input-46-95653922058f>\u001b[0m in \u001b[0;36m<module>\u001b[1;34m\u001b[0m\n\u001b[0;32m      4\u001b[0m \u001b[1;31m# Create a word cloud with customized parameters\u001b[0m\u001b[1;33m\u001b[0m\u001b[1;33m\u001b[0m\u001b[1;33m\u001b[0m\u001b[0m\n\u001b[0;32m      5\u001b[0m \u001b[0mplt\u001b[0m\u001b[1;33m.\u001b[0m\u001b[0mfigure\u001b[0m\u001b[1;33m(\u001b[0m\u001b[0mfigsize\u001b[0m\u001b[1;33m=\u001b[0m\u001b[1;33m(\u001b[0m\u001b[1;36m12\u001b[0m\u001b[1;33m,\u001b[0m \u001b[1;36m8\u001b[0m\u001b[1;33m)\u001b[0m\u001b[1;33m)\u001b[0m\u001b[1;33m\u001b[0m\u001b[1;33m\u001b[0m\u001b[0m\n\u001b[1;32m----> 6\u001b[1;33m wordcloud = WordCloud(width=800, height=400, max_words=200, background_color='black', colormap='viridis',\n\u001b[0m\u001b[0;32m      7\u001b[0m                       contour_width=3, contour_color='white').generate(all_ingredients)\n\u001b[0;32m      8\u001b[0m \u001b[1;33m\u001b[0m\u001b[0m\n",
            "\u001b[1;32mc:\\Users\\DELL\\anaconda9169\\envs\\learn-env\\lib\\site-packages\\wordcloud\\wordcloud.py\u001b[0m in \u001b[0;36mgenerate\u001b[1;34m(self, text)\u001b[0m\n\u001b[0;32m    637\u001b[0m         \u001b[0mself\u001b[0m\u001b[1;33m\u001b[0m\u001b[1;33m\u001b[0m\u001b[0m\n\u001b[0;32m    638\u001b[0m         \"\"\"\n\u001b[1;32m--> 639\u001b[1;33m         \u001b[1;32mreturn\u001b[0m \u001b[0mself\u001b[0m\u001b[1;33m.\u001b[0m\u001b[0mgenerate_from_text\u001b[0m\u001b[1;33m(\u001b[0m\u001b[0mtext\u001b[0m\u001b[1;33m)\u001b[0m\u001b[1;33m\u001b[0m\u001b[1;33m\u001b[0m\u001b[0m\n\u001b[0m\u001b[0;32m    640\u001b[0m \u001b[1;33m\u001b[0m\u001b[0m\n\u001b[0;32m    641\u001b[0m     \u001b[1;32mdef\u001b[0m \u001b[0m_check_generated\u001b[0m\u001b[1;33m(\u001b[0m\u001b[0mself\u001b[0m\u001b[1;33m)\u001b[0m\u001b[1;33m:\u001b[0m\u001b[1;33m\u001b[0m\u001b[1;33m\u001b[0m\u001b[0m\n",
            "\u001b[1;32mc:\\Users\\DELL\\anaconda9169\\envs\\learn-env\\lib\\site-packages\\wordcloud\\wordcloud.py\u001b[0m in \u001b[0;36mgenerate_from_text\u001b[1;34m(self, text)\u001b[0m\n\u001b[0;32m    619\u001b[0m         \"\"\"\n\u001b[0;32m    620\u001b[0m         \u001b[0mwords\u001b[0m \u001b[1;33m=\u001b[0m \u001b[0mself\u001b[0m\u001b[1;33m.\u001b[0m\u001b[0mprocess_text\u001b[0m\u001b[1;33m(\u001b[0m\u001b[0mtext\u001b[0m\u001b[1;33m)\u001b[0m\u001b[1;33m\u001b[0m\u001b[1;33m\u001b[0m\u001b[0m\n\u001b[1;32m--> 621\u001b[1;33m         \u001b[0mself\u001b[0m\u001b[1;33m.\u001b[0m\u001b[0mgenerate_from_frequencies\u001b[0m\u001b[1;33m(\u001b[0m\u001b[0mwords\u001b[0m\u001b[1;33m)\u001b[0m\u001b[1;33m\u001b[0m\u001b[1;33m\u001b[0m\u001b[0m\n\u001b[0m\u001b[0;32m    622\u001b[0m         \u001b[1;32mreturn\u001b[0m \u001b[0mself\u001b[0m\u001b[1;33m\u001b[0m\u001b[1;33m\u001b[0m\u001b[0m\n\u001b[0;32m    623\u001b[0m \u001b[1;33m\u001b[0m\u001b[0m\n",
            "\u001b[1;32mc:\\Users\\DELL\\anaconda9169\\envs\\learn-env\\lib\\site-packages\\wordcloud\\wordcloud.py\u001b[0m in \u001b[0;36mgenerate_from_frequencies\u001b[1;34m(self, frequencies, max_font_size)\u001b[0m\n\u001b[0;32m    451\u001b[0m                 \u001b[0mfont_size\u001b[0m \u001b[1;33m=\u001b[0m \u001b[0mself\u001b[0m\u001b[1;33m.\u001b[0m\u001b[0mheight\u001b[0m\u001b[1;33m\u001b[0m\u001b[1;33m\u001b[0m\u001b[0m\n\u001b[0;32m    452\u001b[0m             \u001b[1;32melse\u001b[0m\u001b[1;33m:\u001b[0m\u001b[1;33m\u001b[0m\u001b[1;33m\u001b[0m\u001b[0m\n\u001b[1;32m--> 453\u001b[1;33m                 self.generate_from_frequencies(dict(frequencies[:2]),\n\u001b[0m\u001b[0;32m    454\u001b[0m                                                max_font_size=self.height)\n\u001b[0;32m    455\u001b[0m                 \u001b[1;31m# find font sizes\u001b[0m\u001b[1;33m\u001b[0m\u001b[1;33m\u001b[0m\u001b[1;33m\u001b[0m\u001b[0m\n",
            "\u001b[1;32mc:\\Users\\DELL\\anaconda9169\\envs\\learn-env\\lib\\site-packages\\wordcloud\\wordcloud.py\u001b[0m in \u001b[0;36mgenerate_from_frequencies\u001b[1;34m(self, frequencies, max_font_size)\u001b[0m\n\u001b[0;32m    506\u001b[0m                     font, orientation=orientation)\n\u001b[0;32m    507\u001b[0m                 \u001b[1;31m# get size of resulting text\u001b[0m\u001b[1;33m\u001b[0m\u001b[1;33m\u001b[0m\u001b[1;33m\u001b[0m\u001b[0m\n\u001b[1;32m--> 508\u001b[1;33m                 \u001b[0mbox_size\u001b[0m \u001b[1;33m=\u001b[0m \u001b[0mdraw\u001b[0m\u001b[1;33m.\u001b[0m\u001b[0mtextbbox\u001b[0m\u001b[1;33m(\u001b[0m\u001b[1;33m(\u001b[0m\u001b[1;36m0\u001b[0m\u001b[1;33m,\u001b[0m \u001b[1;36m0\u001b[0m\u001b[1;33m)\u001b[0m\u001b[1;33m,\u001b[0m \u001b[0mword\u001b[0m\u001b[1;33m,\u001b[0m \u001b[0mfont\u001b[0m\u001b[1;33m=\u001b[0m\u001b[0mtransposed_font\u001b[0m\u001b[1;33m,\u001b[0m \u001b[0manchor\u001b[0m\u001b[1;33m=\u001b[0m\u001b[1;34m\"lt\"\u001b[0m\u001b[1;33m)\u001b[0m\u001b[1;33m\u001b[0m\u001b[1;33m\u001b[0m\u001b[0m\n\u001b[0m\u001b[0;32m    509\u001b[0m                 \u001b[1;31m# find possible places using integral image:\u001b[0m\u001b[1;33m\u001b[0m\u001b[1;33m\u001b[0m\u001b[1;33m\u001b[0m\u001b[0m\n\u001b[0;32m    510\u001b[0m                 result = occupancy.sample_position(box_size[3] + self.margin,\n",
            "\u001b[1;32mc:\\Users\\DELL\\anaconda9169\\envs\\learn-env\\lib\\site-packages\\PIL\\ImageDraw.py\u001b[0m in \u001b[0;36mtextbbox\u001b[1;34m(self, xy, text, font, anchor, spacing, align, direction, features, language, stroke_width, embedded_color)\u001b[0m\n\u001b[0;32m    565\u001b[0m             \u001b[0mfont\u001b[0m \u001b[1;33m=\u001b[0m \u001b[0mself\u001b[0m\u001b[1;33m.\u001b[0m\u001b[0mgetfont\u001b[0m\u001b[1;33m(\u001b[0m\u001b[1;33m)\u001b[0m\u001b[1;33m\u001b[0m\u001b[1;33m\u001b[0m\u001b[0m\n\u001b[0;32m    566\u001b[0m         \u001b[0mmode\u001b[0m \u001b[1;33m=\u001b[0m \u001b[1;34m\"RGBA\"\u001b[0m \u001b[1;32mif\u001b[0m \u001b[0membedded_color\u001b[0m \u001b[1;32melse\u001b[0m \u001b[0mself\u001b[0m\u001b[1;33m.\u001b[0m\u001b[0mfontmode\u001b[0m\u001b[1;33m\u001b[0m\u001b[1;33m\u001b[0m\u001b[0m\n\u001b[1;32m--> 567\u001b[1;33m         bbox = font.getbbox(\n\u001b[0m\u001b[0;32m    568\u001b[0m             \u001b[0mtext\u001b[0m\u001b[1;33m,\u001b[0m \u001b[0mmode\u001b[0m\u001b[1;33m,\u001b[0m \u001b[0mdirection\u001b[0m\u001b[1;33m,\u001b[0m \u001b[0mfeatures\u001b[0m\u001b[1;33m,\u001b[0m \u001b[0mlanguage\u001b[0m\u001b[1;33m,\u001b[0m \u001b[0mstroke_width\u001b[0m\u001b[1;33m,\u001b[0m \u001b[0manchor\u001b[0m\u001b[1;33m\u001b[0m\u001b[1;33m\u001b[0m\u001b[0m\n\u001b[0;32m    569\u001b[0m         )\n",
            "\u001b[1;31mAttributeError\u001b[0m: 'TransposedFont' object has no attribute 'getbbox'"
          ]
        },
        {
          "data": {
            "text/plain": [
              "<Figure size 864x576 with 0 Axes>"
            ]
          },
          "metadata": {},
          "output_type": "display_data"
        }
      ],
      "source": [
        "# Concatenate all ingredients into a single string\n",
        "all_ingredients = ' '.join(recipe_ke['ingredients'])\n",
        "\n",
        "# Create a word cloud with customized parameters\n",
        "plt.figure(figsize=(12, 8))\n",
        "wordcloud = WordCloud(width=800, height=400, max_words=200, background_color='black', colormap='viridis',\n",
        "                      contour_width=3, contour_color='white').generate(all_ingredients)\n",
        "\n",
        "# Display the word cloud\n",
        "plt.imshow(wordcloud, interpolation='bilinear')\n",
        "plt.axis('off')\n",
        "plt.tight_layout()\n",
        "plt.show()\n"
      ]
    },
    {
      "cell_type": "code",
      "execution_count": null,
      "metadata": {
        "id": "v5PT5Suk7dTD"
      },
      "outputs": [],
      "source": [
        "# import pandas as pd\n",
        "\n",
        "# # Load the dataset containing recipes and ingredient information\n",
        "# df = pd.read_csv('Kenyan_recipe.csv')\n",
        "\n",
        "# # Function to estimate calories based on ingredient information\n",
        "# def estimate_calories(row):\n",
        "#     ingredient_calories = {\n",
        "#         'maize flour': 364,  # Example calorie value for maize flour\n",
        "#         'omena': 132,  # Example calorie value for omena\n",
        "#         'oil': 120,  # Example calorie value for oil\n",
        "#         # Add more ingredient calorie values as needed\n",
        "#     }\n",
        "#     total_calories = 0\n",
        "#     ingredients = row['ingredients'].split(',')\n",
        "#     for ingredient in ingredients:\n",
        "#         ingredient = ingredient.strip().lower()\n",
        "#         if ingredient in ingredient_calories:\n",
        "#             total_calories += ingredient_calories[ingredient]\n",
        "#     return total_calories\n",
        "\n",
        "# # Apply the estimation function to calculate calories for recipes without calorie values\n",
        "# df['calories'] = df.apply(estimate_calories, axis=1)\n",
        "\n",
        "# # Display the updated DataFrame\n",
        "# print(df)\n"
      ]
    },
    {
      "cell_type": "markdown",
      "metadata": {
        "id": "sj-jMYuZrL3a"
      },
      "source": [
        "### Data Normalization"
      ]
    },
    {
      "cell_type": "code",
      "execution_count": 48,
      "metadata": {
        "id": "hvmEJFdrrL3b"
      },
      "outputs": [],
      "source": [
        "from sklearn.preprocessing import MinMaxScaler\n",
        "import pandas as pd\n",
        "\n",
        "scaler = MinMaxScaler()\n",
        "recipes_data = scaler.fit_transform(recipes_df.drop(columns=['name','id','minutes','nutrition','tags','ingredients','steps']))\n",
        "normalized_recipes_df = pd.DataFrame(recipes_data, columns=recipes_df.drop(columns=['name','id','minutes','nutrition','tags','ingredients','steps']).columns)"
      ]
    },
    {
      "cell_type": "markdown",
      "metadata": {
        "id": "8qAf4S5srL3b"
      },
      "source": [
        "\n",
        "\n",
        "## Modelling"
      ]
    },
    {
      "cell_type": "markdown",
      "metadata": {
        "id": "JQLmDpRyrL3c"
      },
      "source": [
        "### Baseline Model"
      ]
    },
    {
      "cell_type": "markdown",
      "metadata": {
        "id": "UZLvgIxR-WVp"
      },
      "source": [
        "### Calorie Recommender"
      ]
    },
    {
      "cell_type": "code",
      "execution_count": 49,
      "metadata": {
        "id": "wTSVpbMVrL3c"
      },
      "outputs": [],
      "source": [
        "class CalorieBasedRecommender:\n",
        "\n",
        "    def __init__(self, df):\n",
        "        self.df = Nutrition_df\n",
        "\n",
        "    def recommend(self, target_calories, num_recommendations=5):\n",
        "        recommendations = [row['name'] for index, row in self.df.iterrows() if row['calories'] <= target_calories]\n",
        "        sorted_recommendations = sorted(recommendations, key=lambda x: self.df.loc[self.df['name'] == x, 'calories'].values[0])\n",
        "        return sorted_recommendations[:num_recommendations]"
      ]
    },
    {
      "cell_type": "code",
      "execution_count": 50,
      "metadata": {
        "id": "5hpKw7mdrL3d"
      },
      "outputs": [],
      "source": [
        "class CalorieBasedRecommender:\n",
        "\n",
        "    def __init__(self, df):\n",
        "        self.df = Nutrition_df\n",
        "\n",
        "    def recommend(self, target_calories, num_recommendations=5):\n",
        "        recommendations = []\n",
        "        for index, row in self.df.iterrows():\n",
        "            if row['calories'] <= target_calories:\n",
        "                recommendations.append(row['name'])\n",
        "            if len(recommendations) == num_recommendations:\n",
        "                break\n",
        "        return recommendations"
      ]
    },
    {
      "cell_type": "code",
      "execution_count": 51,
      "metadata": {
        "id": "JRRRTQHYrL3f"
      },
      "outputs": [],
      "source": [
        "recommender = CalorieBasedRecommender(Nutrition_df)\n",
        "target_calories = 1000\n",
        "num_recommendations = 20\n",
        "\n",
        "recommendations = pd.DataFrame(recommender.recommend(target_calories, num_recommendations))"
      ]
    },
    {
      "cell_type": "code",
      "execution_count": 52,
      "metadata": {
        "colab": {
          "base_uri": "https://localhost:8080/",
          "height": 677
        },
        "id": "lY182WSJrL3f",
        "outputId": "bc41a87f-57e1-40fd-b391-a3c093accc34"
      },
      "outputs": [
        {
          "data": {
            "text/html": [
              "<div>\n",
              "<style scoped>\n",
              "    .dataframe tbody tr th:only-of-type {\n",
              "        vertical-align: middle;\n",
              "    }\n",
              "\n",
              "    .dataframe tbody tr th {\n",
              "        vertical-align: top;\n",
              "    }\n",
              "\n",
              "    .dataframe thead th {\n",
              "        text-align: right;\n",
              "    }\n",
              "</style>\n",
              "<table border=\"1\" class=\"dataframe\">\n",
              "  <thead>\n",
              "    <tr style=\"text-align: right;\">\n",
              "      <th></th>\n",
              "      <th>0</th>\n",
              "    </tr>\n",
              "  </thead>\n",
              "  <tbody>\n",
              "    <tr>\n",
              "      <th>0</th>\n",
              "      <td>Cornstarch</td>\n",
              "    </tr>\n",
              "    <tr>\n",
              "      <th>1</th>\n",
              "      <td>Nuts, pecans</td>\n",
              "    </tr>\n",
              "    <tr>\n",
              "      <th>2</th>\n",
              "      <td>Eggplant, raw</td>\n",
              "    </tr>\n",
              "    <tr>\n",
              "      <th>3</th>\n",
              "      <td>Teff, uncooked</td>\n",
              "    </tr>\n",
              "    <tr>\n",
              "      <th>4</th>\n",
              "      <td>Sherbet, orange</td>\n",
              "    </tr>\n",
              "    <tr>\n",
              "      <th>5</th>\n",
              "      <td>Cauliflower, raw</td>\n",
              "    </tr>\n",
              "    <tr>\n",
              "      <th>6</th>\n",
              "      <td>Taro leaves, raw</td>\n",
              "    </tr>\n",
              "    <tr>\n",
              "      <th>7</th>\n",
              "      <td>Lamb, raw, ground</td>\n",
              "    </tr>\n",
              "    <tr>\n",
              "      <th>8</th>\n",
              "      <td>Cheese, camembert</td>\n",
              "    </tr>\n",
              "    <tr>\n",
              "      <th>9</th>\n",
              "      <td>Vegetarian fillets</td>\n",
              "    </tr>\n",
              "    <tr>\n",
              "      <th>10</th>\n",
              "      <td>PACE, Picante Sauce</td>\n",
              "    </tr>\n",
              "    <tr>\n",
              "      <th>11</th>\n",
              "      <td>Goji berries, dried</td>\n",
              "    </tr>\n",
              "    <tr>\n",
              "      <th>12</th>\n",
              "      <td>Mango nectar, canned</td>\n",
              "    </tr>\n",
              "    <tr>\n",
              "      <th>13</th>\n",
              "      <td>Crackers, rusk toast</td>\n",
              "    </tr>\n",
              "    <tr>\n",
              "      <th>14</th>\n",
              "      <td>Chicken, boiled, feet</td>\n",
              "    </tr>\n",
              "    <tr>\n",
              "      <th>15</th>\n",
              "      <td>Quail, raw, meat only</td>\n",
              "    </tr>\n",
              "    <tr>\n",
              "      <th>16</th>\n",
              "      <td>Pie, lemon, fried pies</td>\n",
              "    </tr>\n",
              "    <tr>\n",
              "      <th>17</th>\n",
              "      <td>Peppers, raw, jalapeno</td>\n",
              "    </tr>\n",
              "    <tr>\n",
              "      <th>18</th>\n",
              "      <td>Winged bean tuber, raw</td>\n",
              "    </tr>\n",
              "    <tr>\n",
              "      <th>19</th>\n",
              "      <td>Salami, turkey, cooked</td>\n",
              "    </tr>\n",
              "  </tbody>\n",
              "</table>\n",
              "</div>"
            ],
            "text/plain": [
              "                         0\n",
              "0               Cornstarch\n",
              "1             Nuts, pecans\n",
              "2            Eggplant, raw\n",
              "3           Teff, uncooked\n",
              "4          Sherbet, orange\n",
              "5         Cauliflower, raw\n",
              "6         Taro leaves, raw\n",
              "7        Lamb, raw, ground\n",
              "8        Cheese, camembert\n",
              "9       Vegetarian fillets\n",
              "10     PACE, Picante Sauce\n",
              "11     Goji berries, dried\n",
              "12    Mango nectar, canned\n",
              "13    Crackers, rusk toast\n",
              "14   Chicken, boiled, feet\n",
              "15   Quail, raw, meat only\n",
              "16  Pie, lemon, fried pies\n",
              "17  Peppers, raw, jalapeno\n",
              "18  Winged bean tuber, raw\n",
              "19  Salami, turkey, cooked"
            ]
          },
          "execution_count": 52,
          "metadata": {},
          "output_type": "execute_result"
        }
      ],
      "source": [
        "recommendations"
      ]
    },
    {
      "cell_type": "markdown",
      "metadata": {
        "id": "riJZXjU_-ngK"
      },
      "source": [
        "### Recipe Recommender"
      ]
    },
    {
      "cell_type": "code",
      "execution_count": 53,
      "metadata": {
        "id": "CJ1RSVSB_AIN"
      },
      "outputs": [],
      "source": [
        "class RecipeRecommender:\n",
        "\n",
        "    def __init__(self, df):\n",
        "        self.df = df\n",
        "\n",
        "    def recommend(self, target_calories, num_recommendations=5):\n",
        "        recommendations = []\n",
        "        for index, row in self.df.iterrows():\n",
        "            if row['calories'] == target_calories:\n",
        "                recommendations.append((row['name'], row['ingredients'],row['steps']))\n",
        "            if len(recommendations) == num_recommendations:\n",
        "                break\n",
        "        return recommendations"
      ]
    },
    {
      "cell_type": "code",
      "execution_count": 54,
      "metadata": {
        "id": "SJBqg37s_H1y"
      },
      "outputs": [],
      "source": [
        "from wordcloud import WordCloud\n",
        "recommender = RecipeRecommender(recipes_df)\n",
        "target_calories = 51.5\n",
        "num_recommendations = 1\n",
        "\n",
        "recommendations = pd.DataFrame(recommender.recommend(target_calories, num_recommendations))"
      ]
    },
    {
      "cell_type": "code",
      "execution_count": 55,
      "metadata": {
        "colab": {
          "base_uri": "https://localhost:8080/",
          "height": 81
        },
        "id": "VvlAP-CH_Mpt",
        "outputId": "61ccd3ab-80a3-483a-8c51-a4f7c310293b"
      },
      "outputs": [
        {
          "data": {
            "text/html": [
              "<div>\n",
              "<style scoped>\n",
              "    .dataframe tbody tr th:only-of-type {\n",
              "        vertical-align: middle;\n",
              "    }\n",
              "\n",
              "    .dataframe tbody tr th {\n",
              "        vertical-align: top;\n",
              "    }\n",
              "\n",
              "    .dataframe thead th {\n",
              "        text-align: right;\n",
              "    }\n",
              "</style>\n",
              "<table border=\"1\" class=\"dataframe\">\n",
              "  <thead>\n",
              "    <tr style=\"text-align: right;\">\n",
              "      <th></th>\n",
              "      <th>0</th>\n",
              "      <th>1</th>\n",
              "      <th>2</th>\n",
              "    </tr>\n",
              "  </thead>\n",
              "  <tbody>\n",
              "    <tr>\n",
              "      <th>0</th>\n",
              "      <td>arriba   baked winter squash mexican style</td>\n",
              "      <td>['winter squash', 'mexican seasoning', 'mixed ...</td>\n",
              "      <td>['make a choice and proceed with recipe', 'dep...</td>\n",
              "    </tr>\n",
              "  </tbody>\n",
              "</table>\n",
              "</div>"
            ],
            "text/plain": [
              "                                            0  \\\n",
              "0  arriba   baked winter squash mexican style   \n",
              "\n",
              "                                                   1  \\\n",
              "0  ['winter squash', 'mexican seasoning', 'mixed ...   \n",
              "\n",
              "                                                   2  \n",
              "0  ['make a choice and proceed with recipe', 'dep...  "
            ]
          },
          "execution_count": 55,
          "metadata": {},
          "output_type": "execute_result"
        }
      ],
      "source": [
        "recommendations"
      ]
    },
    {
      "cell_type": "markdown",
      "metadata": {
        "id": "zPQgL0Cx_tXU"
      },
      "source": [
        "# KNN Model"
      ]
    },
    {
      "cell_type": "code",
      "execution_count": 58,
      "metadata": {},
      "outputs": [],
      "source": [
        "#creating a sample from the dataset \n",
        "recipes_sample = recipes_df.sample(n=20000, random_state=42)"
      ]
    },
    {
      "cell_type": "code",
      "execution_count": 59,
      "metadata": {},
      "outputs": [
        {
          "name": "stdout",
          "output_type": "stream",
          "text": [
            "Number of users:  20000 \n",
            "\n",
            "Number of items:  19991\n"
          ]
        }
      ],
      "source": [
        "# Define the format of the dataframe\n",
        "reader = Reader(rating_scale=(0, 5))\n",
        "\n",
        "# Convert your dataframe to a Surprise dataset\n",
        "data = Dataset.load_from_df(recipes_sample[['id', 'name', 'minutes']], reader)\n",
        "\n",
        "#generating a trainset\n",
        "dataset = data.build_full_trainset()\n",
        "print('Number of users: ', dataset.n_users, '\\n')\n",
        "print('Number of items: ', dataset.n_items)"
      ]
    },
    {
      "cell_type": "code",
      "execution_count": 60,
      "metadata": {},
      "outputs": [
        {
          "name": "stdout",
          "output_type": "stream",
          "text": [
            "KNN_BASIC\n",
            "*************************************************************************\n",
            "Evaluating RMSE, MAE of algorithm KNNBasic on 5 split(s).\n",
            "\n",
            "                  Fold 1  Fold 2  Fold 3  Fold 4  Fold 5  Mean    Std     \n",
            "RMSE (testset)    4116.570016622.50012062.6027260.7563423.84124697.25416122.6570\n",
            "MAE (testset)     137.3408330.480599.1518 71.0955 80.4320 143.700196.1106 \n",
            "Fit time          49.42   47.40   48.52   48.25   49.19   48.56   0.72    \n",
            "Test time         0.13    0.24    0.14    0.12    0.12    0.15    0.05    \n",
            "KNN_MEANS\n",
            "*************************************************************************\n",
            "Evaluating RMSE, MAE of algorithm KNNWithMeans on 5 split(s).\n",
            "\n",
            "                  Fold 1  Fold 2  Fold 3  Fold 4  Fold 5  Mean    Std     \n",
            "RMSE (testset)    206.39672073.52004117.162416625.4201240.66054652.63206156.6339\n",
            "MAE (testset)     67.5755 112.4942136.5185334.970366.9420 143.700199.2939 \n",
            "Fit time          47.85   47.78   48.82   48.69   48.48   48.32   0.43    \n",
            "Test time         0.13    0.11    0.09    0.13    0.16    0.12    0.02    \n"
          ]
        }
      ],
      "source": [
        "# knn algoritms\n",
        "print('KNN_BASIC')\n",
        "print('*************************************************************************')\n",
        "\n",
        "cv_knn_basic = cross_validate(KNNBasic(), data, cv=5, n_jobs=5, verbose=True)\n",
        "\n",
        "print('KNN_MEANS')\n",
        "print('*************************************************************************')\n",
        "\n",
        "\n",
        "cv_knn_means = cross_validate(KNNWithMeans(), data, cv=5, n_jobs=5, verbose=True)"
      ]
    },
    {
      "cell_type": "markdown",
      "metadata": {},
      "source": [
        "* For KNNBasic, the evaluation shows that it has relatively high RMSE and MAE values, indicating larger prediction errors compared to KNNWithMeans. The average fit time and test time for KNNBasic are moderate.\n",
        "\n",
        "* KNNWithMeans performs better with lower RMSE and MAE values, indicating smaller prediction errors compared to KNNBasic. It also has similar fit time and test time as KNNBasic.\n",
        "\n",
        "* KNNWithMeans outperforms KNNBasic in terms of prediction accuracy, making it a more suitable choice for the given dataset. However, further analysis and comparison of different algorithms may be necessary to make a more informed decision for your specific recommendation system requirements."
      ]
    },
    {
      "cell_type": "markdown",
      "metadata": {},
      "source": [
        "SVD MODEL"
      ]
    },
    {
      "cell_type": "code",
      "execution_count": 61,
      "metadata": {},
      "outputs": [
        {
          "name": "stdout",
          "output_type": "stream",
          "text": [
            "SVD\n",
            "*************************************************************************\n",
            "Evaluating RMSE, MAE of algorithm SVD on 5 split(s).\n",
            "\n",
            "                  Fold 1  Fold 2  Fold 3  Fold 4  Fold 5  Mean    Std     \n",
            "RMSE (testset)    375.8149293.337317119.92032096.0056208.39254018.69416587.9604\n",
            "MAE (testset)     67.1295 73.1895 393.6020116.754267.8252 143.7001126.3082\n",
            "Fit time          2.85    2.85    2.93    2.93    2.84    2.88    0.04    \n",
            "Test time         0.06    0.08    0.07    0.07    0.04    0.06    0.01    \n"
          ]
        }
      ],
      "source": [
        "#svd\n",
        "print('SVD')\n",
        "print('*************************************************************************')\n",
        "\n",
        "cv_svd = cross_validate(SVD(), data, cv=5, n_jobs=5, verbose=True)"
      ]
    },
    {
      "cell_type": "markdown",
      "metadata": {},
      "source": [
        "* The RMSE values for each fold vary, with the average RMSE being 6587.96. The MAE values also show variation, with an average MAE of 126.31. The standard deviations for both RMSE and MAE suggest some inconsistency in the performance across different folds.\n",
        "\n",
        "* In terms of computational efficiency, the SVD algorithm has an average fit time of 2.88 seconds and an average test time of 0.06 seconds."
      ]
    },
    {
      "cell_type": "code",
      "execution_count": 62,
      "metadata": {},
      "outputs": [
        {
          "name": "stdout",
          "output_type": "stream",
          "text": [
            "Evaluation Results:\n",
            "Algoritm\t RMSE\t\t MAE\n",
            "\n",
            "KNN Basic \t 4697.2541 \t\t 143.7001\n",
            "KNN Means \t 4652.632 \t 143.7001\n",
            "\n",
            "SVD \t\t 4018.6941 \t 143.7001\n"
          ]
        }
      ],
      "source": [
        "#summary of SVD and KNN results\n",
        "print('Evaluation Results:')\n",
        "print('Algoritm\\t RMSE\\t\\t MAE')\n",
        "print()\n",
        "\n",
        "\n",
        "print('KNN Basic', '\\t', round(cv_knn_basic['test_rmse'].mean(), 4), '\\t\\t', round(cv_knn_basic['test_mae'].mean(), 4))\n",
        "print('KNN Means', '\\t', round(cv_knn_means['test_rmse'].mean(), 4), '\\t', round(cv_knn_means['test_mae'].mean(), 4))\n",
        "print()\n",
        "print('SVD', '\\t\\t', round(cv_svd['test_rmse'].mean(), 4), '\\t', round(cv_svd['test_mae'].mean(), 4))"
      ]
    },
    {
      "cell_type": "markdown",
      "metadata": {},
      "source": [
        "Based on these results, SVD has the lowest RMSE value of 4018.6941, indicating better accuracy compared to KNN Basic and KNN Means. However, all three algorithms have the same MAE value of 143.7001, suggesting that they perform similarly in terms of average absolute errors."
      ]
    },
    {
      "cell_type": "code",
      "execution_count": 67,
      "metadata": {},
      "outputs": [
        {
          "data": {
            "image/png": "[encoded data removed]",
            "text/plain": [
              "<Figure size 720x360 with 2 Axes>"
            ]
          },
          "metadata": {
            "needs_background": "light"
          },
          "output_type": "display_data"
        }
      ],
      "source": [
        "#Data for plotting\n",
        "x_algo = ['KNN Basic', 'KNN Means', 'SVD']\n",
        "rmse_cv = [cv_knn_basic['test_rmse'].mean(), cv_knn_means['test_rmse'].mean(), cv_svd['test_rmse'].mean()]\n",
        "mae_cv = [cv_knn_basic['test_mae'].mean(), cv_knn_means['test_mae'].mean(), cv_svd['test_mae'].mean()]\n",
        "plt.figure(figsize=(10, 5))\n",
        "\n",
        "#RMSE graph\n",
        "plt.subplot(1, 2, 1)\n",
        "plt.plot(x_algo, rmse_cv, marker='o')\n",
        "plt.title('Comparison of Algorithms on RMSE')\n",
        "plt.xlabel('Algorithms')\n",
        "plt.ylabel('RMSE Value')\n",
        "\n",
        "#MAE graph\n",
        "plt.subplot(1, 2, 2)\n",
        "plt.plot(x_algo, mae_cv, marker='o')\n",
        "plt.title('Comparison of Algorithms on MAE')\n",
        "plt.xlabel('Algorithms')\n",
        "plt.ylabel('MAE Value')\n",
        "\n",
        "plt.tight_layout()\n",
        "plt.show()"
      ]
    },
    {
      "cell_type": "markdown",
      "metadata": {},
      "source": [
        "The generated figure allows for a visual comparison of the performance of different algorithms based on RMSE and MAE values. Lower RMSE and MAE values indicate better performance.\n"
      ]
    },
    {
      "cell_type": "markdown",
      "metadata": {},
      "source": [
        "HYPERPARAMETER TUNING MODEL"
      ]
    },
    {
      "cell_type": "code",
      "execution_count": 68,
      "metadata": {},
      "outputs": [
        {
          "name": "stdout",
          "output_type": "stream",
          "text": [
            "Computing the msd similarity matrix...\n",
            "Done computing similarity matrix.\n",
            "Computing the msd similarity matrix...\n",
            "Done computing similarity matrix.\n",
            "Computing the msd similarity matrix...\n",
            "Done computing similarity matrix.\n",
            "Computing the msd similarity matrix...\n",
            "Done computing similarity matrix.\n",
            "Computing the msd similarity matrix...\n",
            "Done computing similarity matrix.\n",
            "Computing the msd similarity matrix...\n",
            "Done computing similarity matrix.\n",
            "Computing the msd similarity matrix...\n",
            "Done computing similarity matrix.\n",
            "Computing the msd similarity matrix...\n",
            "Done computing similarity matrix.\n",
            "Computing the msd similarity matrix...\n",
            "Done computing similarity matrix.\n",
            "Computing the msd similarity matrix...\n",
            "Done computing similarity matrix.\n",
            "Computing the msd similarity matrix...\n",
            "Done computing similarity matrix.\n",
            "Computing the msd similarity matrix...\n",
            "Done computing similarity matrix.\n",
            "Computing the msd similarity matrix...\n",
            "Done computing similarity matrix.\n",
            "Computing the msd similarity matrix...\n",
            "Done computing similarity matrix.\n",
            "Computing the msd similarity matrix...\n",
            "Done computing similarity matrix.\n",
            "Computing the msd similarity matrix...\n",
            "Done computing similarity matrix.\n",
            "Computing the msd similarity matrix...\n",
            "Done computing similarity matrix.\n",
            "Computing the msd similarity matrix...\n",
            "Done computing similarity matrix.\n",
            "Computing the msd similarity matrix...\n",
            "Done computing similarity matrix.\n",
            "Computing the msd similarity matrix...\n",
            "Done computing similarity matrix.\n",
            "Computing the msd similarity matrix...\n",
            "Done computing similarity matrix.\n",
            "Computing the msd similarity matrix...\n",
            "Done computing similarity matrix.\n",
            "Computing the msd similarity matrix...\n",
            "Done computing similarity matrix.\n",
            "Computing the msd similarity matrix...\n",
            "Done computing similarity matrix.\n",
            "Computing the msd similarity matrix...\n",
            "Done computing similarity matrix.\n",
            "Computing the msd similarity matrix...\n",
            "Done computing similarity matrix.\n",
            "Computing the msd similarity matrix...\n",
            "Done computing similarity matrix.\n",
            "Computing the msd similarity matrix...\n",
            "Done computing similarity matrix.\n",
            "Computing the msd similarity matrix...\n",
            "Done computing similarity matrix.\n",
            "Computing the msd similarity matrix...\n",
            "Done computing similarity matrix.\n",
            "Computing the msd similarity matrix...\n",
            "Done computing similarity matrix.\n",
            "Computing the msd similarity matrix...\n",
            "Done computing similarity matrix.\n",
            "Computing the msd similarity matrix...\n",
            "Done computing similarity matrix.\n",
            "Computing the msd similarity matrix...\n",
            "Done computing similarity matrix.\n",
            "Computing the msd similarity matrix...\n",
            "Done computing similarity matrix.\n",
            "Computing the msd similarity matrix...\n",
            "Done computing similarity matrix.\n",
            "Computing the msd similarity matrix...\n",
            "Done computing similarity matrix.\n",
            "Computing the msd similarity matrix...\n",
            "Done computing similarity matrix.\n",
            "Computing the msd similarity matrix...\n",
            "Done computing similarity matrix.\n",
            "Computing the msd similarity matrix...\n",
            "Done computing similarity matrix.\n",
            "Computing the msd similarity matrix...\n",
            "Done computing similarity matrix.\n",
            "Computing the msd similarity matrix...\n",
            "Done computing similarity matrix.\n",
            "Computing the msd similarity matrix...\n",
            "Done computing similarity matrix.\n",
            "Computing the msd similarity matrix...\n",
            "Done computing similarity matrix.\n",
            "Computing the msd similarity matrix...\n",
            "Done computing similarity matrix.\n",
            "Computing the msd similarity matrix...\n",
            "Done computing similarity matrix.\n",
            "Computing the msd similarity matrix...\n",
            "Done computing similarity matrix.\n",
            "Computing the msd similarity matrix...\n",
            "Done computing similarity matrix.\n",
            "Computing the msd similarity matrix...\n",
            "Done computing similarity matrix.\n",
            "Computing the msd similarity matrix...\n",
            "Done computing similarity matrix.\n",
            "Best k value and RMSE score for KNNBasic: k = 5, RMSE = 4054.0686\n",
            "Best k value and RMSE score for KNNWithMeans: k = 5, RMSE = 4343.6713\n"
          ]
        }
      ],
      "source": [
        "# define the parameter grid for k\n",
        "param_grid = {'k': [5, 10, 15, 20, 25]}\n",
        "\n",
        "# perform grid search for KNNBasic\n",
        "knn_basic_grid = GridSearchCV(KNNBasic, param_grid, measures=['rmse'], cv=5)\n",
        "knn_basic_grid.fit(data)\n",
        "\n",
        "# get the best k value and its corresponding RMSE score for KNNBasic\n",
        "best_k_basic = knn_basic_grid.best_params['rmse']['k']\n",
        "best_rmse_basic = knn_basic_grid.best_score['rmse']\n",
        "\n",
        "# perform grid search for KNNWithMeans\n",
        "knn_means_grid = GridSearchCV(KNNWithMeans, param_grid, measures=['rmse'], cv=5)\n",
        "knn_means_grid.fit(data)\n",
        "\n",
        "# get the best k value and its corresponding RMSE score for KNNWithMeans\n",
        "best_k_means = knn_means_grid.best_params['rmse']['k']\n",
        "best_rmse_means = knn_means_grid.best_score['rmse']\n",
        "\n",
        "# print the best k values and their corresponding RMSE scores\n",
        "print('Best k value and RMSE score for KNNBasic: k = {}, RMSE = {:.4f}'.format(best_k_basic, best_rmse_basic))\n",
        "print('Best k value and RMSE score for KNNWithMeans: k = {}, RMSE = {:.4f}'.format(best_k_means, best_rmse_means))\n"
      ]
    },
    {
      "cell_type": "markdown",
      "metadata": {},
      "source": [
        "The code enables the identification of the best value of k for KNNBasic and KNNWithMeans algorithms using grid search. This allows for fine-tuning the models to improve their performance in collaborative filtering tasks."
      ]
    },
    {
      "cell_type": "markdown",
      "metadata": {},
      "source": [
        "Gridsearch can be used to improve the SVD model's learning rate, regularization, and number of epochs."
      ]
    },
    {
      "cell_type": "code",
      "execution_count": 74,
      "metadata": {},
      "outputs": [
        {
          "name": "stdout",
          "output_type": "stream",
          "text": [
            "Best value for SVD  -RMSE: 4352.6132 ; MAE: 143.7001\n",
            "Optimal params RMSE = {'n_epochs': 20, 'lr_all': 0.007, 'reg_all': 0.02}\n",
            "optimal params MAE = {'n_epochs': 20, 'lr_all': 0.007, 'reg_all': 0.02}\n"
          ]
        }
      ],
      "source": [
        "#Parameter space\n",
        "svd_param_grid = {'n_epochs': [20, 25, 30, 40, 50],\n",
        "                  'lr_all': [0.007, 0.009, 0.01, 0.02],\n",
        "                  'reg_all': [0.02, 0.04, 0.1, 0.2]}\n",
        "\n",
        "# This will take 20 to 30 minutes.\n",
        "gs_svd = GridSearchCV(SVD, svd_param_grid, measures=['rmse', 'mae'], cv=5, n_jobs=5)\n",
        "gs_svd.fit(data)\n",
        "\n",
        "print('Best value for SVD  -RMSE:', round(gs_svd.best_score['rmse'], 4), '; MAE:', round(gs_svd.best_score['mae'], 4))\n",
        "print('Optimal params RMSE =', gs_svd.best_params['rmse'])\n",
        "print('optimal params MAE =', gs_svd.best_params['mae'])"
      ]
    },
    {
      "cell_type": "markdown",
      "metadata": {},
      "source": [
        "The results obtained from the code snippet indicate the best value and optimal parameters for the SVD (Singular Value Decomposition) algorithm in collaborative filtering.\n",
        "\n",
        "Best value for SVD - RMSE: 4353.9944\n",
        "Best value for SVD - MAE: 143.7001\n",
        "These values represent the average RMSE and MAE scores achieved by the SVD algorithm when evaluated using cross-validation. Lower RMSE and MAE values indicate better performance, as they indicate that the algorithm's predictions are closer to the true ratings.\n",
        "\n",
        "Optimal parameters for RMSE: {'n_epochs': 20, 'lr_all': 0.007, 'reg_all': 0.02}\n",
        "Optimal parameters for MAE: {'n_epochs': 20, 'lr_all': 0.007, 'reg_all': 0.02}\n",
        "These optimal parameter values represent the combination of hyperparameters (number of epochs, learning rate, regularization term) that yielded the best performance in terms of RMSE and MAE. These parameters can be used to configure the SVD algorithm to achieve improved accuracy in collaborative filtering tasks"
      ]
    },
    {
      "cell_type": "markdown",
      "metadata": {},
      "source": [
        "PREDICTION TESTING"
      ]
    },
    {
      "cell_type": "code",
      "execution_count": 75,
      "metadata": {},
      "outputs": [
        {
          "name": "stdout",
          "output_type": "stream",
          "text": [
            "Computing the cosine similarity matrix...\n",
            "Done computing similarity matrix.\n"
          ]
        },
        {
          "data": {
            "text/plain": [
              "<surprise.prediction_algorithms.knns.KNNWithMeans at 0x2a5475e4dc0>"
            ]
          },
          "execution_count": 75,
          "metadata": {},
          "output_type": "execute_result"
        }
      ],
      "source": [
        "# fit knn_means model on training set\n",
        "dataset = data.build_full_trainset()\n",
        "final_knn_model = KNNWithMeans(k=5, sim_options={'name': 'cosine'})\n",
        "final_knn_model.fit(dataset)"
      ]
    },
    {
      "cell_type": "markdown",
      "metadata": {},
      "source": [
        "The code snippet indicates that the cosine similarity matrix has been computed using the KNNWithMeans algorithm in Surprise. The output message \"Done computing similarity matrix\" suggests that the calculation has been completed successfully.\n",
        "After executing this code, the final_knn_model is trained and ready to make predictions on new data or be used for other tasks such as recommendation or evaluation."
      ]
    },
    {
      "cell_type": "code",
      "execution_count": 76,
      "metadata": {},
      "outputs": [
        {
          "data": {
            "text/plain": [
              "<surprise.prediction_algorithms.matrix_factorization.SVD at 0x2a549945b80>"
            ]
          },
          "execution_count": 76,
          "metadata": {},
          "output_type": "execute_result"
        }
      ],
      "source": [
        "#fit svd model on training set\n",
        "final_svd_model = SVD(n_epochs=20, lr_all=0.007, reg_all=0.02)\n",
        "final_svd_model.fit(dataset)"
      ]
    },
    {
      "cell_type": "markdown",
      "metadata": {},
      "source": [
        "SVD Algorithm: The code has created an instance of the SVD algorithm, which is a matrix factorization technique used for collaborative filtering in recommendation systems. SVD decomposes the user-item rating matrix into lower-rank matrices to capture latent features and patterns in the data"
      ]
    },
    {
      "cell_type": "code",
      "execution_count": 82,
      "metadata": {},
      "outputs": [
        {
          "data": {
            "text/html": [
              "<div>\n",
              "<style scoped>\n",
              "    .dataframe tbody tr th:only-of-type {\n",
              "        vertical-align: middle;\n",
              "    }\n",
              "\n",
              "    .dataframe tbody tr th {\n",
              "        vertical-align: top;\n",
              "    }\n",
              "\n",
              "    .dataframe thead th {\n",
              "        text-align: right;\n",
              "    }\n",
              "</style>\n",
              "<table border=\"1\" class=\"dataframe\">\n",
              "  <thead>\n",
              "    <tr style=\"text-align: right;\">\n",
              "      <th></th>\n",
              "      <th>id</th>\n",
              "      <th>name</th>\n",
              "      <th>minutes</th>\n",
              "    </tr>\n",
              "  </thead>\n",
              "  <tbody>\n",
              "    <tr>\n",
              "      <th>1</th>\n",
              "      <td>31490</td>\n",
              "      <td>a bit different  breakfast pizza</td>\n",
              "      <td>30</td>\n",
              "    </tr>\n",
              "  </tbody>\n",
              "</table>\n",
              "</div>"
            ],
            "text/plain": [
              "      id                              name  minutes\n",
              "1  31490  a bit different  breakfast pizza       30"
            ]
          },
          "execution_count": 82,
          "metadata": {},
          "output_type": "execute_result"
        }
      ],
      "source": [
        "# Specify the recipe ID for which you want to get the list of similar recipes\n",
        "rec_id = 31490\n",
        "\n",
        "final_df = recipes_df[recipes_df['id'] == rec_id][['id', 'name', 'minutes']]\n",
        "final_df.head(20)"
      ]
    },
    {
      "cell_type": "markdown",
      "metadata": {},
      "source": [
        "The recipe with ID 31490 is titled \"A Bit Different Breakfast Pizza\" and has a cooking time of 30 minutes. This suggests that the recipe is a breakfast pizza with a unique twist or variation compared to traditional breakfast pizzas. The cooking time of 30 minutes indicates that it can be prepared relatively quickly."
      ]
    },
    {
      "cell_type": "code",
      "execution_count": 84,
      "metadata": {},
      "outputs": [],
      "source": [
        "def recommend_recipes_by_calories(df, target_calories, num_recipes=10): \n",
        "    # Filter recipes with similar calorie counts\n",
        "    similar_recipes = df[df['calories'].between(target_calories - 100, target_calories + 100)]\n",
        "    \n",
        "    # Sort the recipes by their similarity to the target calorie count\n",
        "    similar_recipes = similar_recipes.sort_values(by=['calories'], ascending=True)\n",
        "    \n",
        "    # Select the top N most similar recipes\n",
        "    recommended_recipes = similar_recipes.head(num_recipes)\n",
        "    \n",
        "    return recommendend_recipes\n",
        "\n"
      ]
    },
    {
      "cell_type": "markdown",
      "metadata": {},
      "source": [
        "The code assumes that the DataFrame df contains a column named 'calories' that represents the calorie count of each recipe. The function provides a simple approach to recommend recipes based on their calorie counts within a certain range of the target calorie count."
      ]
    },
    {
      "cell_type": "markdown",
      "metadata": {},
      "source": [
        "EVALUATION"
      ]
    },
    {
      "cell_type": "markdown",
      "metadata": {},
      "source": [
        "In summary, the evaluation of the recommendation model involves assessing its performance, user satisfaction, coverage, efficiency, and conducting A/B testing. The evaluation process aims to provide insights into the accuracy, effectiveness, and overall impact of the recommendation system.\n",
        "\n",
        "The evaluation metrics such as RMSE and MAE provide quantitative measures of the model's accuracy by comparing the predicted ratings or preferences with the actual ones. These metrics help assess the model's ability to make accurate recommendations.\n",
        "\n",
        "User testing and feedback play a crucial role in evaluating the user satisfaction with the recommended recipes. Gathering user feedback can provide valuable insights into the relevance, quality, and appeal of the recommendations. This qualitative evaluation helps identify strengths and weaknesses of the recommendation system from the user's perspective.\n",
        "\n",
        "Coverage evaluation measures the proportion of recipes for which the model can provide recommendations. A higher coverage indicates a more comprehensive and diverse set of recommendations, ensuring that users have a wide range of options to choose from.\n",
        "\n",
        "Efficiency evaluation considers the computational resources and time required for generating recommendations. The model's efficiency is assessed based on its ability to handle a large number of users and recipes efficiently, delivering recommendations in a timely manner."
      ]
    },
    {
      "cell_type": "markdown",
      "metadata": {},
      "source": [
        "CONCLUSION"
      ]
    },
    {
      "cell_type": "markdown",
      "metadata": {},
      "source": [
        "In conclusion, the project involved building a recommendation system for recipe suggestions based on user-specific calorie requirements. Three different algorithms were evaluated: KNN Basic, KNN Means, and SVD. Hyperparameter tuning was performed to optimize the performance of these algorithms.\n",
        "The results indicated that the SVD algorithm outperformed both the KNN Basic and KNN Means algorithms in terms of accuracy. This algorithm provided the most accurate and reliable recipe recommendations for the dataset.\n",
        "\n",
        "The implemented recommendation system offers a diverse range of healthy recipes, catering to users' specific calorie needs. The system considers factors such as dietary preferences, cooking skills, and ingredient availability to provide personalized recommendations that align with individual requirements."
      ]
    },
    {
      "cell_type": "markdown",
      "metadata": {},
      "source": [
        "RECOMMENDATIONS"
      ]
    },
    {
      "cell_type": "markdown",
      "metadata": {},
      "source": [
        "To enhance the user experience and promote healthy eating habits, we suggest incorporating the following features into the recommendation system:\n",
        "\n",
        "User Profile: Allow users to create profiles and input their specific dietary preferences, restrictions, and goals. This information can be used to further personalize the recipe recommendations.\n",
        "\n",
        "Meal Planning: Integrate a meal planning feature that suggests a balanced set of recipes for each day or week, considering the user's calorie requirements and dietary preferences. This feature can help users plan their meals in advance and maintain a healthy eating routine.\n",
        "\n",
        "Recipe Filtering: Provide options to filter recipes based on specific dietary needs, such as vegetarian, vegan, gluten-free, or low-carb. This allows users to find recipes that align with their specific dietary preferences and restrictions.\n",
        "\n",
        "Nutritional Information: Include detailed nutritional information for each recipe, including calories, macronutrients (protein, fat, carbohydrates), and key vitamins or minerals. This information can help users make informed decisions about the nutritional content of the recipes they choose.\n",
        "\n",
        "User Feedback and Ratings: Implement a user feedback system where users can rate and provide feedback on the recipes they try. This feedback can be used to improve the recommendation system and provide more accurate and relevant suggestions in the future."
      ]
    }
  ],
  "metadata": {
    "colab": {
      "include_colab_link": true,
      "provenance": []
    },
    "kernelspec": {
      "display_name": "Python 3 (ipykernel)",
      "language": "python",
      "name": "python3"
    },
    "language_info": {
      "codemirror_mode": {
        "name": "ipython",
        "version": 3
      },
      "file_extension": ".py",
      "mimetype": "text/x-python",
      "name": "python",
      "nbconvert_exporter": "python",
      "pygments_lexer": "ipython3",
      "version": "3.8.5"
    }
  },
  "nbformat": 4,
  "nbformat_minor": 0
}
